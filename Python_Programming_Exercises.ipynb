{
  "nbformat": 4,
  "nbformat_minor": 0,
  "metadata": {
    "colab": {
      "provenance": [],
      "authorship_tag": "ABX9TyM4HmK+rWSFkMEPxAUnzFuH",
      "include_colab_link": true
    },
    "kernelspec": {
      "name": "python3",
      "display_name": "Python 3"
    },
    "language_info": {
      "name": "python"
    }
  },
  "cells": [
    {
      "cell_type": "markdown",
      "metadata": {
        "id": "view-in-github",
        "colab_type": "text"
      },
      "source": [
        "<a href=\"https://colab.research.google.com/github/pritish-tripathy-aiml/Core-Python-Programming/blob/main/Python_Programming_Exercises.ipynb\" target=\"_parent\"><img src=\"https://colab.research.google.com/assets/colab-badge.svg\" alt=\"Open In Colab\"/></a>"
      ]
    },
    {
      "cell_type": "markdown",
      "source": [
        "##**Python Programming Exercises**"
      ],
      "metadata": {
        "id": "cPMx8PpGqV9z"
      }
    },
    {
      "cell_type": "markdown",
      "source": [
        "###**1. Python Program to find Area of a Rectangle**"
      ],
      "metadata": {
        "id": "IiUQ6hBbp9IK"
      }
    },
    {
      "cell_type": "code",
      "source": [
        "# Python Program to Find Area of a Rectangle\n",
        "'''\n",
        "area = length * breadth\n",
        "'''\n",
        "length = int(input(\"Enter Length: \"))\n",
        "breadth = int(input(\"Enter Breadth: \"))\n",
        "area = length * breadth\n",
        "print(\"Area of Rectangle =\",area,\"Sq.M\")"
      ],
      "metadata": {
        "colab": {
          "base_uri": "https://localhost:8080/"
        },
        "id": "1gd_2wviqgpt",
        "outputId": "a4ddd2c4-a1c0-44f8-9fe9-58181a09cb29"
      },
      "execution_count": null,
      "outputs": [
        {
          "output_type": "stream",
          "name": "stdout",
          "text": [
            "Enter Length: 12\n",
            "Enter Breadth: 5\n",
            "Area of Rectangle = 60 Sq.M\n"
          ]
        }
      ]
    },
    {
      "cell_type": "markdown",
      "source": [
        "###**2. Python Program to find the Area of a Triangle**"
      ],
      "metadata": {
        "id": "0tQXriphqGG9"
      }
    },
    {
      "cell_type": "code",
      "source": [
        "# Python Program to Find the Area of a Triangle\n",
        "'''\n",
        "area = 1/2 * base * height\n",
        "'''\n",
        "base = int(input(\"Enter Base: \"))\n",
        "height = int(input(\"Enter Height: \"))\n",
        "area = 0.5 * base * height\n",
        "print(\"Area of Triangle =\",area,\"Sq.M\")"
      ],
      "metadata": {
        "colab": {
          "base_uri": "https://localhost:8080/"
        },
        "id": "rg8teInj5Wuj",
        "outputId": "6b697e38-b8fc-43ab-854d-aaf9d6e3236e"
      },
      "execution_count": null,
      "outputs": [
        {
          "output_type": "stream",
          "name": "stdout",
          "text": [
            "Enter Base: 10\n",
            "Enter Height: 5\n",
            "Area of Triangle = 25.0 Sq.M\n"
          ]
        }
      ]
    },
    {
      "cell_type": "markdown",
      "source": [
        "###**3. Python Program to Find Area of Trapezium**"
      ],
      "metadata": {
        "id": "yyo-5iRHqMhd"
      }
    },
    {
      "cell_type": "code",
      "source": [
        "# Python Program to Find Area of Trapezium\n",
        "'''\n",
        "area = 1/2(a + b)h\n",
        "'''\n",
        "side1 = int(input(\"Enter Side1: \"))\n",
        "side2 = int(input(\"Enter Side2: \"))\n",
        "height = int(input(\"Enter Height: \"))\n",
        "area = 0.5 * (side1 + side2) * height\n",
        "print(\"Area of Trapezium =\",area,\"Sq.M\")"
      ],
      "metadata": {
        "colab": {
          "base_uri": "https://localhost:8080/"
        },
        "id": "YPoA4uWz61rS",
        "outputId": "96ed09d8-ae45-4d12-9e1e-c1bc66282277"
      },
      "execution_count": null,
      "outputs": [
        {
          "output_type": "stream",
          "name": "stdout",
          "text": [
            "Enter Side1: 5\n",
            "Enter Side2: 10\n",
            "Enter Height: 7\n",
            "Area of Trapezium = 52.5 Sq.M\n"
          ]
        }
      ]
    },
    {
      "cell_type": "markdown",
      "source": [
        "###**4. Python Program to Find the Displacement**"
      ],
      "metadata": {
        "id": "H_IrM3uCqPu0"
      }
    },
    {
      "cell_type": "code",
      "source": [
        "# Python Program to Find the Displacement\n",
        "'''\n",
        "displacement = (v^2 - u^2)/2a\n",
        "'''\n",
        "u = int(input(\"Enter Initial Velocity: \"))\n",
        "v = int(input(\"Enter Final Velocity: \"))\n",
        "a = int(input(\"Enter Acceleration: \"))\n",
        "dis = ((v**2) - (u**2)) / (2*a)\n",
        "print(\"Displacement =\",dis,\"m\")"
      ],
      "metadata": {
        "colab": {
          "base_uri": "https://localhost:8080/"
        },
        "id": "HjXS7Hds7u4x",
        "outputId": "4f6a5751-5697-472b-c3c1-5d897b1b0770"
      },
      "execution_count": null,
      "outputs": [
        {
          "output_type": "stream",
          "name": "stdout",
          "text": [
            "Enter Initial Velocity: 5\n",
            "Enter Final Velocity: 20\n",
            "Enter Acceleration: 6\n",
            "Displacement = 31.25 m\n"
          ]
        }
      ]
    },
    {
      "cell_type": "markdown",
      "source": [
        "###**5. Python Program to Convert Kilometers to Miles**"
      ],
      "metadata": {
        "id": "wJ2gsnmPqRPj"
      }
    },
    {
      "cell_type": "code",
      "source": [
        "# Python Program to Convert Kilometers to Miles\n",
        "'''\n",
        "1 Km = 0.621371 miles\n",
        "'''\n",
        "km = float(input(\"Enter Distance in Kilometers:\"))\n",
        "mls = km * 0.621371\n",
        "print(\"Distance is =\",mls,\"miles\")"
      ],
      "metadata": {
        "colab": {
          "base_uri": "https://localhost:8080/"
        },
        "id": "wNq-OqA_8_TB",
        "outputId": "b178960d-f830-4f00-d585-39a1d20bde14"
      },
      "execution_count": null,
      "outputs": [
        {
          "output_type": "stream",
          "name": "stdout",
          "text": [
            "Enter Distance in Kilometers:20\n",
            "Distance is = 12.42742 miles\n"
          ]
        }
      ]
    },
    {
      "cell_type": "markdown",
      "source": [
        "###**6. Python Program to find Area of a Circle**"
      ],
      "metadata": {
        "id": "gCAnfjzgqSvk"
      }
    },
    {
      "cell_type": "code",
      "source": [
        "# Python Program to find Area of a Circle\n",
        "'''\n",
        "area = pi * radius * radius\n",
        "pi = 3.14159....\n",
        "'''\n",
        "import math as mt   # Importing Required Module for PI Value\n",
        "radius = float(input(\"Enter Radius of Circle:\"))\n",
        "area = mt.pi * radius * radius\n",
        "# area = mt.pi * radius * radius  you can use this as well\n",
        "print(\"Area of Circle=\",area,\"Sq. M\")"
      ],
      "metadata": {
        "colab": {
          "base_uri": "https://localhost:8080/"
        },
        "id": "5_OyVHZq93Uz",
        "outputId": "d1fc57e3-89e7-44ea-8053-3a7ecf33b7a0"
      },
      "execution_count": null,
      "outputs": [
        {
          "output_type": "stream",
          "name": "stdout",
          "text": [
            "Enter Radius of Circle:7\n",
            "Area of Circle= 153.93804002589985 Sq. M\n"
          ]
        }
      ]
    },
    {
      "cell_type": "markdown",
      "source": [
        "###**7. Python Program to Find Total Surface Area of Cuboid**"
      ],
      "metadata": {
        "id": "pGRdsmQfqUYF"
      }
    },
    {
      "cell_type": "code",
      "source": [
        "# Python Program to Find Total Surface Area of Cuboid\n",
        "'''\n",
        "surface area = 2 * (length * breadth + breath * height + length * height)\n",
        "'''\n",
        "len = float(input(\"Enter the Length:\"))\n",
        "brth = float(input(\"Enter the Breadth:\"))\n",
        "hgt = float(input(\"Enter the Height:\"))\n",
        "surfaceArea = 2 * ((len * brth) + (brth * hgt) + (len * hgt))\n",
        "print(\"Surface Area of Cuboid=\",surfaceArea,\"Sq. M\")"
      ],
      "metadata": {
        "colab": {
          "base_uri": "https://localhost:8080/"
        },
        "id": "rsFpPH7u-wZC",
        "outputId": "5eedf5ac-ad78-4422-c90f-08e9a53b44d1"
      },
      "execution_count": null,
      "outputs": [
        {
          "output_type": "stream",
          "name": "stdout",
          "text": [
            "Enter the Length:10\n",
            "Enter the Breadth:5\n",
            "Enter the Height:3\n",
            "Surface Area of Cuboid= 190.0 Sq. M\n"
          ]
        }
      ]
    },
    {
      "cell_type": "markdown",
      "source": [
        "###**8. Python Program to Find Roots of Quadratic Equations**"
      ],
      "metadata": {
        "id": "AkNLSD1KqV6V"
      }
    },
    {
      "cell_type": "code",
      "source": [
        "# Python Program to Find Roots of Quadratic Equations\n",
        "'''\n",
        "Example: ax^3 + bx + x = 0\n",
        "root1 = (-b + sqRoot. b^2 - 4ac)/2a\n",
        "root1 = (-b - sqRoot. b^2 - 4ac)/2a\n",
        "'''\n",
        "# import math as m   No need to import, if we imported it previously\n",
        "a = int(input(\"Enter the Value of a:\"))\n",
        "b = int(input(\"Enter the Value of b:\"))\n",
        "c = int(input(\"Enter the Value of c:\"))\n",
        "root1 = (-b + mt.sqrt((b**2) - (4*a*c)))/(2*a)\n",
        "root2 = (-b - mt.sqrt((b**2) - (4*a*c)))/(2*a)\n",
        "print(\"Roots of the Quadratic Equation are =\",root1,\"and\",root2)\n",
        "# If root gives negative values then it will give math domain error like 1,1 and 5"
      ],
      "metadata": {
        "colab": {
          "base_uri": "https://localhost:8080/"
        },
        "id": "mY3wlGIOAI2U",
        "outputId": "3f4bc67c-a870-4fda-e3a6-98d3716ed272"
      },
      "execution_count": null,
      "outputs": [
        {
          "output_type": "stream",
          "name": "stdout",
          "text": [
            "Enter the Value of a:1\n",
            "Enter the Value of b:-5\n",
            "Enter the Value of c:6\n",
            "Roots of the Quadratic Equation are = 3.0 and 2.0\n"
          ]
        }
      ]
    },
    {
      "cell_type": "markdown",
      "source": [
        "###**9. Python Program to find the Difference between two numbers**"
      ],
      "metadata": {
        "id": "aj2utqLrqXup"
      }
    },
    {
      "cell_type": "code",
      "source": [
        "# Find the Difference between two numbers\n",
        "'''\n",
        "Take Two Numbers as Input\n",
        "20 - 5 = 15\n",
        "5 - 15 = -15 (We have to print 15 Only because we want difference)\n",
        "'''\n",
        "a = int(input(\"Enter First Number: \"))\n",
        "b = int(input(\"Enter Second Number: \"))\n",
        "result1 = a - b\n",
        "result2 = b - a\n",
        "if(a>b):\n",
        "  print(\"Difference:\",result1)\n",
        "else:\n",
        "  print(\"Difference:\",result2)"
      ],
      "metadata": {
        "id": "rHjFbFelDhxL",
        "colab": {
          "base_uri": "https://localhost:8080/"
        },
        "outputId": "589ec9c0-74f4-45b1-8ef5-ff884293834a"
      },
      "execution_count": null,
      "outputs": [
        {
          "output_type": "stream",
          "name": "stdout",
          "text": [
            "Enter First Number: 5\n",
            "Enter Second Number: 20\n",
            "Difference: 15\n"
          ]
        }
      ]
    },
    {
      "cell_type": "markdown",
      "source": [
        "###**10. Python Program to check if a number is Odd or Even**"
      ],
      "metadata": {
        "id": "OtCaKE6TqZIK"
      }
    },
    {
      "cell_type": "code",
      "source": [
        "# Check if a number is Odd or Even\n",
        "'''\n",
        "If a Number is Divided by 2 and it gives 0 as remainder it is Even Number\n",
        "If a Number is Divided by 2 and it gives number other than 0 as remainder it is Odd Number\n",
        "'''\n",
        "num = int(input(\"Enter a Number: \"))\n",
        "if(num%2==0):\n",
        "  print(\"Number is Even\")\n",
        "else:\n",
        "  print(\"Number is Odd\")"
      ],
      "metadata": {
        "colab": {
          "base_uri": "https://localhost:8080/"
        },
        "id": "VaST66U4H5nd",
        "outputId": "00d6a43d-4984-4a00-818d-ecccab241b91"
      },
      "execution_count": null,
      "outputs": [
        {
          "output_type": "stream",
          "name": "stdout",
          "text": [
            "Enter a Number: 13\n",
            "Number is Odd\n"
          ]
        }
      ]
    },
    {
      "cell_type": "markdown",
      "source": [
        "###**11. Python Program to check Age Eligibily for Casting a Vote**"
      ],
      "metadata": {
        "id": "YUscPmWRqasN"
      }
    },
    {
      "cell_type": "code",
      "source": [
        "# Check Age Eligibily for Casting a Vote\n",
        "'''\n",
        "If age is greater than 18 or equal to 18, Eligible to Vote\n",
        "If age is less than 18 Not Eligible to Vote\n",
        "'''\n",
        "age = int(input(\"Enter your Age: \"))\n",
        "if(age>=18):\n",
        "  print(\"You can Vote\")\n",
        "else:\n",
        "  print(\"You cannot vote\")"
      ],
      "metadata": {
        "colab": {
          "base_uri": "https://localhost:8080/"
        },
        "id": "AXtoiYenJP2G",
        "outputId": "1b703f38-0578-4681-97a6-289dd8a46a89"
      },
      "execution_count": null,
      "outputs": [
        {
          "output_type": "stream",
          "name": "stdout",
          "text": [
            "Enter your Age: 17\n",
            "You cannot vote\n"
          ]
        }
      ]
    },
    {
      "cell_type": "markdown",
      "source": [
        "###**12. Python Program to check if marks of a Subject are withing range 0 - 100**"
      ],
      "metadata": {
        "id": "sQ_EEdTUqbxU"
      }
    },
    {
      "cell_type": "code",
      "source": [
        "# Check if marks of a Subject are withing range 0 - 100\n",
        "'''\n",
        "Valid marks should range from 0 to 100\n",
        "'''\n",
        "marks = float(input(\"Enter the Marks: \"))\n",
        "if(marks>0 and marks<=100):\n",
        "  print(\"Valid Marks\")\n",
        "else:\n",
        "  print(\"Invalid Marks\")"
      ],
      "metadata": {
        "colab": {
          "base_uri": "https://localhost:8080/"
        },
        "id": "GfU-WSA6J1QF",
        "outputId": "05f41d50-0e62-476c-b762-6c68ff643049"
      },
      "execution_count": null,
      "outputs": [
        {
          "output_type": "stream",
          "name": "stdout",
          "text": [
            "Enter the Marks: 78.5\n",
            "Valid Marks\n"
          ]
        }
      ]
    },
    {
      "cell_type": "markdown",
      "source": [
        "###**13.Python Program to check if a Person is Male or Female**"
      ],
      "metadata": {
        "id": "SzQfi-OfqdNW"
      }
    },
    {
      "cell_type": "code",
      "source": [
        "# Check if a Person is 'Male' or 'Female'\n",
        "'''\n",
        "If input is m or M -> Male\n",
        "If input is f or F -> Female\n",
        "If input is other than that -> Invalid Choice\n",
        "'''\n",
        "gender = input(\"Enter your Gender: \")\n",
        "if(gender=='M' or gender=='m'):\n",
        "  print(\"You are Male\")\n",
        "elif(gender=='F' or gender=='f'):\n",
        "  print(\"You are Female\")\n",
        "else:\n",
        "  print(\"Invalid Choice\")"
      ],
      "metadata": {
        "colab": {
          "base_uri": "https://localhost:8080/"
        },
        "id": "ZnM8l59SLJqw",
        "outputId": "f7572140-3a75-48fb-fead-9566c32d5e31"
      },
      "execution_count": null,
      "outputs": [
        {
          "output_type": "stream",
          "name": "stdout",
          "text": [
            "Enter your Gender: m\n",
            "You are Male\n"
          ]
        }
      ]
    },
    {
      "cell_type": "markdown",
      "source": [
        "###**14. Python Program to check if a Person is Eligible to Work or Not**"
      ],
      "metadata": {
        "id": "fG15iDkXqfKE"
      }
    },
    {
      "cell_type": "code",
      "source": [
        "# Check if a Person is Eligible to Work or Not\n",
        "'''\n",
        "If a Person age is between 18 to 60 then eligible for work\n",
        "if not then not eligible for work\n",
        "'''\n",
        "age = int(input(\"Enter your Age: \"))\n",
        "if(age>=18 and age<=60):\n",
        "  print(\"You are Eligible for Work\")\n",
        "else:\n",
        "  print(\"You are not Eligible for Work\")"
      ],
      "metadata": {
        "colab": {
          "base_uri": "https://localhost:8080/"
        },
        "id": "FB5NwVP0MeHP",
        "outputId": "b0b21c15-facd-423a-8024-46dfb9a051ff"
      },
      "execution_count": null,
      "outputs": [
        {
          "output_type": "stream",
          "name": "stdout",
          "text": [
            "Enter your Age: 16\n",
            "You are not Eligible for Work\n"
          ]
        }
      ]
    },
    {
      "cell_type": "markdown",
      "source": [
        "###**15. Python Program to check if a student has passed or failed by taking marks in 3 Subjects**"
      ],
      "metadata": {
        "id": "Al90iK9hqgRJ"
      }
    },
    {
      "cell_type": "code",
      "source": [
        "# Check if a student has passed or failed by taking marks in 3 Subjects\n",
        "'''\n",
        "Take marks in 3 Subjects if marks is greater than 45 in each subject then he passed or else fail\n",
        "'''\n",
        "mathsMarks = float(input(\"Enter your Maths marks: \"))\n",
        "phyMarks = float(input(\"Enter your Physics marks: \"))\n",
        "chemMarks = float(input(\"Enter your Chemistry marks: \"))\n",
        "if(mathsMarks>=45 and phyMarks>=45 and chemMarks>=45):\n",
        "  print(\"You have Passed\")\n",
        "else:\n",
        "  print(\"You have Failed\")"
      ],
      "metadata": {
        "colab": {
          "base_uri": "https://localhost:8080/"
        },
        "id": "5Tc3ChbLNsNp",
        "outputId": "10dd83a7-1f1f-4237-d8c7-4ebc37697fe4"
      },
      "execution_count": null,
      "outputs": [
        {
          "output_type": "stream",
          "name": "stdout",
          "text": [
            "Enter your Maths marks: 56\n",
            "Enter your Physics marks: 78\n",
            "Enter your Chemistry marks: 43\n",
            "You have Failed\n"
          ]
        }
      ]
    },
    {
      "cell_type": "markdown",
      "source": [
        "###**16. Python Program to check if a person is authorise for admin access**"
      ],
      "metadata": {
        "id": "sqUfaieXqhnS"
      }
    },
    {
      "cell_type": "code",
      "source": [
        "# Check if a person is authorise for admin access\n",
        "'''\n",
        "If a Person enters username as admin and password as myAdmin@123 then he can access the Admin\n",
        "'''\n",
        "username = input(\"Enter the Username: \")\n",
        "password = input(\"Enter the Password: \")\n",
        "if(username=='admin' and password=='myAdmin@123'):\n",
        "  print(\"You have the Admin Access\")\n",
        "else:\n",
        "  print(\"You are Not Authorized\")"
      ],
      "metadata": {
        "colab": {
          "base_uri": "https://localhost:8080/"
        },
        "id": "uXCeuNtEP9-L",
        "outputId": "2df99d95-c782-440d-c271-3af5bcee7b6f"
      },
      "execution_count": null,
      "outputs": [
        {
          "output_type": "stream",
          "name": "stdout",
          "text": [
            "Enter the Username: admin\n",
            "Enter the Password: myAdmin@123\n",
            "You have the Admin Access\n"
          ]
        }
      ]
    },
    {
      "cell_type": "markdown",
      "source": [
        "###**17. Python Program to check if a character is Vowel or Consonant**"
      ],
      "metadata": {
        "id": "ojOcsKIiqi2r"
      }
    },
    {
      "cell_type": "code",
      "source": [
        "# Check if a character is Vowel or Consonant\n",
        "'''\n",
        "If the Entered Character is A,E,I,O,U or a,e,i,o,u it is Vowel or else it is Consonant\n",
        "'''\n",
        "ch = input(\"Enter a Character: \")\n",
        "if(ch=='A' or ch=='E' or ch=='I' or ch=='O' or ch=='U' or ch=='a' or ch=='e' or ch=='i' or ch=='o' or ch=='u'):\n",
        "  print(\"Character is Vowel\")\n",
        "else:\n",
        "  print(\"Character is Consonant or Special Character\")\n"
      ],
      "metadata": {
        "colab": {
          "base_uri": "https://localhost:8080/"
        },
        "id": "7e3wByY6QqZP",
        "outputId": "5540c428-7320-4404-b778-a65aed7e3d29"
      },
      "execution_count": null,
      "outputs": [
        {
          "output_type": "stream",
          "name": "stdout",
          "text": [
            "Enter a Character: s\n",
            "Character is Consonant or Special Character\n"
          ]
        }
      ]
    },
    {
      "cell_type": "markdown",
      "source": [
        "###**18. Python Program to Calculate Discounted Amount**"
      ],
      "metadata": {
        "id": "e4BhiDY1qj9r"
      }
    },
    {
      "cell_type": "code",
      "source": [
        "# Calculate Discounted Amount\n",
        "'''\n",
        "amount <= 1000   Discount = 10%\n",
        "1000 < amount <= 5000   Discount = 20%\n",
        "5000 < amount <= 10000   Discount = 30%\n",
        "10000 < amount   Discount = 50%\n",
        "'''\n",
        "amount = int(input(\"Enter the Amount:\"))\n",
        "if(amount<=1000):\n",
        "  discount = amount * 0.1\n",
        "  disAmount = amount - discount\n",
        "  print(\"You have to Pay:\",disAmount)\n",
        "elif(amount>1000 and amount<=5000):\n",
        "  discount = amount * 0.2\n",
        "  disAmount = amount - discount\n",
        "  print(\"You have to Pay:\",disAmount)\n",
        "elif(amount>5000 and amount<=10000):\n",
        "  discount = amount * 0.3\n",
        "  disAmount = amount - discount\n",
        "  print(\"You have to Pay:\",disAmount)\n",
        "else:\n",
        "  discount = amount * 0.5\n",
        "  disAmount = amount - discount\n",
        "  print(\"You have to Pay:\",disAmount)"
      ],
      "metadata": {
        "colab": {
          "base_uri": "https://localhost:8080/"
        },
        "id": "z6uqK3f7Sq39",
        "outputId": "644def57-7e7e-407b-d9aa-2a803ca6dbc4"
      },
      "execution_count": null,
      "outputs": [
        {
          "output_type": "stream",
          "name": "stdout",
          "text": [
            "Enter the Amount:6000\n",
            "You have to Pay: 4200.0\n"
          ]
        }
      ]
    },
    {
      "cell_type": "markdown",
      "source": [
        "###**19. Python Program to take Day Number and Display Day Name**"
      ],
      "metadata": {
        "id": "ovKfWk9Rql1j"
      }
    },
    {
      "cell_type": "code",
      "source": [
        "# Take Day Number and Display Day Name\n",
        "day = int(input(\"Enter the Day Number:\"))\n",
        "if(day==1):\n",
        "  print(\"Sunday\")\n",
        "elif(day==2):\n",
        "  print(\"Monday\")\n",
        "elif(day==3):\n",
        "  print(\"Tuesday\")\n",
        "elif(day==4):\n",
        "  print(\"Wednesday\")\n",
        "elif(day==5):\n",
        "  print(\"Thursday\")\n",
        "elif(day==6):\n",
        "  print(\"Friday\")\n",
        "elif(day==7):\n",
        "  print(\"Saturday\")\n",
        "else:\n",
        "  print(\"Invalid Day\")"
      ],
      "metadata": {
        "colab": {
          "base_uri": "https://localhost:8080/"
        },
        "id": "J-22WVIydnqX",
        "outputId": "fb90ed0b-df3d-45a8-f241-f3392df31fbd"
      },
      "execution_count": null,
      "outputs": [
        {
          "output_type": "stream",
          "name": "stdout",
          "text": [
            "Enter the Day Number:4\n",
            "Wednesday\n"
          ]
        }
      ]
    },
    {
      "cell_type": "markdown",
      "source": [
        "###**20. Python Program to dispay Multiplication Table for a given Number**"
      ],
      "metadata": {
        "id": "2DFXGZq4qnE9"
      }
    },
    {
      "cell_type": "code",
      "source": [
        "# Dispay Multiplication Table for a given Number\n",
        "num = int(input(\"Enter a Number: \"))\n",
        "digit = 1\n",
        "while(digit<=10):\n",
        "  print(num,\"X\",digit,\"=\",(num*digit))\n",
        "  digit += 1\n",
        "print('Completed')\n"
      ],
      "metadata": {
        "id": "cSTmVM4ahCm8",
        "colab": {
          "base_uri": "https://localhost:8080/"
        },
        "outputId": "31573671-ffa2-4864-cba7-b10b10817e06"
      },
      "execution_count": null,
      "outputs": [
        {
          "output_type": "stream",
          "name": "stdout",
          "text": [
            "Enter a Number: 7\n",
            "7 X 1 = 7\n",
            "7 X 2 = 14\n",
            "7 X 3 = 21\n",
            "7 X 4 = 28\n",
            "7 X 5 = 35\n",
            "7 X 6 = 42\n",
            "7 X 7 = 49\n",
            "7 X 8 = 56\n",
            "7 X 9 = 63\n",
            "7 X 10 = 70\n",
            "Completed\n"
          ]
        }
      ]
    },
    {
      "cell_type": "markdown",
      "source": [
        "###**21. Python Program to count the number of Digits in a Number**"
      ],
      "metadata": {
        "id": "ssR-CFI4qo_j"
      }
    },
    {
      "cell_type": "code",
      "source": [
        "# Counting the number of Digits in a Number\n",
        "num = int(input(\"Enter a Number: \"))\n",
        "count = 0\n",
        "while(num>0):\n",
        "  num = num//10\n",
        "  count += 1\n",
        "print(\"Number of Digits: \",count)"
      ],
      "metadata": {
        "colab": {
          "base_uri": "https://localhost:8080/"
        },
        "id": "mPovVhJFGA_J",
        "outputId": "c66cf81d-a7f7-4c3a-9564-06a2a1bf436f"
      },
      "execution_count": null,
      "outputs": [
        {
          "output_type": "stream",
          "name": "stdout",
          "text": [
            "Enter a Number: 436436\n",
            "Number of Digits:  6\n"
          ]
        }
      ]
    },
    {
      "cell_type": "markdown",
      "source": [
        "###**22. Python Program to find the Sum of the Digits in a Number**"
      ],
      "metadata": {
        "id": "KX8AaM0zqqco"
      }
    },
    {
      "cell_type": "code",
      "source": [
        "# Find the Sum of the Digits in a Number\n",
        "num = int(input(\"Enter a Number\"))\n",
        "sum = 0\n",
        "while(num>0):\n",
        "  digit = num%10\n",
        "  num = num//10\n",
        "  sum = sum + digit\n",
        "print(\"Sum of the Digits:\",sum)"
      ],
      "metadata": {
        "colab": {
          "base_uri": "https://localhost:8080/"
        },
        "id": "Hss9L1kTIOlx",
        "outputId": "df2dde6c-8d99-40e3-e879-53c73bcb32e7"
      },
      "execution_count": null,
      "outputs": [
        {
          "output_type": "stream",
          "name": "stdout",
          "text": [
            "Enter a Number325523\n",
            "Sum of the Digits: 20\n"
          ]
        }
      ]
    },
    {
      "cell_type": "markdown",
      "source": [
        "###**23. Python Program to Reverse a Number**"
      ],
      "metadata": {
        "id": "y6Gad9bSqrvT"
      }
    },
    {
      "cell_type": "code",
      "source": [
        "# Reverse a Number\n",
        "num = int(input(\"Enter a Number: \"))\n",
        "rev = 0\n",
        "while(num>0):\n",
        " r = num % 10\n",
        " num = num // 10\n",
        " rev = rev * 10 + r\n",
        "print(\"Reverse of the Number:\",rev)"
      ],
      "metadata": {
        "colab": {
          "base_uri": "https://localhost:8080/"
        },
        "id": "BBiGkpo2JpBZ",
        "outputId": "b07568d0-5520-4562-d56d-f61432bcb6fa"
      },
      "execution_count": null,
      "outputs": [
        {
          "output_type": "stream",
          "name": "stdout",
          "text": [
            "Enter a Number: 12456\n",
            "Reverse of the Number: 65421\n"
          ]
        }
      ]
    },
    {
      "cell_type": "markdown",
      "source": [
        "###**24. Python Program to check for Palindrome Number**"
      ],
      "metadata": {
        "id": "u8l10FbPqs6V"
      }
    },
    {
      "cell_type": "code",
      "source": [
        "# Write a Program to check for Palindrome Number\n",
        "num = int(input(\"Enter a Number:\"))\n",
        "m = num\n",
        "rev = 0\n",
        "while(num>0):\n",
        " r = num % 10\n",
        " num = num // 10\n",
        " rev = rev * 10 + r\n",
        "if(m==rev):\n",
        "  print('It is a Palindrome Number')\n",
        "else:\n",
        "  print('It is not Palindrome Number')"
      ],
      "metadata": {
        "colab": {
          "base_uri": "https://localhost:8080/"
        },
        "id": "37WPIYx4RRYq",
        "outputId": "1405f6c5-171d-43a5-fc91-3a6837ce7e29"
      },
      "execution_count": null,
      "outputs": [
        {
          "output_type": "stream",
          "name": "stdout",
          "text": [
            "Enter a Number:1221\n",
            "It is a Palindrome Number\n"
          ]
        }
      ]
    },
    {
      "cell_type": "markdown",
      "source": [
        "###**25. Python Program to find the Sum of given numbers as Input**"
      ],
      "metadata": {
        "id": "K6fI0OLFquyR"
      }
    },
    {
      "cell_type": "code",
      "source": [
        "# Find the Sum of given numbers as Input\n",
        "numNos = int(input(\"Enter the Number of Inputs: \"))\n",
        "counter = 1\n",
        "sum = 0\n",
        "while(counter<=numNos):\n",
        "  myNos = int(input(\"Enter the Number: \"))\n",
        "  sum = sum + myNos\n",
        "  counter += 1\n",
        "print(\"Sum of the Numbers:\",sum)"
      ],
      "metadata": {
        "colab": {
          "base_uri": "https://localhost:8080/"
        },
        "id": "HEmWWsbtWftN",
        "outputId": "594ac6ee-7c8f-426d-dac2-d94843f6c034"
      },
      "execution_count": null,
      "outputs": [
        {
          "output_type": "stream",
          "name": "stdout",
          "text": [
            "Enter the Number of Inputs: 10\n",
            "Enter the Number: 56\n",
            "Enter the Number: 234\n",
            "Enter the Number: 685\n",
            "Enter the Number: 141\n",
            "Enter the Number: 425\n",
            "Enter the Number: 897\n",
            "Enter the Number: 346\n",
            "Enter the Number: 141\n",
            "Enter the Number: 564\n",
            "Enter the Number: 998\n",
            "Sum of the Numbers: 4487\n"
          ]
        }
      ]
    },
    {
      "cell_type": "markdown",
      "source": [
        "###**26. Python Program to find the Sum of Postive and Negative numbers from  given Numbers**"
      ],
      "metadata": {
        "id": "fZ0Se8UAqw1F"
      }
    },
    {
      "cell_type": "code",
      "source": [
        "# Find the Sum of Postive and Negative numbers from  given Numbers\n",
        "numNos = int(input(\"Enter the Number of Inputs: \"))\n",
        "counter = 1\n",
        "psum = 0\n",
        "nsum = 0\n",
        "while(counter<=numNos):\n",
        "  myNos = int(input(\"Enter the Number: \"))\n",
        "  if(myNos>0):\n",
        "    psum = psum + myNos\n",
        "    counter += 1\n",
        "  elif(myNos<0):\n",
        "    nsum = nsum + myNos\n",
        "    counter += 1\n",
        "  else:\n",
        "    print('Invalid')\n",
        "print(\"Sum of Positive Numbers:\",psum)\n",
        "print(\"Sum of Negative Numbers:\",nsum)"
      ],
      "metadata": {
        "colab": {
          "base_uri": "https://localhost:8080/"
        },
        "id": "8DtxxPrpYbZE",
        "outputId": "af5b6774-516c-4c3d-c188-e052cd38d5fb"
      },
      "execution_count": null,
      "outputs": [
        {
          "output_type": "stream",
          "name": "stdout",
          "text": [
            "Enter the Number of Inputs: 10\n",
            "Enter the Number: 1\n",
            "Enter the Number: -1\n",
            "Enter the Number: 2\n",
            "Enter the Number: -2\n",
            "Enter the Number: 3\n",
            "Enter the Number: -3\n",
            "Enter the Number: 4\n",
            "Enter the Number: -4\n",
            "Enter the Number: 5\n",
            "Enter the Number: -5\n",
            "Sum of Positive Numbers: 15\n",
            "Sum of Negative Numbers: -15\n"
          ]
        }
      ]
    },
    {
      "cell_type": "markdown",
      "source": [
        "###**27. Python Program to find the Maximum Number from the given Numbers**"
      ],
      "metadata": {
        "id": "iBvKJ2c4qyVC"
      }
    },
    {
      "cell_type": "code",
      "source": [
        "# Find the Maximum Number from the given Numbers\n",
        "numNos = int(input(\"Enter the Number of Inputs: \"))\n",
        "counter = 1\n",
        "max = 0\n",
        "while(counter<=numNos):\n",
        "  myNos = int(input(\"Enter the Number: \"))\n",
        "  if(myNos>max):\n",
        "    max = myNos\n",
        "  counter += 1\n",
        "print(\"Maximum Number: \",max)"
      ],
      "metadata": {
        "colab": {
          "base_uri": "https://localhost:8080/"
        },
        "id": "fwkqkjQEaqYg",
        "outputId": "342431e7-d8cb-4653-fba9-46a6e174a9d7"
      },
      "execution_count": null,
      "outputs": [
        {
          "output_type": "stream",
          "name": "stdout",
          "text": [
            "Enter the Number of Inputs: 5\n",
            "Enter the Number: 235\n",
            "Enter the Number: 56\n",
            "Enter the Number: 12\n",
            "Enter the Number: 986\n",
            "Enter the Number: 23\n",
            "Maximum Number:  986\n"
          ]
        }
      ]
    },
    {
      "cell_type": "markdown",
      "source": [
        "###**28. Python Program to Convert a Decimal Number to a Binary Number**"
      ],
      "metadata": {
        "id": "4agjeAPCqzvF"
      }
    },
    {
      "cell_type": "code",
      "source": [
        "# Convert a Decimal Number to a Binary Number\n",
        "num = int(input(\"Enter a Number: \"))\n",
        "bin = ''\n",
        "while(num>0):\n",
        "  r = num % 2\n",
        "  num = num // 2\n",
        "  bin = str(r) + bin\n",
        "print(\"Binary of the Number:\",bin)"
      ],
      "metadata": {
        "colab": {
          "base_uri": "https://localhost:8080/"
        },
        "id": "uYrZawvze2ld",
        "outputId": "a212005e-7b51-4fcb-e324-775b83512f14"
      },
      "execution_count": null,
      "outputs": [
        {
          "output_type": "stream",
          "name": "stdout",
          "text": [
            "Enter a Number: 14\n",
            "Binary of the Number: 1110\n"
          ]
        }
      ]
    },
    {
      "cell_type": "markdown",
      "source": [
        "###**29. Python Program to Guess a Number between 1 to 10**"
      ],
      "metadata": {
        "id": "D7yEiF7dq1M5"
      }
    },
    {
      "cell_type": "code",
      "source": [
        "# Guess a Number between 1 to 10\n",
        "import random\n",
        "radomNum = random.randint(1,10)\n",
        "guess = 0\n",
        "while(guess!=radomNum):\n",
        "  guess = int(input(\"Guess the Number: \"))\n",
        "  if(guess<radomNum):\n",
        "    print(\"It is More Larger\")\n",
        "  elif(guess>radomNum):\n",
        "    print(\"It is More Smaller\")\n",
        "  else:\n",
        "    guess = radomNum\n",
        "    print(\"You Guessed the Correct Number\")\n",
        "print(\"Random Number: \",radomNum)\n",
        "print(\"Your Guess: \",guess)"
      ],
      "metadata": {
        "colab": {
          "base_uri": "https://localhost:8080/"
        },
        "id": "G3L-O8vRkQhv",
        "outputId": "1b2c6f6c-0edf-451e-a78d-89390834360f"
      },
      "execution_count": null,
      "outputs": [
        {
          "output_type": "stream",
          "name": "stdout",
          "text": [
            "Guess the Number: 7\n",
            "It is More Larger\n",
            "Guess the Number: 9\n",
            "It is More Larger\n",
            "Guess the Number: 10\n",
            "You Guessed the Correct Number\n",
            "Random Number:  10\n",
            "Your Guess:  10\n"
          ]
        }
      ]
    },
    {
      "cell_type": "markdown",
      "source": [
        "###**30. Python Program to print Multiplication Table for a Number using for loop**"
      ],
      "metadata": {
        "id": "lBxKDpNel00q"
      }
    },
    {
      "cell_type": "code",
      "source": [
        "num = int(input(\"Enter a Number: \"))\n",
        "for i in range(1,11):\n",
        "  print(num,\"X\",i,\"=\",(num*i))"
      ],
      "metadata": {
        "colab": {
          "base_uri": "https://localhost:8080/"
        },
        "id": "eMjplgRpREVj",
        "outputId": "6f1a761a-f12d-4899-aaa8-6ce925ce34a1"
      },
      "execution_count": 1,
      "outputs": [
        {
          "output_type": "stream",
          "name": "stdout",
          "text": [
            "Enter a Number: 7\n",
            "7 X 1 = 7\n",
            "7 X 2 = 14\n",
            "7 X 3 = 21\n",
            "7 X 4 = 28\n",
            "7 X 5 = 35\n",
            "7 X 6 = 42\n",
            "7 X 7 = 49\n",
            "7 X 8 = 56\n",
            "7 X 9 = 63\n",
            "7 X 10 = 70\n"
          ]
        }
      ]
    },
    {
      "cell_type": "markdown",
      "source": [
        "###**31. Find the Factorial of a given Number**"
      ],
      "metadata": {
        "id": "2jKvqlGbRXD4"
      }
    },
    {
      "cell_type": "code",
      "source": [
        "# Using the while Loop\n",
        "num = int(input(\"Enter a Number: \"))\n",
        "fact = 1\n",
        "while(num!=1):\n",
        "  fact = fact * num\n",
        "  num -= 1\n",
        "print(\"Factorial of Number:\",fact)"
      ],
      "metadata": {
        "colab": {
          "base_uri": "https://localhost:8080/"
        },
        "id": "w09mM_6bRdxg",
        "outputId": "61a7ec23-5ae4-4f03-f3c8-fb240866183c"
      },
      "execution_count": 4,
      "outputs": [
        {
          "output_type": "stream",
          "name": "stdout",
          "text": [
            "Enter a Number: 9\n",
            "Factorial of Number: 362880\n"
          ]
        }
      ]
    },
    {
      "cell_type": "code",
      "source": [
        "# Using the for Loop\n",
        "num = int(input(\"Enter a Number: \"))\n",
        "fact = 1\n",
        "for i in range(1, num+1):\n",
        "  fact = fact * i\n",
        "print(\"Factorial of Number:\",fact)"
      ],
      "metadata": {
        "colab": {
          "base_uri": "https://localhost:8080/"
        },
        "id": "09yP4w2FR3Bd",
        "outputId": "3d897979-b333-4665-a061-751933d1ae5d"
      },
      "execution_count": 11,
      "outputs": [
        {
          "output_type": "stream",
          "name": "stdout",
          "text": [
            "Enter a Number: 5\n",
            "Factorial of Number: 120\n"
          ]
        }
      ]
    },
    {
      "cell_type": "markdown",
      "source": [
        "###**32. Python Program to print n terms of Arithmetic Progression Series**"
      ],
      "metadata": {
        "id": "Nlaput3bScEv"
      }
    },
    {
      "cell_type": "code",
      "source": [
        "# Printing the n terms of Arithmetic Progression Series\n",
        "'''\n",
        "Arithmetic Progression Series means Number Series with Common Difference\n",
        "Example: 5,7,9,13......\n",
        "Here Starting Term is 5 and Common Difference is 2\n",
        "'''\n",
        "a = int(input(\"Enter the Starting Number: \"))\n",
        "n = int(input(\"Enter the Number of Terms: \"))\n",
        "d = int(input(\"Enter the Common Difference: \"))\n",
        "for i in range(a,a+n*d,d):\n",
        "  print(i)"
      ],
      "metadata": {
        "colab": {
          "base_uri": "https://localhost:8080/"
        },
        "id": "Kwr3glD9UdVq",
        "outputId": "89d4cf4f-ec60-4598-d310-c4cbf1d181d3"
      },
      "execution_count": 15,
      "outputs": [
        {
          "output_type": "stream",
          "name": "stdout",
          "text": [
            "Enter the Starting Number: 5\n",
            "Enter the Number of Terms: 10\n",
            "Enter the Common Difference: 3\n",
            "5\n",
            "8\n",
            "11\n",
            "14\n",
            "17\n",
            "20\n",
            "23\n",
            "26\n",
            "29\n",
            "32\n"
          ]
        }
      ]
    },
    {
      "cell_type": "markdown",
      "source": [
        "###**33. Python Program to print n terms of Fibonacci Series**"
      ],
      "metadata": {
        "id": "imwBFka-W0iv"
      }
    },
    {
      "cell_type": "code",
      "source": [
        "# Printing n terms of Fibonacci Series\n",
        "'''\n",
        "0,1,(0+1=1),(1+1=2),(2+1=3),(3+2=5),(5+3=8)......so on\n",
        "0,1,1,2,3,5,8.....so on\n",
        "That means next numbers are formed by adding the former two digits\n",
        "'''\n",
        "num = int(input(\"Enter the Number of Terms: \"))\n",
        "a = 0\n",
        "b = 1\n",
        "for i in range(n):\n",
        "  print(a)\n",
        "  c = a + b\n",
        "  a = b\n",
        "  b = c"
      ],
      "metadata": {
        "colab": {
          "base_uri": "https://localhost:8080/"
        },
        "id": "XLv6a5tUYscU",
        "outputId": "02d2565c-1c22-437e-851b-07365b4e471c"
      },
      "execution_count": 16,
      "outputs": [
        {
          "output_type": "stream",
          "name": "stdout",
          "text": [
            "Enter the Number of Terms: 10\n",
            "0\n",
            "1\n",
            "1\n",
            "2\n",
            "3\n",
            "5\n",
            "8\n",
            "13\n",
            "21\n",
            "34\n"
          ]
        }
      ]
    },
    {
      "cell_type": "markdown",
      "source": [
        "###**34. Python Program to find the Factors of a Number**"
      ],
      "metadata": {
        "id": "3-b1Psa5afSf"
      }
    },
    {
      "cell_type": "code",
      "source": [],
      "metadata": {
        "id": "-LK4Xul7a2yz"
      },
      "execution_count": null,
      "outputs": []
    }
  ]
}