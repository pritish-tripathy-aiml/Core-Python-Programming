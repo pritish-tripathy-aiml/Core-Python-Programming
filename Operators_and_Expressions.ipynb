{
  "nbformat": 4,
  "nbformat_minor": 0,
  "metadata": {
    "colab": {
      "provenance": [],
      "authorship_tag": "ABX9TyMG4EQ0DGvhK5/nBxDBptLE",
      "include_colab_link": true
    },
    "kernelspec": {
      "name": "python3",
      "display_name": "Python 3"
    },
    "language_info": {
      "name": "python"
    }
  },
  "cells": [
    {
      "cell_type": "markdown",
      "metadata": {
        "id": "view-in-github",
        "colab_type": "text"
      },
      "source": [
        "<a href=\"https://colab.research.google.com/github/pritish-tripathy-aiml/Core-Python-Programming/blob/main/Operators_and_Expressions.ipynb\" target=\"_parent\"><img src=\"https://colab.research.google.com/assets/colab-badge.svg\" alt=\"Open In Colab\"/></a>"
      ]
    },
    {
      "cell_type": "markdown",
      "source": [
        "##**Operators and Expressions**"
      ],
      "metadata": {
        "id": "yPh8oHni8dK9"
      }
    },
    {
      "cell_type": "code",
      "source": [
        "# Arithmetic Operators\n",
        "'''\n",
        "The Aritmetic Operators present in Python are:\n",
        "+ -> Addition\n",
        "- -> Subtraction\n",
        "* -> Multiplication\n",
        "** -> Power\n",
        "/ -> Division(Float)\n",
        "// -> Division(Floor)\n",
        "% -> Modulus\n",
        "\n",
        "The Assignment Operators present in Python are:\n",
        "=, +=, -=, *=, **=, /=, //=, %=\n",
        "'''\n",
        "a = 15\n",
        "b = 4\n",
        "cAdd = a + b      # This is Addition\n",
        "print(\"Addition = \",cAdd)\n",
        "\n",
        "cMin = a - b      # This is Subtraction\n",
        "print(\"Subtraction = \",cMin)\n",
        "\n",
        "cMul = a * b    # Multiplication\n",
        "print(\"Addition = \",cMul)\n",
        "\n",
        "cExp = a ** b     # Exponent that is a to the power b\n",
        "print(\"Exponent = \",cExp)\n",
        "\n",
        "cDiv = a / b     # This is Division\n",
        "print(\"Division = \",cDiv)\n",
        "\n",
        "cFDiv = a // b      # Value before Decimal Point\n",
        "print(\"Floor Division = \",cFDiv)\n",
        "\n",
        "cMod = a % b    # Modulus means Remainder\n",
        "print(\"Modulus = \",cMod)"
      ],
      "metadata": {
        "id": "A9GeLbUd8r6E",
        "colab": {
          "base_uri": "https://localhost:8080/"
        },
        "outputId": "f15e9631-b99e-43bf-a23f-6027a9908b12"
      },
      "execution_count": 2,
      "outputs": [
        {
          "output_type": "stream",
          "name": "stdout",
          "text": [
            "Addition =  19\n",
            "Subtraction =  11\n",
            "Addition =  60\n",
            "Exponent =  50625\n",
            "Division =  3.75\n",
            "Floor Division =  3\n",
            "Modulus =  3\n"
          ]
        }
      ]
    },
    {
      "cell_type": "code",
      "source": [
        "# Expressions in Python\n",
        "# Instructions that you write using Operator or Statement, It is known as Expression\n",
        "'''\n",
        "c = a + b\n",
        "Here c, a and b are Operands and = and + are Operators\n",
        "'''\n",
        "\n",
        "# The Precedance of Operators\n",
        "# Parenthesis have highest Precedence = 18\n",
        "# Exponents have more Precedence = 14 and it Associativity is Right to Left\n",
        "# Muliplication,Division and Modulus have equal precedance=11 and it Associativity is Left to Right\n",
        "# Addition and Subtraction have equal precedance=10 and it Associativity is Left to Right\n",
        "# Some Examples:\n",
        "d1 = 3 * 4 * 5 / 4\n",
        "print(\"d1 =\",d1)\n",
        "\n",
        "d2 = 2 ** 3 ** 2\n",
        "print(\"d2 =\",d2)\n",
        "\n",
        "d3 = 2 + 45 - 12 / 4 ** 3 * 2\n",
        "print(\"d3 =\",d3)"
      ],
      "metadata": {
        "colab": {
          "base_uri": "https://localhost:8080/"
        },
        "id": "qQYhdoReyggY",
        "outputId": "99b62e15-888c-45f5-cbc9-0b72657dd397"
      },
      "execution_count": 5,
      "outputs": [
        {
          "output_type": "stream",
          "name": "stdout",
          "text": [
            "d1 = 15.0\n",
            "d2 = 512\n",
            "d3 = 46.625\n"
          ]
        }
      ]
    },
    {
      "cell_type": "code",
      "source": [
        "# Arithmetic Assignment Operators\n",
        "'''\n",
        "The Arithmetic Assignment Operators present in Python are:\n",
        "+=, -=, *=, **=, /=, //=, %=\n",
        "'''\n",
        "# These are the Aritmetic Operators joined with Assignment Operators\n",
        "a = 5\n",
        "a += 10   # This means a = a + 10\n",
        "print(\"Modified a =\",a)\n",
        "\n",
        "b = 10\n",
        "b -= 4\n",
        "print(\"Modified b =\",b)\n",
        "\n",
        "count = 0\n",
        "count += 1\n",
        "print(\"Count =\",count)\n",
        "\n",
        "p = 10\n",
        "x = 5\n",
        "p *= x\n",
        "print(\"Modified p =\",p)"
      ],
      "metadata": {
        "colab": {
          "base_uri": "https://localhost:8080/"
        },
        "id": "8JDDz5g31D89",
        "outputId": "dbca9bd3-9053-4cb5-bd67-1665f3cc76f5"
      },
      "execution_count": 14,
      "outputs": [
        {
          "output_type": "stream",
          "name": "stdout",
          "text": [
            "Modified a = 15\n",
            "Modified b = 6\n",
            "Count = 1\n",
            "Modified p = 50\n"
          ]
        }
      ]
    },
    {
      "cell_type": "code",
      "source": [
        "# Arithmetic Operator on All Data Types\n",
        "'''\n",
        "Operators which can work on Different data types\n",
        "+ Operator -> int, float, bool, complex, str\n",
        "- Operator -> int, float, bool, complex\n",
        "* Operator -> int, float, bool, complex, str\n",
        "/ Operator -> int, float, bool, complex\n",
        "// Operator -> int, float, bool\n",
        "% Operator -> int, float, bool\n",
        "** Operator -> int, float, bool, complex\n",
        "\n",
        "float opearation can be done in int, float, bool, complex(Except //, %)\n",
        "bool opearation can be done in int, float, bool, complex(Except //, %), str(Only *)\n",
        "complex opearation can be done in int(Except //, %), float(Except //, %), bool(Except //, %), complex(Except //, %)\n",
        "str opearation can be done in int(* Only), bool(* Only), str(+ Only)\n",
        "'''\n",
        "val1 = 10 % 1.5\n",
        "print(\"Value =\",val1)\n",
        "\n",
        "val2 = 10 / (5+2j)\n",
        "print(\"Value =\",val2)\n",
        "\n",
        "val3 = 10 + True  # In True it will used as 1\n",
        "val4 = 10 - False  # In False it will used as 0\n",
        "print(\"Values: \",val3,\"and\",val4)\n",
        "\n",
        "st1 = 'Hello'\n",
        "st2 = 'Hi'\n",
        "stRs = st1+st2  # String will be Concatenated\n",
        "print(\"Result String =\",stRs)\n",
        "\n",
        "stMt = st1*3  # String will be Multiplied 3 Times\n",
        "print(\"Exp String =\",stMt)\n",
        "\n",
        "bl1 = False * (5+2j)\n",
        "bl2 = True * 'Hi'\n",
        "print(bl1, bl2)"
      ],
      "metadata": {
        "colab": {
          "base_uri": "https://localhost:8080/"
        },
        "id": "d6sj5hxHEX6l",
        "outputId": "f060ec08-0dd9-434c-b2a7-e66472c20da9"
      },
      "execution_count": 19,
      "outputs": [
        {
          "output_type": "stream",
          "name": "stdout",
          "text": [
            "Value = 1.0\n",
            "Value = (1.7241379310344829-0.6896551724137931j)\n",
            "Values:  11 and 10\n",
            "Result String = HelloHi\n",
            "Exp String = HelloHelloHello\n",
            "0j Hi\n"
          ]
        }
      ]
    },
    {
      "cell_type": "code",
      "source": [],
      "metadata": {
        "id": "pj8aTu7hMy-h"
      },
      "execution_count": null,
      "outputs": []
    },
    {
      "cell_type": "markdown",
      "source": [
        "##**End of Operators and Expressions**"
      ],
      "metadata": {
        "id": "IxGTNV5eUDTa"
      }
    }
  ]
}