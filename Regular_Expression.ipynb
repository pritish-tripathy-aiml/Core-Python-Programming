{
  "nbformat": 4,
  "nbformat_minor": 0,
  "metadata": {
    "colab": {
      "provenance": [],
      "collapsed_sections": [
        "s-_m_0umsLzA"
      ],
      "authorship_tag": "ABX9TyOyLz4NdogsUokbGiPHo+sE",
      "include_colab_link": true
    },
    "kernelspec": {
      "name": "python3",
      "display_name": "Python 3"
    },
    "language_info": {
      "name": "python"
    }
  },
  "cells": [
    {
      "cell_type": "markdown",
      "metadata": {
        "id": "view-in-github",
        "colab_type": "text"
      },
      "source": [
        "<a href=\"https://colab.research.google.com/github/pritish-tripathy-aiml/Core-Python-Programming/blob/main/Regular_Expression.ipynb\" target=\"_parent\"><img src=\"https://colab.research.google.com/assets/colab-badge.svg\" alt=\"Open In Colab\"/></a>"
      ]
    },
    {
      "cell_type": "markdown",
      "source": [
        "##**Regular Expression**"
      ],
      "metadata": {
        "id": "s-_m_0umsLzA"
      }
    },
    {
      "cell_type": "code",
      "source": [
        "# Regular Expression\n",
        "'''\n",
        "Regular Expression are useful for defining the Patterns for String Matching.\n",
        "Pattern     String\n",
        "'a'           a\n",
        "a|b           'a' or 'b'\n",
        "abc           'abc'\n",
        "[abc]          'a' or 'b' or 'c'\n",
        "[abc]\n",
        "'''\n",
        "from re import *\n",
        "match('a','a').group()      # If its True it will return the String\n",
        "match('a|b','a').group()\n",
        "match('a|b','b').group()\n"
      ],
      "metadata": {
        "colab": {
          "base_uri": "https://localhost:8080/",
          "height": 35
        },
        "id": "1xw3KDRVsS-e",
        "outputId": "40baf42e-4217-417d-c50b-28705061d6b9"
      },
      "execution_count": 6,
      "outputs": [
        {
          "output_type": "execute_result",
          "data": {
            "text/plain": [
              "'abc'"
            ],
            "application/vnd.google.colaboratory.intrinsic+json": {
              "type": "string"
            }
          },
          "metadata": {},
          "execution_count": 6
        }
      ]
    },
    {
      "cell_type": "code",
      "source": [
        "match('abc','abcd').group()"
      ],
      "metadata": {
        "colab": {
          "base_uri": "https://localhost:8080/",
          "height": 35
        },
        "id": "DbJ2fvRqxgdQ",
        "outputId": "523a2592-0d8b-4c18-a7c3-ff17b795ed6d"
      },
      "execution_count": 10,
      "outputs": [
        {
          "output_type": "execute_result",
          "data": {
            "text/plain": [
              "'abc'"
            ],
            "application/vnd.google.colaboratory.intrinsic+json": {
              "type": "string"
            }
          },
          "metadata": {},
          "execution_count": 10
        }
      ]
    },
    {
      "cell_type": "code",
      "source": [
        "match('[abc]','bcd').group()"
      ],
      "metadata": {
        "colab": {
          "base_uri": "https://localhost:8080/",
          "height": 35
        },
        "id": "9ujmFcEqyDFA",
        "outputId": "2f732f18-d318-43de-fc7b-ff85f30a2e4b"
      },
      "execution_count": 11,
      "outputs": [
        {
          "output_type": "execute_result",
          "data": {
            "text/plain": [
              "'b'"
            ],
            "application/vnd.google.colaboratory.intrinsic+json": {
              "type": "string"
            }
          },
          "metadata": {},
          "execution_count": 11
        }
      ]
    },
    {
      "cell_type": "code",
      "source": [
        "# Quantifiers\n",
        "'''\n",
        "Character         Description\n",
        "+                 1 or more Repetitions\n",
        "*                 0 or more Repetitions\n",
        "?                 0 or 1 Repetitions\n",
        "{m}               Exactly m occurences\n",
        "{m,n}             From m to n, m defults to 0. n to infinity\n",
        "'''\n",
        "match('[acd]+','ace').group()"
      ],
      "metadata": {
        "colab": {
          "base_uri": "https://localhost:8080/",
          "height": 35
        },
        "id": "zPJ--j_8yMyM",
        "outputId": "e452db3c-986d-447a-cbda-610246f64bcf"
      },
      "execution_count": 12,
      "outputs": [
        {
          "output_type": "execute_result",
          "data": {
            "text/plain": [
              "'ac'"
            ],
            "application/vnd.google.colaboratory.intrinsic+json": {
              "type": "string"
            }
          },
          "metadata": {},
          "execution_count": 12
        }
      ]
    },
    {
      "cell_type": "code",
      "source": [
        "match('[abc]+','ccccc').group()"
      ],
      "metadata": {
        "colab": {
          "base_uri": "https://localhost:8080/",
          "height": 35
        },
        "id": "UM_2amQxy95b",
        "outputId": "f0af2366-ace3-4ae3-9f97-92b6cfbe3ead"
      },
      "execution_count": 13,
      "outputs": [
        {
          "output_type": "execute_result",
          "data": {
            "text/plain": [
              "'ccccc'"
            ],
            "application/vnd.google.colaboratory.intrinsic+json": {
              "type": "string"
            }
          },
          "metadata": {},
          "execution_count": 13
        }
      ]
    },
    {
      "cell_type": "code",
      "source": [
        "match('[abc]+','ababcaaccaac').group()"
      ],
      "metadata": {
        "colab": {
          "base_uri": "https://localhost:8080/",
          "height": 35
        },
        "id": "vJbHJdCkzFnf",
        "outputId": "db436bd9-5016-4ea6-bb12-6057d9ec59cd"
      },
      "execution_count": 15,
      "outputs": [
        {
          "output_type": "execute_result",
          "data": {
            "text/plain": [
              "'ababcaaccaac'"
            ],
            "application/vnd.google.colaboratory.intrinsic+json": {
              "type": "string"
            }
          },
          "metadata": {},
          "execution_count": 15
        }
      ]
    },
    {
      "cell_type": "code",
      "source": [
        "match('[abc]{5}+','ababcaaccaac').group()   # Only 5 Letters will be Taken"
      ],
      "metadata": {
        "colab": {
          "base_uri": "https://localhost:8080/",
          "height": 35
        },
        "id": "uOwje1-MzJsC",
        "outputId": "9b6e020d-e08f-4f7a-a769-987ae21c735b"
      },
      "execution_count": 16,
      "outputs": [
        {
          "output_type": "execute_result",
          "data": {
            "text/plain": [
              "'ababc'"
            ],
            "application/vnd.google.colaboratory.intrinsic+json": {
              "type": "string"
            }
          },
          "metadata": {},
          "execution_count": 16
        }
      ]
    },
    {
      "cell_type": "code",
      "source": [
        "# Special Characters\n",
        "'''\n",
        "Character     Description\n",
        "\\             Escape Special Character\n",
        ".             Matchs any character except new Line\n",
        "^             Matches beginning of a String\n",
        "$             Matches ending of a String\n",
        "[...]         Denotes a set of possible Characters\n",
        "[^...]        Matches Character except the ones inside brackets\n",
        "R | S         Matches either regex R or regex S\n",
        "'''\n",
        "# '[a-z]'             'a', 'b', 'k', 'z'\n",
        "# '[a-z]+'            'ask' 'python'\n",
        "# '[a-zA-Z0-9]+'      'ac123' '1566' 'A15'\n",
        "# '[^a-z]'            'except lowercase a to z\n",
        "# '[a-z]+|[A-Z]+'     'either lowercase or uppercase'\n",
        "match('[a-z]+','abcdef').group()"
      ],
      "metadata": {
        "colab": {
          "base_uri": "https://localhost:8080/",
          "height": 35
        },
        "id": "5IHK5ZrwzS8J",
        "outputId": "1c456a00-7813-4532-ba7c-0c8259809790"
      },
      "execution_count": 18,
      "outputs": [
        {
          "output_type": "execute_result",
          "data": {
            "text/plain": [
              "'p'"
            ],
            "application/vnd.google.colaboratory.intrinsic+json": {
              "type": "string"
            }
          },
          "metadata": {},
          "execution_count": 18
        }
      ]
    },
    {
      "cell_type": "code",
      "source": [
        "match('[a-z]+','python').group()"
      ],
      "metadata": {
        "colab": {
          "base_uri": "https://localhost:8080/",
          "height": 35
        },
        "id": "aWnwjZJ65lRT",
        "outputId": "323c80e8-03ee-4820-a697-2598ad43d387"
      },
      "execution_count": 19,
      "outputs": [
        {
          "output_type": "execute_result",
          "data": {
            "text/plain": [
              "'python'"
            ],
            "application/vnd.google.colaboratory.intrinsic+json": {
              "type": "string"
            }
          },
          "metadata": {},
          "execution_count": 19
        }
      ]
    },
    {
      "cell_type": "code",
      "source": [
        "match('[^a-z]','A-23+@').group()"
      ],
      "metadata": {
        "colab": {
          "base_uri": "https://localhost:8080/",
          "height": 35
        },
        "id": "OQrGqFEa5uMz",
        "outputId": "45e469de-05bf-45b4-d71b-46bff64336ab"
      },
      "execution_count": 20,
      "outputs": [
        {
          "output_type": "execute_result",
          "data": {
            "text/plain": [
              "'A'"
            ],
            "application/vnd.google.colaboratory.intrinsic+json": {
              "type": "string"
            }
          },
          "metadata": {},
          "execution_count": 20
        }
      ]
    },
    {
      "cell_type": "code",
      "source": [
        "match('[a-z]+|[A-Z]+','abc').group()"
      ],
      "metadata": {
        "colab": {
          "base_uri": "https://localhost:8080/",
          "height": 35
        },
        "id": "imG-QU6R50vL",
        "outputId": "21dcd92d-d6d0-4388-ef98-b4ee7a647845"
      },
      "execution_count": 27,
      "outputs": [
        {
          "output_type": "execute_result",
          "data": {
            "text/plain": [
              "'abc'"
            ],
            "application/vnd.google.colaboratory.intrinsic+json": {
              "type": "string"
            }
          },
          "metadata": {},
          "execution_count": 27
        }
      ]
    },
    {
      "cell_type": "code",
      "source": [
        "match('[a-z]+|[A-Z]+','abcD').group()"
      ],
      "metadata": {
        "colab": {
          "base_uri": "https://localhost:8080/",
          "height": 35
        },
        "id": "eZSxIo4c59WD",
        "outputId": "e5f23048-48ed-44d2-e1d2-5b7755487895"
      },
      "execution_count": 28,
      "outputs": [
        {
          "output_type": "execute_result",
          "data": {
            "text/plain": [
              "'abc'"
            ],
            "application/vnd.google.colaboratory.intrinsic+json": {
              "type": "string"
            }
          },
          "metadata": {},
          "execution_count": 28
        }
      ]
    },
    {
      "cell_type": "code",
      "source": [
        "x = r'^Hell'\n",
        "c = compile(x)\n",
        "r = c.search('Hello World')\n",
        "r.group()"
      ],
      "metadata": {
        "colab": {
          "base_uri": "https://localhost:8080/",
          "height": 35
        },
        "id": "fWMBCk7h6NTt",
        "outputId": "966d3334-3d8f-41de-d8b3-a330e7adf602"
      },
      "execution_count": 29,
      "outputs": [
        {
          "output_type": "execute_result",
          "data": {
            "text/plain": [
              "'Hell'"
            ],
            "application/vnd.google.colaboratory.intrinsic+json": {
              "type": "string"
            }
          },
          "metadata": {},
          "execution_count": 29
        }
      ]
    },
    {
      "cell_type": "code",
      "source": [
        "x = r'rld$'\n",
        "c = compile(x)\n",
        "r = c.search('Hello World')\n",
        "r.group()"
      ],
      "metadata": {
        "colab": {
          "base_uri": "https://localhost:8080/",
          "height": 35
        },
        "id": "DN8n9V6w6_bB",
        "outputId": "78b0f86e-6710-4e32-e4f6-d12011ec5cd3"
      },
      "execution_count": 31,
      "outputs": [
        {
          "output_type": "execute_result",
          "data": {
            "text/plain": [
              "'rld'"
            ],
            "application/vnd.google.colaboratory.intrinsic+json": {
              "type": "string"
            }
          },
          "metadata": {},
          "execution_count": 31
        }
      ]
    },
    {
      "cell_type": "code",
      "source": [
        "# Sequence Characters\n",
        "'''\n",
        "Character       Description\n",
        "\\d  =>  Digit(0-9)\n",
        "\\D  =>  Non Digit\n",
        "\\s  =>  Whit Space. Ex: \\t \\n \\r \\f \\v\n",
        "\\S  =>  Non-white Space\n",
        "\\w  =>  Alphanumeric\n",
        "\\W  =>  Non-alphanumeric\n",
        "\\b  =>  Space arounf words\n",
        "\\A  =>  Start of the String\n",
        "\\Z  =>  End of the String\n",
        "'''\n",
        "\n",
        "# Functions available in Regex\n",
        "'''\n",
        "re.compile(pattern, flags=0)\n",
        "re.search(pattern, string, flags=0)\n",
        "re.match(pattern, string, flags=0)\n",
        "re.findall(pattern, string, flags=0)\n",
        "re.sub(pattern, repl, count=0, flags=0)\n",
        "'''"
      ],
      "metadata": {
        "colab": {
          "base_uri": "https://localhost:8080/",
          "height": 70
        },
        "id": "6TsAhsV57Dyh",
        "outputId": "5ab43fcb-aab2-4550-c069-b1f215bef887"
      },
      "execution_count": 32,
      "outputs": [
        {
          "output_type": "execute_result",
          "data": {
            "text/plain": [
              "'\\nre.compile(pattern, flags=0)\\nre.search(pattern, string, flags=0)\\nre.match(pattern, string, flags=0)\\nre.findall(pattern, string, flags=0)\\nre.sub(pattern, repl, count=0, flags=0)\\n'"
            ],
            "application/vnd.google.colaboratory.intrinsic+json": {
              "type": "string"
            }
          },
          "metadata": {},
          "execution_count": 32
        }
      ]
    },
    {
      "cell_type": "markdown",
      "source": [
        "##**Regular Expression End**"
      ],
      "metadata": {
        "id": "cixr5X7E-_X_"
      }
    }
  ]
}