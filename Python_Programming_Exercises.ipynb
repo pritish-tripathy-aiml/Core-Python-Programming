{
  "nbformat": 4,
  "nbformat_minor": 0,
  "metadata": {
    "colab": {
      "provenance": [],
      "authorship_tag": "ABX9TyM3a0Nhc+WeZtTozx5aAF/K",
      "include_colab_link": true
    },
    "kernelspec": {
      "name": "python3",
      "display_name": "Python 3"
    },
    "language_info": {
      "name": "python"
    }
  },
  "cells": [
    {
      "cell_type": "markdown",
      "metadata": {
        "id": "view-in-github",
        "colab_type": "text"
      },
      "source": [
        "<a href=\"https://colab.research.google.com/github/pritish-tripathy-aiml/Core-Python-Programming/blob/main/Python_Programming_Exercises.ipynb\" target=\"_parent\"><img src=\"https://colab.research.google.com/assets/colab-badge.svg\" alt=\"Open In Colab\"/></a>"
      ]
    },
    {
      "cell_type": "markdown",
      "source": [
        "##**Python Programming Exercises**"
      ],
      "metadata": {
        "id": "cPMx8PpGqV9z"
      }
    },
    {
      "cell_type": "code",
      "source": [
        "# Python Program to Find Area of a Rectangle\n",
        "'''\n",
        "area = length * breadth\n",
        "'''\n",
        "length = int(input(\"Enter Length: \"))\n",
        "breadth = int(input(\"Enter Breadth: \"))\n",
        "area = length * breadth\n",
        "print(\"Area of Rectangle =\",area,\"Sq.M\")"
      ],
      "metadata": {
        "colab": {
          "base_uri": "https://localhost:8080/"
        },
        "id": "1gd_2wviqgpt",
        "outputId": "a4ddd2c4-a1c0-44f8-9fe9-58181a09cb29"
      },
      "execution_count": 2,
      "outputs": [
        {
          "output_type": "stream",
          "name": "stdout",
          "text": [
            "Enter Length: 12\n",
            "Enter Breadth: 5\n",
            "Area of Rectangle = 60 Sq.M\n"
          ]
        }
      ]
    },
    {
      "cell_type": "code",
      "source": [
        "# Python Program to Find the Area of a Triangle\n",
        "'''\n",
        "area = 1/2 * base * height\n",
        "'''\n",
        "base = int(input(\"Enter Base: \"))\n",
        "height = int(input(\"Enter Height: \"))\n",
        "area = 0.5 * base * height\n",
        "print(\"Area of Triangle =\",area,\"Sq.M\")"
      ],
      "metadata": {
        "colab": {
          "base_uri": "https://localhost:8080/"
        },
        "id": "rg8teInj5Wuj",
        "outputId": "6b697e38-b8fc-43ab-854d-aaf9d6e3236e"
      },
      "execution_count": 3,
      "outputs": [
        {
          "output_type": "stream",
          "name": "stdout",
          "text": [
            "Enter Base: 10\n",
            "Enter Height: 5\n",
            "Area of Triangle = 25.0 Sq.M\n"
          ]
        }
      ]
    },
    {
      "cell_type": "code",
      "source": [
        "# Python Program to Find Area of Trapezium\n",
        "'''\n",
        "area = 1/2(a + b)h\n",
        "'''\n",
        "side1 = int(input(\"Enter Side1: \"))\n",
        "side2 = int(input(\"Enter Side2: \"))\n",
        "height = int(input(\"Enter Height: \"))\n",
        "area = 0.5 * (side1 + side2) * height\n",
        "print(\"Area of Trapezium =\",area,\"Sq.M\")"
      ],
      "metadata": {
        "colab": {
          "base_uri": "https://localhost:8080/"
        },
        "id": "YPoA4uWz61rS",
        "outputId": "96ed09d8-ae45-4d12-9e1e-c1bc66282277"
      },
      "execution_count": 4,
      "outputs": [
        {
          "output_type": "stream",
          "name": "stdout",
          "text": [
            "Enter Side1: 5\n",
            "Enter Side2: 10\n",
            "Enter Height: 7\n",
            "Area of Trapezium = 52.5 Sq.M\n"
          ]
        }
      ]
    },
    {
      "cell_type": "code",
      "source": [
        "# Python Program to Find the Displacement\n",
        "'''\n",
        "displacement = (v^2 - u^2)/2a\n",
        "'''\n",
        "u = int(input(\"Enter Initial Velocity: \"))\n",
        "v = int(input(\"Enter Final Velocity: \"))\n",
        "a = int(input(\"Enter Acceleration: \"))\n",
        "dis = ((v**2) - (u**2)) / (2*a)\n",
        "print(\"Displacement =\",dis,\"m\")"
      ],
      "metadata": {
        "colab": {
          "base_uri": "https://localhost:8080/"
        },
        "id": "HjXS7Hds7u4x",
        "outputId": "4f6a5751-5697-472b-c3c1-5d897b1b0770"
      },
      "execution_count": 5,
      "outputs": [
        {
          "output_type": "stream",
          "name": "stdout",
          "text": [
            "Enter Initial Velocity: 5\n",
            "Enter Final Velocity: 20\n",
            "Enter Acceleration: 6\n",
            "Displacement = 31.25 m\n"
          ]
        }
      ]
    },
    {
      "cell_type": "code",
      "source": [
        "# Python Program to Convert Kilometers to Miles\n",
        "'''\n",
        "1 Km = 0.621371 miles\n",
        "'''\n",
        "km = float(input(\"Enter Distance in Kilometers:\"))\n",
        "mls = km * 0.621371\n",
        "print(\"Distance is =\",mls,\"miles\")"
      ],
      "metadata": {
        "colab": {
          "base_uri": "https://localhost:8080/"
        },
        "id": "wNq-OqA_8_TB",
        "outputId": "b178960d-f830-4f00-d585-39a1d20bde14"
      },
      "execution_count": 6,
      "outputs": [
        {
          "output_type": "stream",
          "name": "stdout",
          "text": [
            "Enter Distance in Kilometers:20\n",
            "Distance is = 12.42742 miles\n"
          ]
        }
      ]
    },
    {
      "cell_type": "code",
      "source": [
        "# Python Program to find Area of a Circle\n",
        "'''\n",
        "area = pi * radius * radius\n",
        "pi = 3.14159....\n",
        "'''\n",
        "import math as mt   # Importing Required Module for PI Value\n",
        "radius = float(input(\"Enter Radius of Circle:\"))\n",
        "area = mt.pi * radius * radius\n",
        "# area = mt.pi * radius * radius  you can use this as well\n",
        "print(\"Area of Circle=\",area,\"Sq. M\")"
      ],
      "metadata": {
        "colab": {
          "base_uri": "https://localhost:8080/"
        },
        "id": "5_OyVHZq93Uz",
        "outputId": "d1fc57e3-89e7-44ea-8053-3a7ecf33b7a0"
      },
      "execution_count": 9,
      "outputs": [
        {
          "output_type": "stream",
          "name": "stdout",
          "text": [
            "Enter Radius of Circle:7\n",
            "Area of Circle= 153.93804002589985 Sq. M\n"
          ]
        }
      ]
    },
    {
      "cell_type": "code",
      "source": [
        "# Python Program to Find Total Surface Area of Cuboid\n",
        "'''\n",
        "surface area = 2 * (length * breadth + breath * height + length * height)\n",
        "'''\n",
        "len = float(input(\"Enter the Length:\"))\n",
        "brth = float(input(\"Enter the Breadth:\"))\n",
        "hgt = float(input(\"Enter the Height:\"))\n",
        "surfaceArea = 2 * ((len * brth) + (brth * hgt) + (len * hgt))\n",
        "print(\"Surface Area of Cuboid=\",surfaceArea,\"Sq. M\")"
      ],
      "metadata": {
        "colab": {
          "base_uri": "https://localhost:8080/"
        },
        "id": "rsFpPH7u-wZC",
        "outputId": "5eedf5ac-ad78-4422-c90f-08e9a53b44d1"
      },
      "execution_count": 12,
      "outputs": [
        {
          "output_type": "stream",
          "name": "stdout",
          "text": [
            "Enter the Length:10\n",
            "Enter the Breadth:5\n",
            "Enter the Height:3\n",
            "Surface Area of Cuboid= 190.0 Sq. M\n"
          ]
        }
      ]
    },
    {
      "cell_type": "code",
      "source": [
        "# Python Program to Find Roots of Quadratic Equations\n",
        "'''\n",
        "Example: ax^3 + bx + x = 0\n",
        "root1 = (-b + sqRoot. b^2 - 4ac)/2a\n",
        "root1 = (-b - sqRoot. b^2 - 4ac)/2a\n",
        "'''\n",
        "# import math as m   No need to import, if we imported it previously\n",
        "a = int(input(\"Enter the Value of a:\"))\n",
        "b = int(input(\"Enter the Value of b:\"))\n",
        "c = int(input(\"Enter the Value of c:\"))\n",
        "root1 = (-b + mt.sqrt((b**2) - (4*a*c)))/(2*a)\n",
        "root2 = (-b - mt.sqrt((b**2) - (4*a*c)))/(2*a)\n",
        "print(\"Roots of the Quadratic Equation are =\",root1,\"and\",root2)\n",
        "# If root gives negative values then it will give math domain error like 1,1 and 5"
      ],
      "metadata": {
        "colab": {
          "base_uri": "https://localhost:8080/"
        },
        "id": "mY3wlGIOAI2U",
        "outputId": "3f4bc67c-a870-4fda-e3a6-98d3716ed272"
      },
      "execution_count": 14,
      "outputs": [
        {
          "output_type": "stream",
          "name": "stdout",
          "text": [
            "Enter the Value of a:1\n",
            "Enter the Value of b:-5\n",
            "Enter the Value of c:6\n",
            "Roots of the Quadratic Equation are = 3.0 and 2.0\n"
          ]
        }
      ]
    },
    {
      "cell_type": "code",
      "source": [],
      "metadata": {
        "id": "rHjFbFelDhxL"
      },
      "execution_count": null,
      "outputs": []
    }
  ]
}