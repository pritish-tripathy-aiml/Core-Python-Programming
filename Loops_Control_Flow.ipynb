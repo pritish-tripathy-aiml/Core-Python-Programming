{
  "nbformat": 4,
  "nbformat_minor": 0,
  "metadata": {
    "colab": {
      "provenance": [],
      "authorship_tag": "ABX9TyO2SCpFsK5gNq9dY1TdF9tj",
      "include_colab_link": true
    },
    "kernelspec": {
      "name": "python3",
      "display_name": "Python 3"
    },
    "language_info": {
      "name": "python"
    }
  },
  "cells": [
    {
      "cell_type": "markdown",
      "metadata": {
        "id": "view-in-github",
        "colab_type": "text"
      },
      "source": [
        "<a href=\"https://colab.research.google.com/github/pritish-tripathy-aiml/Core-Python-Programming/blob/main/Loops_Control_Flow.ipynb\" target=\"_parent\"><img src=\"https://colab.research.google.com/assets/colab-badge.svg\" alt=\"Open In Colab\"/></a>"
      ]
    },
    {
      "cell_type": "markdown",
      "source": [
        "##**Loops Control Flow**"
      ],
      "metadata": {
        "id": "s1S_emK24vVG"
      }
    },
    {
      "cell_type": "code",
      "source": [
        "# Loops/Repeating Statements\n",
        "'''\n",
        "If you want to repeat set of statements for multiple times then we use Loop\n",
        "while loop ->\n",
        "If the Condition is True, then the while block will run, once the condition is false it terminates\n",
        "\n",
        "for loop\n",
        "'''"
      ],
      "metadata": {
        "id": "vWAMBYyI4_fl",
        "colab": {
          "base_uri": "https://localhost:8080/",
          "height": 70
        },
        "outputId": "48ae35ca-453d-4493-9220-11b030f45c3e"
      },
      "execution_count": null,
      "outputs": [
        {
          "output_type": "execute_result",
          "data": {
            "text/plain": [
              "'\\nIf you want to repeat set of statements for multiple times then we use Loop\\nwhile loop ->\\nIf the Condition is True, then the while block will run, once the condition is false it terminates\\n\\nfor loop\\n'"
            ],
            "application/vnd.google.colaboratory.intrinsic+json": {
              "type": "string"
            }
          },
          "metadata": {},
          "execution_count": 1
        }
      ]
    },
    {
      "cell_type": "code",
      "source": [
        "# Printing Hello for 10 Times\n",
        "count = 1\n",
        "while(count<=10):\n",
        "  print('Hello=',count)\n",
        "  count += 1"
      ],
      "metadata": {
        "colab": {
          "base_uri": "https://localhost:8080/"
        },
        "id": "azGgEZcpCQiG",
        "outputId": "f9339cb6-cf44-48bb-b3b2-5ac5e6f14008"
      },
      "execution_count": null,
      "outputs": [
        {
          "output_type": "stream",
          "name": "stdout",
          "text": [
            "Hello= 1\n",
            "Hello= 2\n",
            "Hello= 3\n",
            "Hello= 4\n",
            "Hello= 5\n",
            "Hello= 6\n",
            "Hello= 7\n",
            "Hello= 8\n",
            "Hello= 9\n",
            "Hello= 10\n"
          ]
        }
      ]
    },
    {
      "cell_type": "code",
      "source": [
        "# Print all the Digits of the Number\n",
        "num = int(input(\"Enter a Number\"))\n",
        "while(num>0):\n",
        "  digit = num%10      # Remainder Gets Stored in digit\n",
        "  print(digit)      # Digit gets printed\n",
        "  num = num//10     # num again gets assigned with floor division 10"
      ],
      "metadata": {
        "colab": {
          "base_uri": "https://localhost:8080/"
        },
        "id": "hF66cLJgDAfH",
        "outputId": "5b6e5f61-c641-4f20-cefd-e8baeb3962a1"
      },
      "execution_count": null,
      "outputs": [
        {
          "output_type": "stream",
          "name": "stdout",
          "text": [
            "Enter a Number24235\n",
            "5\n",
            "3\n",
            "2\n",
            "4\n",
            "2\n"
          ]
        }
      ]
    },
    {
      "cell_type": "code",
      "source": [
        "# Output of Following Code\n",
        "x = 0\n",
        "y = 10\n",
        "while(x < y):    # Loop will run until x == y\n",
        "  x += 1        # x = 1, x = 2, x = 3, x = 4, x = 4\n",
        "  y -= 1        # y = 10, y = 9, y = 8, y = 7, y = 6, y = 5\n",
        "print(x, y)"
      ],
      "metadata": {
        "colab": {
          "base_uri": "https://localhost:8080/"
        },
        "id": "Ffbuh-LpDuOU",
        "outputId": "0b197e0e-9c1a-4ee8-cfbf-3d762c8230a2"
      },
      "execution_count": null,
      "outputs": [
        {
          "output_type": "stream",
          "name": "stdout",
          "text": [
            "5 5\n"
          ]
        }
      ]
    },
    {
      "cell_type": "code",
      "source": [
        "# Output of the Following Code\n",
        "k = 0\n",
        "x = 0\n",
        "while(k < 10):    # Loop will run until k less than 10\n",
        "  x += 1\n",
        "  k += x      # k = 1, k=1+2=3, k=3+3=6, k=6+4=10\n",
        "print(x)"
      ],
      "metadata": {
        "colab": {
          "base_uri": "https://localhost:8080/"
        },
        "id": "I7zRVZTto8Y8",
        "outputId": "33e9f50e-f529-49cf-e2d6-ded543da34e9"
      },
      "execution_count": null,
      "outputs": [
        {
          "output_type": "stream",
          "name": "stdout",
          "text": [
            "4\n"
          ]
        }
      ]
    },
    {
      "cell_type": "code",
      "source": [
        "# Infinite Loop - break - continue - pass\n",
        "'''\n",
        "while(True):      # This is an Infinite Loop\n",
        "  print('Hello')\n",
        "'''\n",
        "\n",
        "# This is another Inifinite Loop because count do not gets changed\n",
        "'''\n",
        "count = 0\n",
        "while(count<10):\n",
        "  print(\"Hello\")\n",
        "'''\n",
        "\n",
        "# In some cases we need Infinite Loop\n",
        "'''\n",
        "while(True):\n",
        "  n = int(input(\"Enter a Number: \"))\n",
        "  if(n>0):\n",
        "    print(\"Positive Number\")\n",
        "  else:\n",
        "    print(\"Negative Number\")\n",
        "'''"
      ],
      "metadata": {
        "id": "xitINHg8pasF",
        "colab": {
          "base_uri": "https://localhost:8080/",
          "height": 52
        },
        "outputId": "74fbbbbc-25ab-41dd-db9b-fd3dfad1041c"
      },
      "execution_count": null,
      "outputs": [
        {
          "output_type": "execute_result",
          "data": {
            "text/plain": [
              "'\\nwhile(True):\\n  n = int(input(\"Enter a Number: \"))\\n  if(n>0):\\n    print(\"Positive Number\")\\n  else:\\n    print(\"Negative Number\")\\n'"
            ],
            "application/vnd.google.colaboratory.intrinsic+json": {
              "type": "string"
            }
          },
          "metadata": {},
          "execution_count": 1
        }
      ]
    },
    {
      "cell_type": "code",
      "source": [
        "# Program which is Infinite Loop could be broken using break statement\n",
        "while(True):\n",
        "  n = int(input(\"Enter a Number: \"))\n",
        "  if(n>0):\n",
        "    print(\"Positive Number\")\n",
        "  elif(n<0):\n",
        "    print('Negative Number')\n",
        "  else:\n",
        "    print(\"Program Breaks\")\n",
        "    break"
      ],
      "metadata": {
        "colab": {
          "base_uri": "https://localhost:8080/"
        },
        "id": "J9gGIE5Jy0Kt",
        "outputId": "c0bcea04-e554-4794-f52f-515335267dba"
      },
      "execution_count": null,
      "outputs": [
        {
          "output_type": "stream",
          "name": "stdout",
          "text": [
            "Enter a Number: 345\n",
            "Positive Number\n",
            "Enter a Number: -31\n",
            "Negative Number\n",
            "Enter a Number: 534\n",
            "Positive Number\n",
            "Enter a Number: -5345\n",
            "Negative Number\n",
            "Enter a Number: 0\n",
            "Program Breaks\n"
          ]
        }
      ]
    },
    {
      "cell_type": "code",
      "source": [
        "# We can use the break statement with a Condition\n",
        "count = 0\n",
        "while(count<10):\n",
        "  print(count)\n",
        "  count += 1\n",
        "  if(count>5):    # When count>5 then the loop breaks\n",
        "    break"
      ],
      "metadata": {
        "colab": {
          "base_uri": "https://localhost:8080/"
        },
        "id": "PbwBpUtMy1RZ",
        "outputId": "9133bc7c-ca1f-40df-b88d-cd6086e9fd4c"
      },
      "execution_count": null,
      "outputs": [
        {
          "output_type": "stream",
          "name": "stdout",
          "text": [
            "0\n",
            "1\n",
            "2\n",
            "3\n",
            "4\n",
            "5\n"
          ]
        }
      ]
    },
    {
      "cell_type": "code",
      "source": [
        "# Program using continue statement\n",
        "'''\n",
        "If we are using the continue statement then the Program completely skips the operation of the Statement,\n",
        "that means if we count till 10 and 3 continue statments then it will perform till 13\n",
        "'''\n",
        "count = 0\n",
        "while(count<10):\n",
        "  n = int(input(\"Enter a Number: \"))\n",
        "  if(n%3==0):\n",
        "    continue\n",
        "  print(n)\n",
        "  count += 1"
      ],
      "metadata": {
        "colab": {
          "base_uri": "https://localhost:8080/"
        },
        "id": "S6RjKeqRz5M1",
        "outputId": "342e3930-b5e4-4abf-a335-ad3a1500982d"
      },
      "execution_count": null,
      "outputs": [
        {
          "output_type": "stream",
          "name": "stdout",
          "text": [
            "Enter a Number: 1\n",
            "1\n",
            "Enter a Number: 2\n",
            "2\n",
            "Enter a Number: 3\n",
            "Enter a Number: 4\n",
            "4\n",
            "Enter a Number: 5\n",
            "5\n",
            "Enter a Number: 6\n",
            "Enter a Number: 7\n",
            "7\n",
            "Enter a Number: 8\n",
            "8\n",
            "Enter a Number: 9\n",
            "Enter a Number: 10\n",
            "10\n",
            "Enter a Number: 11\n",
            "11\n",
            "Enter a Number: 12\n",
            "Enter a Number: 13\n",
            "13\n",
            "Enter a Number: 14\n",
            "14\n"
          ]
        }
      ]
    },
    {
      "cell_type": "code",
      "source": [
        "# Program using the pass statement\n",
        "'''\n",
        "If we are using the pass statement then in if else condition the Program skips the number but performs the Operation,\n",
        "that means if we count till 10 and 3 pass statments then it will perform 10 statments only\n",
        "'''\n",
        "count = 0\n",
        "while(count<10):\n",
        "  n = int(input(\"Enter a Number: \"))\n",
        "  if(n%3==0):\n",
        "    pass\n",
        "  else:\n",
        "    print(n)\n",
        "  count += 1"
      ],
      "metadata": {
        "colab": {
          "base_uri": "https://localhost:8080/"
        },
        "id": "gphlvWcY05uU",
        "outputId": "b03fa0bc-ccbc-4d18-f3c3-26146725e25d"
      },
      "execution_count": null,
      "outputs": [
        {
          "output_type": "stream",
          "name": "stdout",
          "text": [
            "Enter a Number: 1\n",
            "1\n",
            "Enter a Number: 2\n",
            "2\n",
            "Enter a Number: 3\n",
            "Enter a Number: 4\n",
            "4\n",
            "Enter a Number: 5\n",
            "5\n",
            "Enter a Number: 6\n",
            "Enter a Number: 7\n",
            "7\n",
            "Enter a Number: 8\n",
            "8\n",
            "Enter a Number: 9\n",
            "Enter a Number: 10\n",
            "10\n"
          ]
        }
      ]
    },
    {
      "cell_type": "code",
      "source": [
        "# else suite: else with while loop\n",
        "'''\n",
        "else block can be written with if, while, for and try, It is called else suite\n",
        "if the while condition becomes false then the else block executes if it never is false, the else block will not execute\n",
        "'''\n",
        "count = 1\n",
        "while(count<=10):\n",
        "  print(count)\n",
        "  count += 1\n",
        "else:\n",
        "  print(\"Printed all 10 Numbers\")   # else block will run when count = 10\n",
        "print(\"End of while-else Program\")"
      ],
      "metadata": {
        "colab": {
          "base_uri": "https://localhost:8080/"
        },
        "id": "b-qPEbWt2H1H",
        "outputId": "9f11a913-60a1-4e5b-c36f-a375f6c94e30"
      },
      "execution_count": null,
      "outputs": [
        {
          "output_type": "stream",
          "name": "stdout",
          "text": [
            "1\n",
            "2\n",
            "3\n",
            "4\n",
            "5\n",
            "6\n",
            "7\n",
            "8\n",
            "9\n",
            "10\n",
            "Printed all 10 Numbers\n",
            "End of while-else Program\n"
          ]
        }
      ]
    },
    {
      "cell_type": "code",
      "source": [
        "count = 1\n",
        "while(count<=10):\n",
        "  print(count)\n",
        "  count += 1\n",
        "  if(count>5):\n",
        "    break\n",
        "else:\n",
        "  print(\"Printed all 10 Numbers\")   # else block will not execute because while condition is not false and it breaking abruptly\n",
        "print(\"End of while-else Program\")"
      ],
      "metadata": {
        "colab": {
          "base_uri": "https://localhost:8080/"
        },
        "id": "hNjSmhOPE104",
        "outputId": "ffeb2e23-3f33-4d79-c086-9a4bbc07a08b"
      },
      "execution_count": null,
      "outputs": [
        {
          "output_type": "stream",
          "name": "stdout",
          "text": [
            "1\n",
            "2\n",
            "3\n",
            "4\n",
            "5\n",
            "End of while-else Program\n"
          ]
        }
      ]
    },
    {
      "cell_type": "code",
      "source": [
        "# for Loop in Python\n",
        "msg = 'Hello'     # String is a sequence of Characters\n",
        "for x in msg:     # x will pick each letter in msg\n",
        "  print(x)"
      ],
      "metadata": {
        "colab": {
          "base_uri": "https://localhost:8080/"
        },
        "id": "3LsBg6kEFVGs",
        "outputId": "1e5960d2-0a75-4b86-fd84-42ab5ba4df4d"
      },
      "execution_count": null,
      "outputs": [
        {
          "output_type": "stream",
          "name": "stdout",
          "text": [
            "H\n",
            "e\n",
            "l\n",
            "l\n",
            "o\n"
          ]
        }
      ]
    },
    {
      "cell_type": "code",
      "source": [
        "for i in range(1,11):     # Print Elements in Range from 1 to before a number from 10\n",
        "  print(i)\n",
        "\n",
        "print('using the step')   # Here 2 represents step, that means it will skip 2 steps\n",
        "for j in range(1,11,2):\n",
        "  print(j)\n",
        "\n",
        "print('using negative step')\n",
        "for k in range(10,0,-1):\n",
        "  print(k)\n",
        "\n",
        "# For each i it will make a new Object\n",
        "# For each i in range(0,10) it will print i from 0 to 9"
      ],
      "metadata": {
        "colab": {
          "base_uri": "https://localhost:8080/"
        },
        "id": "oFxiBIbGMge0",
        "outputId": "ea3fa330-9131-42e3-c431-0652ea678011"
      },
      "execution_count": null,
      "outputs": [
        {
          "output_type": "stream",
          "name": "stdout",
          "text": [
            "1\n",
            "2\n",
            "3\n",
            "4\n",
            "5\n",
            "6\n",
            "7\n",
            "8\n",
            "9\n",
            "10\n",
            "using the step\n",
            "1\n",
            "3\n",
            "5\n",
            "7\n",
            "9\n",
            "using negative step\n",
            "10\n",
            "9\n",
            "8\n",
            "7\n",
            "6\n",
            "5\n",
            "4\n",
            "3\n",
            "2\n",
            "1\n"
          ]
        }
      ]
    },
    {
      "cell_type": "code",
      "source": [
        "# break, continue, pass and else\n",
        "# break and statement in for loop\n",
        "for i in range(1,11):\n",
        "  if(i > 5):\n",
        "    print(\"Program Breaks\")\n",
        "    break\n",
        "  else:\n",
        "    print(i)\n",
        "print(\"Program Ends\")"
      ],
      "metadata": {
        "id": "pFFrSKU9NRPw",
        "colab": {
          "base_uri": "https://localhost:8080/"
        },
        "outputId": "d39c762a-8a75-4ed0-d873-540ba6c29421"
      },
      "execution_count": 2,
      "outputs": [
        {
          "output_type": "stream",
          "name": "stdout",
          "text": [
            "1\n",
            "2\n",
            "3\n",
            "4\n",
            "5\n",
            "Program Breaks\n",
            "Program Ends\n"
          ]
        }
      ]
    },
    {
      "cell_type": "code",
      "source": [
        "# else statement in for loop\n",
        "for i in range(1,11):\n",
        "  print(i)\n",
        "  '''\n",
        "  if(i>5):\n",
        "    break       # If Loop is terminated due to break then else block will not be executed\n",
        "  '''\n",
        "else:\n",
        "  print(\"else of for loop\")\n",
        "print(\"Program Ends\")\n"
      ],
      "metadata": {
        "colab": {
          "base_uri": "https://localhost:8080/"
        },
        "id": "wZ-pmmVMJ7fv",
        "outputId": "3462e5eb-eaa9-47f6-ed3d-3bf0f8159d42"
      },
      "execution_count": 3,
      "outputs": [
        {
          "output_type": "stream",
          "name": "stdout",
          "text": [
            "1\n",
            "2\n",
            "3\n",
            "4\n",
            "5\n",
            "6\n",
            "7\n",
            "8\n",
            "9\n",
            "10\n",
            "else of for loop\n",
            "Program Ends\n"
          ]
        }
      ]
    },
    {
      "cell_type": "code",
      "source": [
        "# pass statement in for loop\n",
        "for i in range(1,11):\n",
        "  pass\n",
        "print(\"Program Ends\")"
      ],
      "metadata": {
        "colab": {
          "base_uri": "https://localhost:8080/"
        },
        "id": "zagriVq0Ld07",
        "outputId": "94c621bf-93d2-4390-8dd9-d28ef2476e35"
      },
      "execution_count": 4,
      "outputs": [
        {
          "output_type": "stream",
          "name": "stdout",
          "text": [
            "Program Ends\n"
          ]
        }
      ]
    },
    {
      "cell_type": "code",
      "source": [
        "# continue statement in for loop\n",
        "for i in range(1,20):\n",
        "  if(i%5==0):\n",
        "    continue      # It will continue the loop but skips the statement\n",
        "  else:\n",
        "    print(i)\n",
        "print(\"Program Ends\")"
      ],
      "metadata": {
        "colab": {
          "base_uri": "https://localhost:8080/"
        },
        "id": "QuvnDxIFL4ck",
        "outputId": "dca82537-867b-40ab-a201-1b60707c3a10"
      },
      "execution_count": 7,
      "outputs": [
        {
          "output_type": "stream",
          "name": "stdout",
          "text": [
            "1\n",
            "2\n",
            "3\n",
            "4\n",
            "6\n",
            "7\n",
            "8\n",
            "9\n",
            "11\n",
            "12\n",
            "13\n",
            "14\n",
            "16\n",
            "17\n",
            "18\n",
            "19\n",
            "Program Ends\n"
          ]
        }
      ]
    },
    {
      "cell_type": "code",
      "source": [
        "# Nested Loops\n",
        "# Writing Loops inside of Loop is known as Nested Loop\n",
        "for i in range(0,5):\n",
        "  for j in range(0,5):\n",
        "    print(i,j)\n",
        "# Statements in Nested for loop will run for m * n Times"
      ],
      "metadata": {
        "colab": {
          "base_uri": "https://localhost:8080/"
        },
        "id": "xSSb4u-uMDKY",
        "outputId": "39e0fdec-e254-46df-affc-cd2e62791fb9"
      },
      "execution_count": 8,
      "outputs": [
        {
          "output_type": "stream",
          "name": "stdout",
          "text": [
            "0 0\n",
            "0 1\n",
            "0 2\n",
            "0 3\n",
            "0 4\n",
            "1 0\n",
            "1 1\n",
            "1 2\n",
            "1 3\n",
            "1 4\n",
            "2 0\n",
            "2 1\n",
            "2 2\n",
            "2 3\n",
            "2 4\n",
            "3 0\n",
            "3 1\n",
            "3 2\n",
            "3 3\n",
            "3 4\n",
            "4 0\n",
            "4 1\n",
            "4 2\n",
            "4 3\n",
            "4 4\n"
          ]
        }
      ]
    },
    {
      "cell_type": "code",
      "source": [
        "for i in range(0,5):\n",
        "  for j in range(0,5):\n",
        "    print('(',i,j,')', end='')\n",
        "  print('')"
      ],
      "metadata": {
        "colab": {
          "base_uri": "https://localhost:8080/"
        },
        "id": "nwxt8B9PP_Bl",
        "outputId": "e0042426-18cc-4478-e1df-31e50c8742d9"
      },
      "execution_count": 12,
      "outputs": [
        {
          "output_type": "stream",
          "name": "stdout",
          "text": [
            "( 0 0 )( 0 1 )( 0 2 )( 0 3 )( 0 4 )\n",
            "( 1 0 )( 1 1 )( 1 2 )( 1 3 )( 1 4 )\n",
            "( 2 0 )( 2 1 )( 2 2 )( 2 3 )( 2 4 )\n",
            "( 3 0 )( 3 1 )( 3 2 )( 3 3 )( 3 4 )\n",
            "( 4 0 )( 4 1 )( 4 2 )( 4 3 )( 4 4 )\n"
          ]
        }
      ]
    },
    {
      "cell_type": "code",
      "source": [
        "# Pattern 1\n",
        "for i in range(0,5):\n",
        "  for j in range(0,5):\n",
        "    print('*', end='')\n",
        "  print('')"
      ],
      "metadata": {
        "colab": {
          "base_uri": "https://localhost:8080/"
        },
        "id": "D2gBiXCsRQ6P",
        "outputId": "d0ba993e-170a-4a63-9e57-85f9bf3753f3"
      },
      "execution_count": 14,
      "outputs": [
        {
          "output_type": "stream",
          "name": "stdout",
          "text": [
            "*****\n",
            "*****\n",
            "*****\n",
            "*****\n",
            "*****\n"
          ]
        }
      ]
    },
    {
      "cell_type": "code",
      "source": [
        "# Pattern 2\n",
        "for i in range(0,5):\n",
        "  for j in range(0,5):\n",
        "    if(i<=j):\n",
        "      print('*', end='')\n",
        "  print('')"
      ],
      "metadata": {
        "colab": {
          "base_uri": "https://localhost:8080/"
        },
        "id": "UF_ViZz0RxHu",
        "outputId": "9f331d69-d2b7-428f-c999-44f9bca1978f"
      },
      "execution_count": 16,
      "outputs": [
        {
          "output_type": "stream",
          "name": "stdout",
          "text": [
            "*****\n",
            "****\n",
            "***\n",
            "**\n",
            "*\n"
          ]
        }
      ]
    },
    {
      "cell_type": "code",
      "source": [
        "# Pattern 3\n",
        "for i in range(0,5):\n",
        "  for j in range(0,5):\n",
        "    if(i>=j):\n",
        "      print('*', end='')\n",
        "  print('')"
      ],
      "metadata": {
        "colab": {
          "base_uri": "https://localhost:8080/"
        },
        "id": "Fcjjm47cR79f",
        "outputId": "0350abec-e731-41d2-afbb-ba4877817ca3"
      },
      "execution_count": 17,
      "outputs": [
        {
          "output_type": "stream",
          "name": "stdout",
          "text": [
            "*\n",
            "**\n",
            "***\n",
            "****\n",
            "*****\n"
          ]
        }
      ]
    },
    {
      "cell_type": "code",
      "source": [
        "# Another Example for  Nested Loop\n",
        "s1 = 'abc'\n",
        "s2 = 'xyz'\n",
        "for i in s1:\n",
        "  for j in s2:\n",
        "    print('(',i,j,')',end=' ')\n",
        "  print('')"
      ],
      "metadata": {
        "colab": {
          "base_uri": "https://localhost:8080/"
        },
        "id": "N9lB01UoSCdl",
        "outputId": "f4b8087e-2758-486d-d1c5-fc399d7ba0a0"
      },
      "execution_count": 22,
      "outputs": [
        {
          "output_type": "stream",
          "name": "stdout",
          "text": [
            "( a x ) ( a y ) ( a z ) \n",
            "( b x ) ( b y ) ( b z ) \n",
            "( c x ) ( c y ) ( c z ) \n"
          ]
        }
      ]
    },
    {
      "cell_type": "code",
      "source": [
        "# Match Case in Python\n",
        "# It is similar like switch case\n",
        "day = int(input(\"Enter the Day Number:\"))\n",
        "if(day==1):\n",
        "  print(\"Sunday\")\n",
        "elif(day==2):\n",
        "  print(\"Monday\")\n",
        "elif(day==3):\n",
        "  print(\"Tuesday\")\n",
        "elif(day==4):\n",
        "  print(\"Wednesday\")\n",
        "elif(day==5):\n",
        "  print(\"Thursday\")\n",
        "elif(day==6):\n",
        "  print(\"Friday\")\n",
        "elif(day==7):\n",
        "  print(\"Saturday\")\n",
        "else:\n",
        "  print(\"Invalid Day\")"
      ],
      "metadata": {
        "colab": {
          "base_uri": "https://localhost:8080/"
        },
        "id": "wWnSRf9DSUNz",
        "outputId": "1e2c367a-11c2-4cae-9cce-56649e2f37c0"
      },
      "execution_count": 23,
      "outputs": [
        {
          "output_type": "stream",
          "name": "stdout",
          "text": [
            "Enter the Day Number:5\n",
            "Thursday\n"
          ]
        }
      ]
    },
    {
      "cell_type": "code",
      "source": [],
      "metadata": {
        "id": "DdsWXjeXVnqr"
      },
      "execution_count": null,
      "outputs": []
    }
  ]
}