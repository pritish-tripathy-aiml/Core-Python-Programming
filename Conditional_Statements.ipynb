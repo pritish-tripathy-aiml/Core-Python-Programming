{
  "nbformat": 4,
  "nbformat_minor": 0,
  "metadata": {
    "colab": {
      "provenance": [],
      "authorship_tag": "ABX9TyOxHRbZHiHJIMu2nCJL9xBM",
      "include_colab_link": true
    },
    "kernelspec": {
      "name": "python3",
      "display_name": "Python 3"
    },
    "language_info": {
      "name": "python"
    }
  },
  "cells": [
    {
      "cell_type": "markdown",
      "metadata": {
        "id": "view-in-github",
        "colab_type": "text"
      },
      "source": [
        "<a href=\"https://colab.research.google.com/github/pritish-tripathy-aiml/Core-Python-Programming/blob/main/Conditional_Statements.ipynb\" target=\"_parent\"><img src=\"https://colab.research.google.com/assets/colab-badge.svg\" alt=\"Open In Colab\"/></a>"
      ]
    },
    {
      "cell_type": "markdown",
      "source": [
        "##**Conditional Statements**"
      ],
      "metadata": {
        "id": "PnPWdE9IWoMh"
      }
    },
    {
      "cell_type": "code",
      "source": [
        "# Conditional Statements in Python\n",
        "'''\n",
        "if -> We give a condition if that statement is true then if statments will run.\n",
        "else -> If the if condition is not true then the else statements will run.\n",
        "elif -> Multiple Conditions can be used in the elif Statements.\n",
        "'''\n",
        "x = 5\n",
        "if(x==5):\n",
        "  print(\"I am 5\") # Statements(Multiple Statements can be written with proper Indentation)\n",
        "else:\n",
        "  print(\"I am not 5\")"
      ],
      "metadata": {
        "id": "neeNnI0kWv7w",
        "colab": {
          "base_uri": "https://localhost:8080/"
        },
        "outputId": "e75d770f-8338-4ba7-ccab-32fee1f63f97"
      },
      "execution_count": null,
      "outputs": [
        {
          "output_type": "stream",
          "name": "stdout",
          "text": [
            "I am 5\n"
          ]
        }
      ]
    },
    {
      "cell_type": "code",
      "source": [
        "# Use of if-else Statement\n",
        "inA = int(input(\"Enter a Number: \"))\n",
        "if(inA<0):\n",
        "  print(\"Negative\")\n",
        "else:\n",
        "  print(\"Postive\")"
      ],
      "metadata": {
        "colab": {
          "base_uri": "https://localhost:8080/"
        },
        "id": "qbvnxBl6JAYm",
        "outputId": "2ceec5ed-2f57-4725-88f3-3d24797921b0"
      },
      "execution_count": null,
      "outputs": [
        {
          "output_type": "stream",
          "name": "stdout",
          "text": [
            "Enter a Number: -3\n",
            "Negative\n"
          ]
        }
      ]
    },
    {
      "cell_type": "code",
      "source": [
        "x1 = 10\n",
        "if(x1==11):\n",
        "  print(\"Multiple Statements in if\")\n",
        "  print(\"Hello I am 10\")\n",
        "else:\n",
        "  print(\"Multiple Statements in else\")\n",
        "  print(\"Hello I am not 10\")"
      ],
      "metadata": {
        "colab": {
          "base_uri": "https://localhost:8080/"
        },
        "id": "TgXdDVX2Hw3e",
        "outputId": "8d289018-4ebe-4eb0-829d-677f00fe0ec4"
      },
      "execution_count": null,
      "outputs": [
        {
          "output_type": "stream",
          "name": "stdout",
          "text": [
            "Multiple Statements in else\n",
            "Hello I am not 10\n"
          ]
        }
      ]
    },
    {
      "cell_type": "code",
      "source": [
        "# Use of elif Condtional Statement\n",
        "a = int(input(\"Enter any Number: \"))\n",
        "if(a==1):\n",
        "  print(\"I am 1\")\n",
        "  print(\"MSG1\")\n",
        "elif(a==2):\n",
        "  print(\"I am 2\")\n",
        "  print(\"MSG2\")\n",
        "elif(a==3):\n",
        "  print(\"I am 3\")\n",
        "  print(\"MSG3\")\n",
        "elif(a==4):\n",
        "  print(\"I am 4\")\n",
        "  print(\"MSG3\")\n",
        "else:\n",
        "  print(\"No Number\")"
      ],
      "metadata": {
        "colab": {
          "base_uri": "https://localhost:8080/"
        },
        "id": "RsHu45U1IK_N",
        "outputId": "c782d00d-aa77-4106-bc5d-0160b3eb5147"
      },
      "execution_count": null,
      "outputs": [
        {
          "output_type": "stream",
          "name": "stdout",
          "text": [
            "Enter any Number: 3\n",
            "I am 3\n",
            "MSG3\n"
          ]
        }
      ]
    },
    {
      "cell_type": "code",
      "source": [
        "# Logical AND Operators\n",
        "# If both conditions are True then only Result will be True\n",
        "'''\n",
        "True AND True -> True\n",
        "True AND False -> False\n",
        "False AND True -> False\n",
        "False AND False -> False\n",
        "'''\n",
        "mathMarks = int(input(\"Enter Math Marks: \"))\n",
        "phyMarks = int(input(\"Enter Physics Marks: \"))\n",
        "chemMarks = int(input(\"Enter Chemistry Marks: \"))\n",
        "\n",
        "# All Conditions must be True\n",
        "if(mathMarks>50 and phyMarks>60 and chemMarks>70):\n",
        "  print(\"You Passed the Exam\")\n",
        "else:\n",
        "  print(\"You Failed the Exam\")\n"
      ],
      "metadata": {
        "colab": {
          "base_uri": "https://localhost:8080/"
        },
        "id": "1pHF8GXKI2fN",
        "outputId": "1559ecb8-6676-4f59-ffd8-e03757a868fe"
      },
      "execution_count": null,
      "outputs": [
        {
          "output_type": "stream",
          "name": "stdout",
          "text": [
            "Enter Math Marks: 90\n",
            "Enter Physics Marks: 50\n",
            "Enter Chemistry Marks: 90\n",
            "You Failed the Exam\n"
          ]
        }
      ]
    },
    {
      "cell_type": "code",
      "source": [
        "# Logical OR Operator\n",
        "# If any one condition is True then Result will be True\n",
        "'''\n",
        "True OR True -> True\n",
        "True OR False -> True\n",
        "False OR True -> True\n",
        "False OR False -> False\n",
        "'''\n",
        "gender = input(\"Enter your Gender:\")\n",
        "if(gender=='m' or gender=='M'):\n",
        "  print(\"You are a Male\")\n",
        "else:\n",
        "  print(\"You are a Female\")"
      ],
      "metadata": {
        "colab": {
          "base_uri": "https://localhost:8080/"
        },
        "id": "A06JcM3CQYvy",
        "outputId": "0a0aaf23-31a6-4d4a-83fe-7ef311f01507"
      },
      "execution_count": null,
      "outputs": [
        {
          "output_type": "stream",
          "name": "stdout",
          "text": [
            "Enter your Gender:m\n",
            "You are a Male\n"
          ]
        }
      ]
    },
    {
      "cell_type": "code",
      "source": [
        "# Logical NOT Operator\n",
        "# It just reverses the Boolean Value\n",
        "'''\n",
        "not True -> False\n",
        "not False -> True\n",
        "'''\n",
        "\n",
        "# Example of a Logical NOT Operator\n",
        "x = 100\n",
        "if(not(x>=50 and x<=100)):\n",
        "  print(\"If Condition\")\n",
        "else:\n",
        "  print(\"Else Condition\")"
      ],
      "metadata": {
        "colab": {
          "base_uri": "https://localhost:8080/"
        },
        "id": "Yd2lS2dzRLx6",
        "outputId": "2dce34d0-ff6a-41cc-ab0b-07c4529a3169"
      },
      "execution_count": null,
      "outputs": [
        {
          "output_type": "stream",
          "name": "stdout",
          "text": [
            "Else Condition\n"
          ]
        }
      ]
    },
    {
      "cell_type": "code",
      "source": [
        "# Nested if and elif Condition\n",
        "'''\n",
        "There are three friend of different age Groups, Finding who is eldest\n",
        "'''\n",
        "# Nested If Condition\n",
        "markAge = int(input(\"Enter Mark's Age: \"))\n",
        "daveAge = int(input(\"Enter Dave's Age: \"))\n",
        "johnAge = int(input(\"Enter John's Age: \"))\n",
        "if(markAge>daveAge and markAge>johnAge):\n",
        "  print(\"Mark is Eldest\")\n",
        "else:\n",
        "  if(daveAge>johnAge):\n",
        "    print(\"Dave is Eldest\")\n",
        "  else:\n",
        "    print(\"John is Eldest\")"
      ],
      "metadata": {
        "id": "9pAhiRG5TLaQ",
        "colab": {
          "base_uri": "https://localhost:8080/"
        },
        "outputId": "3b4a896e-41ea-4c15-a0df-e25d7673a1f6"
      },
      "execution_count": 5,
      "outputs": [
        {
          "output_type": "stream",
          "name": "stdout",
          "text": [
            "Enter Mark's Age: 34\n",
            "Enter Dave's Age: 45\n",
            "Enter John's Age: 56\n",
            "John is Eldest\n"
          ]
        }
      ]
    },
    {
      "cell_type": "code",
      "source": [
        "4# Elif Condition\n",
        "markAge = int(input(\"Enter Mark's Age: \"))\n",
        "daveAge = int(input(\"Enter Dave's Age: \"))\n",
        "johnAge = int(input(\"Enter John's Age: \"))\n",
        "if(markAge>daveAge and markAge>johnAge):\n",
        "  print(\"Mark is Eldest\")\n",
        "elif(daveAge>markAge and daveAge>johnAge):\n",
        "  print(\"Dave is Eldest\")\n",
        "else:\n",
        "  print(\"John is Eldest\")"
      ],
      "metadata": {
        "colab": {
          "base_uri": "https://localhost:8080/"
        },
        "id": "PdBts8EwUKSy",
        "outputId": "4b07ed70-5504-44c5-b965-409be0b3cc6e"
      },
      "execution_count": 4,
      "outputs": [
        {
          "output_type": "stream",
          "name": "stdout",
          "text": [
            "Enter Mark Age: 32\n",
            "Enter Dave Age: 43\n",
            "Enter John Age: 56\n",
            "John is Eldest\n"
          ]
        }
      ]
    },
    {
      "cell_type": "code",
      "source": [
        "# Check Whether a Year is Leap Year or Not\n",
        "'''\n",
        "If year % 100 == 0\n",
        "  if year % 400 == 0\n",
        "    leap\n",
        "  else\n",
        "    not leap\n",
        "Elif year % 4 == 0\n",
        "  leap\n",
        "else\n",
        "  not leap\n",
        "'''\n",
        "year = int(input(\"Enter the Year: \"))\n",
        "if(year%100==0):\n",
        "  if(year%400==0):\n",
        "    print(\"It is a Leap Year\")\n",
        "  else:\n",
        "    print(\"It is not a Leap Year\")\n",
        "elif(year%4==0):\n",
        "  print(\"It is a Leap Year\")\n",
        "else:\n",
        "  print(\"It is not a Leap Year\")"
      ],
      "metadata": {
        "colab": {
          "base_uri": "https://localhost:8080/"
        },
        "id": "1rKzZcKWacCY",
        "outputId": "fad8acca-3929-415a-91d0-54c01845166c"
      },
      "execution_count": 8,
      "outputs": [
        {
          "output_type": "stream",
          "name": "stdout",
          "text": [
            "Enter the Year: 1900\n",
            "It is not a Leap Year\n"
          ]
        }
      ]
    },
    {
      "cell_type": "code",
      "source": [
        "# Relational Operators in Detail\n",
        "'''\n",
        "Working on Relational Operators on different Datatypes\n",
        "int -> <, <=, >, >=, ==, !=\n",
        "float -> <, <=, >, >=, ==, !=\n",
        "bool -> <, <=, >, >=, ==, !=\n",
        "complex -> ==, !=\n",
        "str -> <, <=, >, >=, ==, !=\n",
        "'''\n",
        "# Only equal(==) and not equal(!=) are allowed in complex datatype\n",
        "'''\n",
        "s1 = \"America\"\n",
        "s2 = \"Brazil\"\n",
        "s1<s2\n",
        "# A comes first B comes next. It compares based on Lexicographical Order\n",
        "# That Means ASCII Values\n",
        "'''\n",
        "s1 = \"America\"\n",
        "s2 = \"Brazil\"     # B is present after a so s2 is bigger\n",
        "print(s1<s2)\n",
        "\n",
        "s3 = \"America\"\n",
        "s4 = \"Americd\"\n",
        "print(s3 > s4)    # At Last d is present so s4 is bigger\n",
        "\n",
        "s5 = \"brazil\"\n",
        "s6 = \"Brazil\"\n",
        "print(s5 > s6)    # Always Uppercase letters come first\n",
        "\n",
        "s1 = \"America\"\n",
        "s2 = \"antartica\"\n",
        "print(s1 < s2)"
      ],
      "metadata": {
        "colab": {
          "base_uri": "https://localhost:8080/"
        },
        "id": "liVVpIS3jJrt",
        "outputId": "ebe209b6-e491-43c9-cf79-363c18ddc107"
      },
      "execution_count": 13,
      "outputs": [
        {
          "output_type": "stream",
          "name": "stdout",
          "text": [
            "True\n",
            "False\n",
            "True\n",
            "True\n"
          ]
        }
      ]
    },
    {
      "cell_type": "code",
      "source": [
        "# Logical Operators in Detail\n",
        "'''\n",
        "and, or, not -> They work upon compound conditional Statement and the result is either True or False\n",
        "It also work in non-boolean datatype\n",
        "Example:\n",
        "a = 5, b = 10, c = 15\n",
        "if(a<5(T) and a<c(T)):\n",
        "  result True\n",
        "\n",
        "# Any Non Zero Value is treated as True and 0 is treated as False\n",
        "# Also 0.0 is also treated as False\n",
        "\n",
        "If we write if(5 and 6):\n",
        "result True\n",
        "'''\n",
        "if(5 and 6):\n",
        "  print(\"It is True\")\n",
        "else:\n",
        "  print(\"NO\")\n"
      ],
      "metadata": {
        "colab": {
          "base_uri": "https://localhost:8080/"
        },
        "id": "mXvwX864ksEY",
        "outputId": "dc149859-c08a-4c12-b2d6-cf28fa65035b"
      },
      "execution_count": 15,
      "outputs": [
        {
          "output_type": "stream",
          "name": "stdout",
          "text": [
            "It is True\n"
          ]
        }
      ]
    },
    {
      "cell_type": "code",
      "source": [
        "if(5 and 0):\n",
        "  print(\"It is True\")\n",
        "else:\n",
        "  print(\"It is False\")"
      ],
      "metadata": {
        "colab": {
          "base_uri": "https://localhost:8080/"
        },
        "id": "3Y2HpA-engvP",
        "outputId": "62b0641a-1958-4643-c193-3440c8d29209"
      },
      "execution_count": 17,
      "outputs": [
        {
          "output_type": "stream",
          "name": "stdout",
          "text": [
            "It is False\n"
          ]
        }
      ]
    },
    {
      "cell_type": "code",
      "source": [
        "if(5 or 0):\n",
        "  print(\"It is True\")\n",
        "else:\n",
        "  print(\"It is False\")"
      ],
      "metadata": {
        "colab": {
          "base_uri": "https://localhost:8080/"
        },
        "id": "3XKrGcqwn0PM",
        "outputId": "ba715512-1bb0-4cd7-fcc9-d42c0e2a9a38"
      },
      "execution_count": 18,
      "outputs": [
        {
          "output_type": "stream",
          "name": "stdout",
          "text": [
            "It is True\n"
          ]
        }
      ]
    },
    {
      "cell_type": "code",
      "source": [
        "# In the case of Complex Numbers\n",
        "# It will be false if both real and Imaginary part will be 0 i.e 0 + 0j\n",
        "# Empty String is Considered as False\n",
        "if('' and 'Hi'):\n",
        "  print(\"It is True\")\n",
        "else:\n",
        "  print(\"It is False\")"
      ],
      "metadata": {
        "colab": {
          "base_uri": "https://localhost:8080/"
        },
        "id": "PXsyLpPQpB8u",
        "outputId": "fb9df11f-918d-4703-8e52-4d403b4b6db2"
      },
      "execution_count": 19,
      "outputs": [
        {
          "output_type": "stream",
          "name": "stdout",
          "text": [
            "It is False\n"
          ]
        }
      ]
    },
    {
      "cell_type": "code",
      "source": [
        "# What is Short-Circuit\n",
        "# and Operator\n",
        "'''\n",
        "a<b and a<c\n",
        "In the case of and if a<b equals false then the second condition will not be checked at all and it will return false.\n",
        "So this condition is called short circuit.\n",
        "If Condtion 1 is True then also It needs to Check the Second Condition as well.\n",
        "'''\n",
        "\n",
        "# or Operator\n",
        "'''\n",
        "a<b and a<c\n",
        "In the case of and if a<b equals true then the second condition will not be checked at all and it will return true.\n",
        "So this condition is called short circuit.\n",
        "If Condtion 1 is False then also It needs to Check the Second Condition as well.\n",
        "'''\n",
        "# It works in the same way as float, complex and string as well."
      ],
      "metadata": {
        "colab": {
          "base_uri": "https://localhost:8080/",
          "height": 52
        },
        "id": "47MvRP-orBjF",
        "outputId": "734c2aa9-82d6-473b-817a-619d55145417"
      },
      "execution_count": 20,
      "outputs": [
        {
          "output_type": "execute_result",
          "data": {
            "text/plain": [
              "'\\na<b and a<c\\nIn the case of and if a<b equals true then the second condition will not be checked at all and it will return true.\\nSo this condition is called short circuit.\\nIf Condtion 1 is False then also It needs to Check the Second Condition as well.\\n'"
            ],
            "application/vnd.google.colaboratory.intrinsic+json": {
              "type": "string"
            }
          },
          "metadata": {},
          "execution_count": 20
        }
      ]
    },
    {
      "cell_type": "code",
      "source": [
        "# Bitwise Operators\n",
        "'''\n",
        "The Bitwise Operators in Python are:\n",
        "& -> AND\n",
        "| -> OR\n",
        "^ -> XOR\n",
        "~ -> Complement\n",
        "<< -> Left Shift\n",
        ">> -> Right Shift\n",
        "'''\n",
        "# Binary Calculation\n",
        "'''\n",
        "Calculate Binary\n",
        "14 => Go Dividing by 2 and Take the Remainder Upwards\n",
        "1110\n",
        "\n",
        "25 => 11001\n",
        "\n",
        "1 + 0 = 1\n",
        "1 + 1 = 0 -> Carry 1\n",
        "0 + 0 = 0\n",
        "'''\n",
        "# Internally Values Stored in PC as Binary Digits\n",
        "# To know the Binary Form\n",
        "a = 10\n",
        "print('a(10) in Binary:',format(a,'b'))\n",
        "print('Bit Length of a:',a.bit_length)\n",
        "b = 25\n",
        "print('b(25) in Binary:',format(b,'b'))\n",
        "print('Bit Length of b:',b.bit_length)\n",
        "'''\n",
        "If we use bin(a) function it will return 0b as well but if we use the\n",
        "format(a,'b') then it will give proper binary digits\n",
        "'''"
      ],
      "metadata": {
        "colab": {
          "base_uri": "https://localhost:8080/",
          "height": 104
        },
        "id": "7jnLNSYNsZW6",
        "outputId": "76879ab3-9b64-4c86-8227-a6fe1ed6d15d"
      },
      "execution_count": 24,
      "outputs": [
        {
          "output_type": "stream",
          "name": "stdout",
          "text": [
            "a(10) in Binary: 1010\n",
            "Bit Length of a: <built-in method bit_length of int object at 0xa40ca8>\n",
            "b(25) in Binary: 11001\n",
            "Bit Length of b: <built-in method bit_length of int object at 0xa40e88>\n"
          ]
        },
        {
          "output_type": "execute_result",
          "data": {
            "text/plain": [
              "\"\\nIf we use bin(a) function it will return 0b as well but if we use the\\nformat(a,'b') then it will give proper binary digits\\n\""
            ],
            "application/vnd.google.colaboratory.intrinsic+json": {
              "type": "string"
            }
          },
          "metadata": {},
          "execution_count": 24
        }
      ]
    },
    {
      "cell_type": "code",
      "source": [
        "a = 10  # a -> 1010\n",
        "b = 13  # b -> 1101\n",
        "# In the case of & Operator if both bits are 1 then only result will be 1 or else 0\n",
        "c = a & b\n",
        "print(c)    # 8 -> 1000\n",
        "\n",
        "# In the case of | Operator if any one bit is 1 then result will be 1\n",
        "# If both bits are 0 then only result will be 0\n",
        "d = a | b\n",
        "print(d)    # 15 -> 1111\n",
        "print(format(d,'b'))"
      ],
      "metadata": {
        "colab": {
          "base_uri": "https://localhost:8080/"
        },
        "id": "nEwxbjf2ui3-",
        "outputId": "498c6545-be08-4f91-fb37-22dd576ba24f"
      },
      "execution_count": 32,
      "outputs": [
        {
          "output_type": "stream",
          "name": "stdout",
          "text": [
            "8\n",
            "15\n",
            "1111\n"
          ]
        }
      ]
    },
    {
      "cell_type": "code",
      "source": [
        "# In the case of XOR\n",
        "'''\n",
        "If both Bits are 1 then result is 0\n",
        "If any one Bit is 1 then result is 1\n",
        "If both Bits are 0 then result is 0\n",
        "'''\n",
        "e = a ^ b   # 7 -> 0111\n",
        "print(e)\n",
        "print(format(e,'b'))"
      ],
      "metadata": {
        "colab": {
          "base_uri": "https://localhost:8080/"
        },
        "id": "l8uOFBt-vzlh",
        "outputId": "a31110e2-902f-4828-c693-1a334a9197dc"
      },
      "execution_count": 33,
      "outputs": [
        {
          "output_type": "stream",
          "name": "stdout",
          "text": [
            "7\n",
            "111\n"
          ]
        }
      ]
    },
    {
      "cell_type": "code",
      "source": [
        "# Left Shift\n",
        "'''\n",
        "a = 10\n",
        "    1010\n",
        "   10100    # Empty Space will be Filled by 0\n",
        "'''\n",
        "a = 10\n",
        "sf1 = a << 1\n",
        "print(sf1)    # 20 -> 10100\n",
        "print(format(sf1,'b'))\n",
        "\n",
        "sf2 = a << 2\n",
        "print(sf2)    # 40 -> 101000\n",
        "print(format(sf2,'b'))\n",
        "\n",
        "'''\n",
        "It works in the following ways\n",
        "a = 10\n",
        "If we do a << 2 then: 2^n * a => 2^2 * a => 4 * 10 => 40\n",
        "If we do a << 5 then: 2^n * a => 2^5 * a => 32 * 10 => 320\n",
        "'''"
      ],
      "metadata": {
        "colab": {
          "base_uri": "https://localhost:8080/",
          "height": 104
        },
        "id": "fgrKEmEyw4o4",
        "outputId": "211d3bc3-2a98-406d-b543-abb1b265be89"
      },
      "execution_count": 38,
      "outputs": [
        {
          "output_type": "stream",
          "name": "stdout",
          "text": [
            "20\n",
            "10100\n",
            "40\n",
            "101000\n"
          ]
        },
        {
          "output_type": "execute_result",
          "data": {
            "text/plain": [
              "'\\nIt works in the following ways\\na = 10\\nIf we do a << 2 then: 2^2 * a => 4 * 10 => 40\\nIf we do a << 5 then: 2^5 * a => 32 * 10 => 320\\n'"
            ],
            "application/vnd.google.colaboratory.intrinsic+json": {
              "type": "string"
            }
          },
          "metadata": {},
          "execution_count": 38
        }
      ]
    },
    {
      "cell_type": "code",
      "source": [
        "# Right Shift\n",
        "'''\n",
        "a = 10\n",
        "    1010\n",
        "     101    # Extra Space will be Discarded\n",
        "'''\n",
        "a = 10\n",
        "sf1 = a >> 1\n",
        "print(sf1)    # 5 -> 101\n",
        "print(format(sf1,'b'))\n",
        "\n",
        "sf2 = a >> 2\n",
        "print(sf2)    # 2 -> 10\n",
        "print(format(sf2,'b'))\n",
        "'''\n",
        "It works in the following ways\n",
        "a = 10\n",
        "If we do a >> 2 then: a/(2^n) => 10/2^2 => 2\n",
        "If we do a >> 5 then: a/(2^n) => 10/2^5 => 0\n",
        "'''"
      ],
      "metadata": {
        "colab": {
          "base_uri": "https://localhost:8080/",
          "height": 104
        },
        "id": "3xeoU4Cyxkdg",
        "outputId": "4ee6f721-8d0d-45e9-97f8-d439dbe089e3"
      },
      "execution_count": 41,
      "outputs": [
        {
          "output_type": "stream",
          "name": "stdout",
          "text": [
            "5\n",
            "101\n",
            "2\n",
            "10\n"
          ]
        },
        {
          "output_type": "execute_result",
          "data": {
            "text/plain": [
              "'\\nIt works in the following ways\\na = 10\\nIf we do a >> 2 then: a/(2^n) => 10/2^2 => 2\\nIf we do a >> 5 then: a/(2^n) => 10/2^5 => 0\\n'"
            ],
            "application/vnd.google.colaboratory.intrinsic+json": {
              "type": "string"
            }
          },
          "metadata": {},
          "execution_count": 41
        }
      ]
    },
    {
      "cell_type": "code",
      "source": [
        "# Identity Operators\n",
        "'''\n",
        "is, is not\n",
        "If two variables refering to same memory then is returns True in case of is that means\n",
        "a = 10 and b = 10\n",
        "a is b => returns True\n",
        "a is not b => returns False\n",
        "'''\n",
        "a = 10\n",
        "b = 10\n",
        "print(\"id of a:\",id(a),\" and id of b:\",id(b))\n",
        "print(\"a is b:\",a is b)\n",
        "\n",
        "c = 20\n",
        "d = 30\n",
        "print(\"id of c:\",id(c),\" and id of d:\",id(d))\n",
        "print(\"c is d:\",c is d)\n",
        "print(\"c is not d:\",c is not d)"
      ],
      "metadata": {
        "colab": {
          "base_uri": "https://localhost:8080/"
        },
        "id": "P2MGtG11yuAX",
        "outputId": "b7ec3bf5-59c3-4860-c55f-1df65edf0813"
      },
      "execution_count": 44,
      "outputs": [
        {
          "output_type": "stream",
          "name": "stdout",
          "text": [
            "id of a: 10751144  and id of b: 10751144\n",
            "a is b: True\n",
            "id of c: 10751464  and id of d: 10751784\n",
            "c is d: False\n",
            "c is not d: True\n"
          ]
        }
      ]
    },
    {
      "cell_type": "code",
      "source": [
        "# If we do not type cast it and enter the value with user input then it holds different memory address\n",
        "# input function always allocate or make a new memory address\n",
        "myA = input(\"Enter A value:\")\n",
        "myB = input(\"Enter B value:\")\n",
        "print(\"A id:\",id(myA))\n",
        "print(\"B id:\",id(myB))\n",
        "print(\"a is b:\",myA is myB)\n",
        "print(\"a is not b:\",myA is not myB)"
      ],
      "metadata": {
        "colab": {
          "base_uri": "https://localhost:8080/"
        },
        "id": "1eNxUAqD0PP4",
        "outputId": "a6435db4-39d5-4ef4-8822-485eba202a82"
      },
      "execution_count": 49,
      "outputs": [
        {
          "output_type": "stream",
          "name": "stdout",
          "text": [
            "Enter A value:10\n",
            "Enter B value:10\n",
            "A id: 138849093917488\n",
            "B id: 138849093925936\n",
            "a is b: False\n",
            "a is not b: True\n"
          ]
        }
      ]
    },
    {
      "cell_type": "code",
      "source": [
        "# If we type cast it and enter the value with user input then it holds same memory address\n",
        "# int Type Conversion function do reference to make the same memory address\n",
        "myA = int(input(\"Enter A value:\"))\n",
        "myB = int(input(\"Enter B value:\"))\n",
        "print(\"A id:\",id(myA))\n",
        "print(\"B id:\",id(myB))\n",
        "print(\"a is b:\",myA is myB)\n",
        "print(\"a is not b:\",myA is not myB)"
      ],
      "metadata": {
        "colab": {
          "base_uri": "https://localhost:8080/"
        },
        "id": "DVCZzepa2BrA",
        "outputId": "33e1aab6-315d-41c7-811e-2d9613aef074"
      },
      "execution_count": 50,
      "outputs": [
        {
          "output_type": "stream",
          "name": "stdout",
          "text": [
            "Enter A value:10\n",
            "Enter B value:10\n",
            "A id: 10751144\n",
            "B id: 10751144\n",
            "a is b: True\n",
            "a is not b: False\n"
          ]
        }
      ]
    },
    {
      "cell_type": "markdown",
      "source": [
        "##**Conditional Statements End**"
      ],
      "metadata": {
        "id": "M8uP-Kor4DwU"
      }
    }
  ]
}