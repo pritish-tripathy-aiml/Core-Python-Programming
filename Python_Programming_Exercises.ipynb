{
  "nbformat": 4,
  "nbformat_minor": 0,
  "metadata": {
    "colab": {
      "provenance": [],
      "authorship_tag": "ABX9TyNNnJxHx05eJdmgW86Ck0Pf",
      "include_colab_link": true
    },
    "kernelspec": {
      "name": "python3",
      "display_name": "Python 3"
    },
    "language_info": {
      "name": "python"
    }
  },
  "cells": [
    {
      "cell_type": "markdown",
      "metadata": {
        "id": "view-in-github",
        "colab_type": "text"
      },
      "source": [
        "<a href=\"https://colab.research.google.com/github/pritish-tripathy-aiml/Core-Python-Programming/blob/main/Python_Programming_Exercises.ipynb\" target=\"_parent\"><img src=\"https://colab.research.google.com/assets/colab-badge.svg\" alt=\"Open In Colab\"/></a>"
      ]
    },
    {
      "cell_type": "markdown",
      "source": [
        "##**Python Programming Exercises**"
      ],
      "metadata": {
        "id": "cPMx8PpGqV9z"
      }
    },
    {
      "cell_type": "code",
      "source": [
        "# Python Program to Find Area of a Rectangle\n",
        "'''\n",
        "area = length * breadth\n",
        "'''\n",
        "length = int(input(\"Enter Length: \"))\n",
        "breadth = int(input(\"Enter Breadth: \"))\n",
        "area = length * breadth\n",
        "print(\"Area of Rectangle =\",area,\"Sq.M\")"
      ],
      "metadata": {
        "colab": {
          "base_uri": "https://localhost:8080/"
        },
        "id": "1gd_2wviqgpt",
        "outputId": "a4ddd2c4-a1c0-44f8-9fe9-58181a09cb29"
      },
      "execution_count": null,
      "outputs": [
        {
          "output_type": "stream",
          "name": "stdout",
          "text": [
            "Enter Length: 12\n",
            "Enter Breadth: 5\n",
            "Area of Rectangle = 60 Sq.M\n"
          ]
        }
      ]
    },
    {
      "cell_type": "code",
      "source": [
        "# Python Program to Find the Area of a Triangle\n",
        "'''\n",
        "area = 1/2 * base * height\n",
        "'''\n",
        "base = int(input(\"Enter Base: \"))\n",
        "height = int(input(\"Enter Height: \"))\n",
        "area = 0.5 * base * height\n",
        "print(\"Area of Triangle =\",area,\"Sq.M\")"
      ],
      "metadata": {
        "colab": {
          "base_uri": "https://localhost:8080/"
        },
        "id": "rg8teInj5Wuj",
        "outputId": "6b697e38-b8fc-43ab-854d-aaf9d6e3236e"
      },
      "execution_count": null,
      "outputs": [
        {
          "output_type": "stream",
          "name": "stdout",
          "text": [
            "Enter Base: 10\n",
            "Enter Height: 5\n",
            "Area of Triangle = 25.0 Sq.M\n"
          ]
        }
      ]
    },
    {
      "cell_type": "code",
      "source": [
        "# Python Program to Find Area of Trapezium\n",
        "'''\n",
        "area = 1/2(a + b)h\n",
        "'''\n",
        "side1 = int(input(\"Enter Side1: \"))\n",
        "side2 = int(input(\"Enter Side2: \"))\n",
        "height = int(input(\"Enter Height: \"))\n",
        "area = 0.5 * (side1 + side2) * height\n",
        "print(\"Area of Trapezium =\",area,\"Sq.M\")"
      ],
      "metadata": {
        "colab": {
          "base_uri": "https://localhost:8080/"
        },
        "id": "YPoA4uWz61rS",
        "outputId": "96ed09d8-ae45-4d12-9e1e-c1bc66282277"
      },
      "execution_count": null,
      "outputs": [
        {
          "output_type": "stream",
          "name": "stdout",
          "text": [
            "Enter Side1: 5\n",
            "Enter Side2: 10\n",
            "Enter Height: 7\n",
            "Area of Trapezium = 52.5 Sq.M\n"
          ]
        }
      ]
    },
    {
      "cell_type": "code",
      "source": [
        "# Python Program to Find the Displacement\n",
        "'''\n",
        "displacement = (v^2 - u^2)/2a\n",
        "'''\n",
        "u = int(input(\"Enter Initial Velocity: \"))\n",
        "v = int(input(\"Enter Final Velocity: \"))\n",
        "a = int(input(\"Enter Acceleration: \"))\n",
        "dis = ((v**2) - (u**2)) / (2*a)\n",
        "print(\"Displacement =\",dis,\"m\")"
      ],
      "metadata": {
        "colab": {
          "base_uri": "https://localhost:8080/"
        },
        "id": "HjXS7Hds7u4x",
        "outputId": "4f6a5751-5697-472b-c3c1-5d897b1b0770"
      },
      "execution_count": null,
      "outputs": [
        {
          "output_type": "stream",
          "name": "stdout",
          "text": [
            "Enter Initial Velocity: 5\n",
            "Enter Final Velocity: 20\n",
            "Enter Acceleration: 6\n",
            "Displacement = 31.25 m\n"
          ]
        }
      ]
    },
    {
      "cell_type": "code",
      "source": [
        "# Python Program to Convert Kilometers to Miles\n",
        "'''\n",
        "1 Km = 0.621371 miles\n",
        "'''\n",
        "km = float(input(\"Enter Distance in Kilometers:\"))\n",
        "mls = km * 0.621371\n",
        "print(\"Distance is =\",mls,\"miles\")"
      ],
      "metadata": {
        "colab": {
          "base_uri": "https://localhost:8080/"
        },
        "id": "wNq-OqA_8_TB",
        "outputId": "b178960d-f830-4f00-d585-39a1d20bde14"
      },
      "execution_count": null,
      "outputs": [
        {
          "output_type": "stream",
          "name": "stdout",
          "text": [
            "Enter Distance in Kilometers:20\n",
            "Distance is = 12.42742 miles\n"
          ]
        }
      ]
    },
    {
      "cell_type": "code",
      "source": [
        "# Python Program to find Area of a Circle\n",
        "'''\n",
        "area = pi * radius * radius\n",
        "pi = 3.14159....\n",
        "'''\n",
        "import math as mt   # Importing Required Module for PI Value\n",
        "radius = float(input(\"Enter Radius of Circle:\"))\n",
        "area = mt.pi * radius * radius\n",
        "# area = mt.pi * radius * radius  you can use this as well\n",
        "print(\"Area of Circle=\",area,\"Sq. M\")"
      ],
      "metadata": {
        "colab": {
          "base_uri": "https://localhost:8080/"
        },
        "id": "5_OyVHZq93Uz",
        "outputId": "d1fc57e3-89e7-44ea-8053-3a7ecf33b7a0"
      },
      "execution_count": null,
      "outputs": [
        {
          "output_type": "stream",
          "name": "stdout",
          "text": [
            "Enter Radius of Circle:7\n",
            "Area of Circle= 153.93804002589985 Sq. M\n"
          ]
        }
      ]
    },
    {
      "cell_type": "code",
      "source": [
        "# Python Program to Find Total Surface Area of Cuboid\n",
        "'''\n",
        "surface area = 2 * (length * breadth + breath * height + length * height)\n",
        "'''\n",
        "len = float(input(\"Enter the Length:\"))\n",
        "brth = float(input(\"Enter the Breadth:\"))\n",
        "hgt = float(input(\"Enter the Height:\"))\n",
        "surfaceArea = 2 * ((len * brth) + (brth * hgt) + (len * hgt))\n",
        "print(\"Surface Area of Cuboid=\",surfaceArea,\"Sq. M\")"
      ],
      "metadata": {
        "colab": {
          "base_uri": "https://localhost:8080/"
        },
        "id": "rsFpPH7u-wZC",
        "outputId": "5eedf5ac-ad78-4422-c90f-08e9a53b44d1"
      },
      "execution_count": null,
      "outputs": [
        {
          "output_type": "stream",
          "name": "stdout",
          "text": [
            "Enter the Length:10\n",
            "Enter the Breadth:5\n",
            "Enter the Height:3\n",
            "Surface Area of Cuboid= 190.0 Sq. M\n"
          ]
        }
      ]
    },
    {
      "cell_type": "code",
      "source": [
        "# Python Program to Find Roots of Quadratic Equations\n",
        "'''\n",
        "Example: ax^3 + bx + x = 0\n",
        "root1 = (-b + sqRoot. b^2 - 4ac)/2a\n",
        "root1 = (-b - sqRoot. b^2 - 4ac)/2a\n",
        "'''\n",
        "# import math as m   No need to import, if we imported it previously\n",
        "a = int(input(\"Enter the Value of a:\"))\n",
        "b = int(input(\"Enter the Value of b:\"))\n",
        "c = int(input(\"Enter the Value of c:\"))\n",
        "root1 = (-b + mt.sqrt((b**2) - (4*a*c)))/(2*a)\n",
        "root2 = (-b - mt.sqrt((b**2) - (4*a*c)))/(2*a)\n",
        "print(\"Roots of the Quadratic Equation are =\",root1,\"and\",root2)\n",
        "# If root gives negative values then it will give math domain error like 1,1 and 5"
      ],
      "metadata": {
        "colab": {
          "base_uri": "https://localhost:8080/"
        },
        "id": "mY3wlGIOAI2U",
        "outputId": "3f4bc67c-a870-4fda-e3a6-98d3716ed272"
      },
      "execution_count": null,
      "outputs": [
        {
          "output_type": "stream",
          "name": "stdout",
          "text": [
            "Enter the Value of a:1\n",
            "Enter the Value of b:-5\n",
            "Enter the Value of c:6\n",
            "Roots of the Quadratic Equation are = 3.0 and 2.0\n"
          ]
        }
      ]
    },
    {
      "cell_type": "code",
      "source": [
        "# Find the Difference between two numbers\n",
        "'''\n",
        "Take Two Numbers as Input\n",
        "20 - 5 = 15\n",
        "5 - 15 = -15 (We have to print 15 Only because we want difference)\n",
        "'''\n",
        "a = int(input(\"Enter First Number: \"))\n",
        "b = int(input(\"Enter Second Number: \"))\n",
        "result1 = a - b\n",
        "result2 = b - a\n",
        "if(a>b):\n",
        "  print(\"Difference:\",result1)\n",
        "else:\n",
        "  print(\"Difference:\",result2)"
      ],
      "metadata": {
        "id": "rHjFbFelDhxL",
        "colab": {
          "base_uri": "https://localhost:8080/"
        },
        "outputId": "589ec9c0-74f4-45b1-8ef5-ff884293834a"
      },
      "execution_count": 3,
      "outputs": [
        {
          "output_type": "stream",
          "name": "stdout",
          "text": [
            "Enter First Number: 5\n",
            "Enter Second Number: 20\n",
            "Difference: 15\n"
          ]
        }
      ]
    },
    {
      "cell_type": "code",
      "source": [
        "# Check if a number is Odd or Even\n",
        "'''\n",
        "If a Number is Divided by 2 and it gives 0 as remainder it is Even Number\n",
        "If a Number is Divided by 2 and it gives number other than 0 as remainder it is Odd Number\n",
        "'''\n",
        "num = int(input(\"Enter a Number: \"))\n",
        "if(num%2==0):\n",
        "  print(\"Number is Even\")\n",
        "else:\n",
        "  print(\"Number is Odd\")"
      ],
      "metadata": {
        "colab": {
          "base_uri": "https://localhost:8080/"
        },
        "id": "VaST66U4H5nd",
        "outputId": "00d6a43d-4984-4a00-818d-ecccab241b91"
      },
      "execution_count": 5,
      "outputs": [
        {
          "output_type": "stream",
          "name": "stdout",
          "text": [
            "Enter a Number: 13\n",
            "Number is Odd\n"
          ]
        }
      ]
    },
    {
      "cell_type": "code",
      "source": [
        "# Check Age Eligibily for Casting a Vote\n",
        "'''\n",
        "If age is greater than 18 or equal to 18, Eligible to Vote\n",
        "If age is less than 18 Not Eligible to Vote\n",
        "'''\n",
        "age = int(input(\"Enter your Age: \"))\n",
        "if(age>=18):\n",
        "  print(\"You can Vote\")\n",
        "else:\n",
        "  print(\"You cannot vote\")"
      ],
      "metadata": {
        "colab": {
          "base_uri": "https://localhost:8080/"
        },
        "id": "AXtoiYenJP2G",
        "outputId": "1b703f38-0578-4681-97a6-289dd8a46a89"
      },
      "execution_count": 9,
      "outputs": [
        {
          "output_type": "stream",
          "name": "stdout",
          "text": [
            "Enter your Age: 17\n",
            "You cannot vote\n"
          ]
        }
      ]
    },
    {
      "cell_type": "code",
      "source": [
        "# Check if marks of a Subject are withing range 0 - 100\n",
        "'''\n",
        "Valid marks should range from 0 to 100\n",
        "'''\n",
        "marks = float(input(\"Enter the Marks: \"))\n",
        "if(marks>0 and marks<=100):\n",
        "  print(\"Valid Marks\")\n",
        "else:\n",
        "  print(\"Invalid Marks\")"
      ],
      "metadata": {
        "colab": {
          "base_uri": "https://localhost:8080/"
        },
        "id": "GfU-WSA6J1QF",
        "outputId": "05f41d50-0e62-476c-b762-6c68ff643049"
      },
      "execution_count": 21,
      "outputs": [
        {
          "output_type": "stream",
          "name": "stdout",
          "text": [
            "Enter the Marks: 78.5\n",
            "Valid Marks\n"
          ]
        }
      ]
    },
    {
      "cell_type": "code",
      "source": [
        "# Check if a Person is 'Male' or 'Female'\n",
        "'''\n",
        "If input is m or M -> Male\n",
        "If input is f or F -> Female\n",
        "If input is other than that -> Invalid Choice\n",
        "'''\n",
        "gender = input(\"Enter your Gender: \")\n",
        "if(gender=='M' or gender=='m'):\n",
        "  print(\"You are Male\")\n",
        "elif(gender=='F' or gender=='f'):\n",
        "  print(\"You are Female\")\n",
        "else:\n",
        "  print(\"Invalid Choice\")"
      ],
      "metadata": {
        "colab": {
          "base_uri": "https://localhost:8080/"
        },
        "id": "ZnM8l59SLJqw",
        "outputId": "f7572140-3a75-48fb-fead-9566c32d5e31"
      },
      "execution_count": 31,
      "outputs": [
        {
          "output_type": "stream",
          "name": "stdout",
          "text": [
            "Enter your Gender: m\n",
            "You are Male\n"
          ]
        }
      ]
    },
    {
      "cell_type": "code",
      "source": [
        "# Check if a Person is Eligible to Work or Not\n",
        "'''\n",
        "If a Person age is between 18 to 60 then eligible for work\n",
        "if not then not eligible for work\n",
        "'''\n",
        "age = int(input(\"Enter your Age: \"))\n",
        "if(age>=18 and age<=60):\n",
        "  print(\"You are Eligible for Work\")\n",
        "else:\n",
        "  print(\"You are not Eligible for Work\")"
      ],
      "metadata": {
        "colab": {
          "base_uri": "https://localhost:8080/"
        },
        "id": "FB5NwVP0MeHP",
        "outputId": "b0b21c15-facd-423a-8024-46dfb9a051ff"
      },
      "execution_count": 36,
      "outputs": [
        {
          "output_type": "stream",
          "name": "stdout",
          "text": [
            "Enter your Age: 16\n",
            "You are not Eligible for Work\n"
          ]
        }
      ]
    },
    {
      "cell_type": "code",
      "source": [
        "# Check if a student has passed or failed by taking marks in 3 Subjects\n",
        "'''\n",
        "Take marks in 3 Subjects if marks is greater than 45 in each subject then he passed or else fail\n",
        "'''\n",
        "mathsMarks = float(input(\"Enter your Maths marks: \"))\n",
        "phyMarks = float(input(\"Enter your Physics marks: \"))\n",
        "chemMarks = float(input(\"Enter your Chemistry marks: \"))\n",
        "if(mathsMarks>=45 and phyMarks>=45 and chemMarks>=45):\n",
        "  print(\"You have Passed\")\n",
        "else:\n",
        "  print(\"You have Failed\")"
      ],
      "metadata": {
        "colab": {
          "base_uri": "https://localhost:8080/"
        },
        "id": "5Tc3ChbLNsNp",
        "outputId": "10dd83a7-1f1f-4237-d8c7-4ebc37697fe4"
      },
      "execution_count": 38,
      "outputs": [
        {
          "output_type": "stream",
          "name": "stdout",
          "text": [
            "Enter your Maths marks: 56\n",
            "Enter your Physics marks: 78\n",
            "Enter your Chemistry marks: 43\n",
            "You have Failed\n"
          ]
        }
      ]
    },
    {
      "cell_type": "code",
      "source": [
        "# Check if a person is authorise for admin access\n",
        "'''\n",
        "If a Person enters username as admin and password as myAdmin@123 then he can access the Admin\n",
        "'''\n",
        "username = input(\"Enter the Username: \")\n",
        "password = input(\"Enter the Password: \")\n",
        "if(username=='admin' and password=='myAdmin@123'):\n",
        "  print(\"You have the Admin Access\")\n",
        "else:\n",
        "  print(\"You are Not Authorized\")"
      ],
      "metadata": {
        "colab": {
          "base_uri": "https://localhost:8080/"
        },
        "id": "uXCeuNtEP9-L",
        "outputId": "2df99d95-c782-440d-c271-3af5bcee7b6f"
      },
      "execution_count": 42,
      "outputs": [
        {
          "output_type": "stream",
          "name": "stdout",
          "text": [
            "Enter the Username: admin\n",
            "Enter the Password: myAdmin@123\n",
            "You have the Admin Access\n"
          ]
        }
      ]
    },
    {
      "cell_type": "code",
      "source": [
        "# Check if a character is Vowel or Consonant\n",
        "'''\n",
        "If the Entered Character is A,E,I,O,U or a,e,i,o,u it is Vowel or else it is Consonant\n",
        "'''\n",
        "ch = input(\"Enter a Character: \")\n",
        "if(ch=='A' or ch=='E' or ch=='I' or ch=='O' or ch=='U' or ch=='a' or ch=='e' or ch=='i' or ch=='o' or ch=='u'):\n",
        "  print(\"Character is Vowel\")\n",
        "else:\n",
        "  print(\"Character is Consonant or Special Character\")\n"
      ],
      "metadata": {
        "colab": {
          "base_uri": "https://localhost:8080/"
        },
        "id": "7e3wByY6QqZP",
        "outputId": "5540c428-7320-4404-b778-a65aed7e3d29"
      },
      "execution_count": 45,
      "outputs": [
        {
          "output_type": "stream",
          "name": "stdout",
          "text": [
            "Enter a Character: s\n",
            "Character is Consonant or Special Character\n"
          ]
        }
      ]
    },
    {
      "cell_type": "code",
      "source": [
        "# Calculate Discounted Amount\n",
        "'''\n",
        "amount <= 1000   Discount = 10%\n",
        "1000 < amount <= 5000   Discount = 20%\n",
        "5000 < amount <= 10000   Discount = 30%\n",
        "10000 < amount   Discount = 50%\n",
        "'''\n",
        "amount = int(input(\"Enter the Amount:\"))\n",
        "if(amount<=1000):\n",
        "  discount = amount * 0.1\n",
        "  disAmount = amount - discount\n",
        "  print(\"You have to Pay:\",disAmount)\n",
        "elif(amount>1000 and amount<=5000):\n",
        "  discount = amount * 0.2\n",
        "  disAmount = amount - discount\n",
        "  print(\"You have to Pay:\",disAmount)\n",
        "elif(amount>5000 and amount<=10000):\n",
        "  discount = amount * 0.3\n",
        "  disAmount = amount - discount\n",
        "  print(\"You have to Pay:\",disAmount)\n",
        "else:\n",
        "  discount = amount * 0.5\n",
        "  disAmount = amount - discount\n",
        "  print(\"You have to Pay:\",disAmount)"
      ],
      "metadata": {
        "colab": {
          "base_uri": "https://localhost:8080/"
        },
        "id": "z6uqK3f7Sq39",
        "outputId": "644def57-7e7e-407b-d9aa-2a803ca6dbc4"
      },
      "execution_count": 47,
      "outputs": [
        {
          "output_type": "stream",
          "name": "stdout",
          "text": [
            "Enter the Amount:6000\n",
            "You have to Pay: 4200.0\n"
          ]
        }
      ]
    },
    {
      "cell_type": "code",
      "source": [
        "# Take Day Number and Display Day Name\n",
        "day = int(input(\"Enter the Day Number:\"))\n",
        "if(day==1):\n",
        "  print(\"Sunday\")\n",
        "elif(day==2):\n",
        "  print(\"Monday\")\n",
        "elif(day==3):\n",
        "  print(\"Tuesday\")\n",
        "elif(day==4):\n",
        "  print(\"Wednesday\")\n",
        "elif(day==5):\n",
        "  print(\"Thursday\")\n",
        "elif(day==6):\n",
        "  print(\"Friday\")\n",
        "elif(day==7):\n",
        "  print(\"Saturday\")\n",
        "else:\n",
        "  print(\"Invalid Day\")"
      ],
      "metadata": {
        "colab": {
          "base_uri": "https://localhost:8080/"
        },
        "id": "J-22WVIydnqX",
        "outputId": "fb90ed0b-df3d-45a8-f241-f3392df31fbd"
      },
      "execution_count": 50,
      "outputs": [
        {
          "output_type": "stream",
          "name": "stdout",
          "text": [
            "Enter the Day Number:4\n",
            "Wednesday\n"
          ]
        }
      ]
    },
    {
      "cell_type": "code",
      "source": [],
      "metadata": {
        "id": "cSTmVM4ahCm8"
      },
      "execution_count": null,
      "outputs": []
    }
  ]
}