{
  "nbformat": 4,
  "nbformat_minor": 0,
  "metadata": {
    "colab": {
      "provenance": [],
      "authorship_tag": "ABX9TyP0XMqZ/MFwX7ltTv6kJY35",
      "include_colab_link": true
    },
    "kernelspec": {
      "name": "python3",
      "display_name": "Python 3"
    },
    "language_info": {
      "name": "python"
    }
  },
  "cells": [
    {
      "cell_type": "markdown",
      "metadata": {
        "id": "view-in-github",
        "colab_type": "text"
      },
      "source": [
        "<a href=\"https://colab.research.google.com/github/pritish-tripathy-aiml/Core-Python-Programming/blob/main/List_Datatype.ipynb\" target=\"_parent\"><img src=\"https://colab.research.google.com/assets/colab-badge.svg\" alt=\"Open In Colab\"/></a>"
      ]
    },
    {
      "cell_type": "markdown",
      "source": [
        "##**List Datatype in Python**"
      ],
      "metadata": {
        "id": "WmXvHVIlAWRB"
      }
    },
    {
      "cell_type": "code",
      "source": [
        "# Introduction to Lists\n",
        "# List is an Ordered Collection of Objects and it can have duplicate Objects\n",
        "myList = ['john','smith','david','mark','eric','smith']     # All are String Objects\n",
        "print(myList)\n",
        "print(myList[2])\n",
        "print(myList[-2])\n",
        "\n",
        "# Another way to create a List\n",
        "myList2 = list((1,2,3,4,5))\n",
        "print(myList2)\n",
        "print(myList2[1])\n",
        "print(myList2[-1])\n",
        "\n",
        "# List is Heterogeneous means it allows different kinds of Data\n",
        "myList3 = ['marcus',16,1.23,True,'hello',3+5j]\n",
        "print(myList3)\n",
        "print(myList3[2])\n",
        "print(myList3[-1])\n",
        "\n",
        "# List is an Ordered Collection of Heterogeneous Objects that can hold Duplicates"
      ],
      "metadata": {
        "id": "d5SNevICAlRt",
        "colab": {
          "base_uri": "https://localhost:8080/"
        },
        "outputId": "215d933f-6fc7-44e5-a241-8829dd8c635d"
      },
      "execution_count": null,
      "outputs": [
        {
          "output_type": "stream",
          "name": "stdout",
          "text": [
            "['john', 'smith', 'david', 'mark', 'eric', 'smith']\n",
            "david\n",
            "eric\n",
            "[1, 2, 3, 4, 5]\n",
            "2\n",
            "5\n",
            "['marcus', 16, 1.23, True, 'hello', (3+5j)]\n",
            "1.23\n",
            "(3+5j)\n"
          ]
        }
      ]
    },
    {
      "cell_type": "code",
      "source": [
        "# List is Mutable, means its value can be Changed\n",
        "myLi = [10,23,55,12,89,3]\n",
        "print(\"Length:\",len(myLi))\n",
        "print(myLi)\n",
        "myLi[0] = 30\n",
        "myLi[4] = 99\n",
        "myLi[-1] = 'hello'\n",
        "print(myLi)\n",
        "\n",
        "# We can also change number of Objects in a List\n",
        "myLi.append('hi')\n",
        "myLi.append('bye')\n",
        "myLi.append(111)\n",
        "print(myLi)\n",
        "print(\"Length:\",len(myLi))\n",
        "# Changing the Size of a List is Costly Process"
      ],
      "metadata": {
        "colab": {
          "base_uri": "https://localhost:8080/"
        },
        "id": "hv6r7e_FXEbs",
        "outputId": "4e48a90e-ff71-4154-a3d1-19b9178aff7b"
      },
      "execution_count": null,
      "outputs": [
        {
          "output_type": "stream",
          "name": "stdout",
          "text": [
            "Length: 6\n",
            "[10, 23, 55, 12, 89, 3]\n",
            "[30, 23, 55, 12, 99, 'hello']\n",
            "[30, 23, 55, 12, 99, 'hello', 'hi', 'bye', 111]\n",
            "Length: 9\n"
          ]
        }
      ]
    },
    {
      "cell_type": "code",
      "source": [
        "# Operators on List\n",
        "list1 = [1,2,3,4,5,6,7,8,9,10]\n",
        "\n",
        "# Index Operator []\n",
        "print(list1)\n",
        "print(list1[7])\n",
        "print(list1[-5])\n",
        "list1[3] = 99       # Modifying the Value\n",
        "list1[4] = 88\n",
        "print(list1)\n",
        "\n",
        "# Slice Operator [:] -> [start:end:steps]\n",
        "print(list1[:])     # Print all the Elements\n",
        "print(list1[3:])    # It will start from Index 3 to Last Element\n",
        "print(list1[3:8])    # It will start from Index 3 to One before Index 8\n",
        "print(list1[0:10:2])    # It will start from Index 0 to One before Index 10 and skip One Element\n",
        "print(list1[-1:-11:-1])    # it will print from Reverse\n",
        "print(list1[::-1])    # it will print from Reverse"
      ],
      "metadata": {
        "colab": {
          "base_uri": "https://localhost:8080/"
        },
        "id": "6D7YrmnvaIZl",
        "outputId": "7bdb2aac-d464-463d-c1c3-398847b6d190"
      },
      "execution_count": null,
      "outputs": [
        {
          "output_type": "stream",
          "name": "stdout",
          "text": [
            "[1, 2, 3, 4, 5, 6, 7, 8, 9, 10]\n",
            "8\n",
            "6\n",
            "[1, 2, 3, 99, 88, 6, 7, 8, 9, 10]\n",
            "[1, 2, 3, 99, 88, 6, 7, 8, 9, 10]\n",
            "[99, 88, 6, 7, 8, 9, 10]\n",
            "[99, 88, 6, 7, 8]\n",
            "[1, 3, 88, 7, 9]\n",
            "[10, 9, 8, 7, 6, 88, 99, 3, 2, 1]\n",
            "[10, 9, 8, 7, 6, 88, 99, 3, 2, 1]\n"
          ]
        }
      ]
    },
    {
      "cell_type": "code",
      "source": [
        "# We can modify contents of List using Slice\n",
        "list2 = [1,2,3,4,5,6,7,8,9,10]\n",
        "print(list2)\n",
        "list2[0:3]=[10,20,30]\n",
        "print(list2)\n",
        "\n",
        "list2[6:9] = [99]     # It will replace with One Element Only\n",
        "print(list2)\n",
        "\n",
        "list2[0:3] = [11,22,33,44,55,66,77]     # It will replace multiple Elements\n",
        "print(list2)\n",
        "\n",
        "list2[::2] = [11,22,33,44,55,66]\n",
        "print(list2)      # If you are mentiong steps you have to replace according to the possible number of values"
      ],
      "metadata": {
        "colab": {
          "base_uri": "https://localhost:8080/"
        },
        "id": "QcOO88X9dRlW",
        "outputId": "e5a4a76f-20bb-40ee-fcd3-6c7086161d3b"
      },
      "execution_count": null,
      "outputs": [
        {
          "output_type": "stream",
          "name": "stdout",
          "text": [
            "[1, 2, 3, 4, 5, 6, 7, 8, 9, 10]\n",
            "[10, 20, 30, 4, 5, 6, 7, 8, 9, 10]\n",
            "[10, 20, 30, 4, 5, 6, 99, 10]\n",
            "[11, 22, 33, 44, 55, 66, 77, 4, 5, 6, 99, 10]\n",
            "[11, 22, 22, 44, 33, 66, 44, 4, 55, 6, 66, 10]\n"
          ]
        }
      ]
    },
    {
      "cell_type": "code",
      "source": [
        "# List Concatenation and in not in\n",
        "# Combining Two List using Concatenation(+)\n",
        "list1 = [1,2,3]\n",
        "list2 = [8, 9, 10]\n",
        "list3 = list1 + list2     # Creates a new List\n",
        "print(list3)\n",
        "\n",
        "list4 = list2 + [11,22,33]     # Creates a new List\n",
        "print(list4)\n",
        "\n",
        "# Adding List using extend\n",
        "list1.extend([4, 5, 6])   # This will modify our List\n",
        "print(list1)\n",
        "\n",
        "# Repeatation Operator(*)\n",
        "list5 = list1 * 5     # Creates a new List\n",
        "print(list5)\n",
        "\n",
        "# in and not in\n",
        "if 3 in list1:\n",
        "  print('Found')\n",
        "else:\n",
        "  print('Not Found')\n",
        "\n",
        "# not in\n",
        "print(5 in list1)\n",
        "print(5 not in list1)"
      ],
      "metadata": {
        "id": "kTDkp5eqhG7s",
        "colab": {
          "base_uri": "https://localhost:8080/"
        },
        "outputId": "9bdca58b-f2a2-4c8d-d255-f36cc979a778"
      },
      "execution_count": null,
      "outputs": [
        {
          "output_type": "stream",
          "name": "stdout",
          "text": [
            "[1, 2, 3, 8, 9, 10]\n",
            "[8, 9, 10, 11, 22, 33]\n",
            "[1, 2, 3, 4, 5, 6]\n",
            "[1, 2, 3, 4, 5, 6, 1, 2, 3, 4, 5, 6, 1, 2, 3, 4, 5, 6, 1, 2, 3, 4, 5, 6, 1, 2, 3, 4, 5, 6]\n",
            "Found\n",
            "True\n",
            "False\n"
          ]
        }
      ]
    },
    {
      "cell_type": "code",
      "source": [
        "# Visiting Elements in a List(iterations)\n",
        "'''\n",
        "Visiting all the Elements in a List is known as Iterating or Traversing a List\n",
        "'''\n",
        "list1 = [5,6,7,8,9]\n",
        "# using for loop\n",
        "for x in list1:\n",
        "  print(x,end=' ')\n",
        "\n",
        "# using for loop withing Range\n",
        "for i in range(2,len(list1)):\n",
        "  print(list1[i])\n",
        "print(\"--\")\n",
        "for i in range(len(list1)):\n",
        "  print(list1[i])\n",
        "\n",
        "print(\"--\")\n",
        "# Print List in Reverse\n",
        "for i in range(len(list1)-1,-1,-1):\n",
        "  print(i)"
      ],
      "metadata": {
        "colab": {
          "base_uri": "https://localhost:8080/"
        },
        "id": "KXC6EpQJeaaV",
        "outputId": "76c925c1-3785-4cb9-c441-9eb4dcd196c6"
      },
      "execution_count": null,
      "outputs": [
        {
          "output_type": "stream",
          "name": "stdout",
          "text": [
            "5 6 7 8 9 7\n",
            "8\n",
            "9\n",
            "--\n",
            "5\n",
            "6\n",
            "7\n",
            "8\n",
            "9\n",
            "--\n",
            "4\n",
            "3\n",
            "2\n",
            "1\n",
            "0\n"
          ]
        }
      ]
    },
    {
      "cell_type": "code",
      "source": [
        "# while loop in List\n",
        "list1 = [5,6,7,8,9]\n",
        "i = 0\n",
        "while(i < len(list1)):\n",
        "  print(i,\"-\",list1[i])\n",
        "  i = i + 1"
      ],
      "metadata": {
        "id": "MPgR-LMIhYkP",
        "colab": {
          "base_uri": "https://localhost:8080/"
        },
        "outputId": "c7d42ac7-0c99-4de6-cd19-4f9e760f69b0"
      },
      "execution_count": null,
      "outputs": [
        {
          "output_type": "stream",
          "name": "stdout",
          "text": [
            "0 - 5\n",
            "1 - 6\n",
            "2 - 7\n",
            "3 - 8\n",
            "4 - 9\n"
          ]
        }
      ]
    },
    {
      "cell_type": "code",
      "source": [
        "# List Methods - Adding Elements\n",
        "l1 = [5, 6, 7, 8, 9]\n",
        "print(l1)\n",
        "l1.append(22)   # The List will be modified, added in l1\n",
        "# You can only use one Argument using append\n",
        "print(l1)\n",
        "\n",
        "# append can also be done with Slicing\n",
        "l1[len(l1):] = [100]\n",
        "print(l1)"
      ],
      "metadata": {
        "colab": {
          "base_uri": "https://localhost:8080/"
        },
        "id": "Ht6ThRLSzeKa",
        "outputId": "3d8a6dd7-18ed-4882-f0b5-f5ed0db9cb47"
      },
      "execution_count": null,
      "outputs": [
        {
          "output_type": "stream",
          "name": "stdout",
          "text": [
            "[5, 6, 7, 8, 9]\n",
            "[5, 6, 7, 8, 9, 22]\n",
            "[5, 6, 7, 8, 9, 22, 100]\n"
          ]
        }
      ]
    },
    {
      "cell_type": "code",
      "source": [
        "# append() Method\n",
        "l1 = [1,2,3,4,5,6,7]\n",
        "print(l1)\n",
        "l1.extend([11,22,33,44,55])     # Multiple Values can be Added using extend()\n",
        "print(l1)\n",
        "l1.extend('abcd')\n",
        "print(l1)\n",
        "\n",
        "# Extend can also be done with Slicing\n",
        "l1[len(l1):] = [100,200,300]\n",
        "print(l1)"
      ],
      "metadata": {
        "colab": {
          "base_uri": "https://localhost:8080/"
        },
        "id": "Aji6iBHQ0YnP",
        "outputId": "c551a122-fd5e-40d5-908f-f803fe8fb683"
      },
      "execution_count": null,
      "outputs": [
        {
          "output_type": "stream",
          "name": "stdout",
          "text": [
            "[1, 2, 3, 4, 5, 6, 7]\n",
            "[1, 2, 3, 4, 5, 6, 7, 11, 22, 33, 44, 55]\n",
            "[1, 2, 3, 4, 5, 6, 7, 11, 22, 33, 44, 55, 'a', 'b', 'c', 'd']\n",
            "[1, 2, 3, 4, 5, 6, 7, 11, 22, 33, 44, 55, 'a', 'b', 'c', 'd', 100, 200, 300]\n"
          ]
        }
      ]
    },
    {
      "cell_type": "code",
      "source": [
        "# insert(i, x) method\n",
        "l1 = [5, 6, 7, 8, 9]\n",
        "print(l1)\n",
        "l1.insert(0, 10)    # The Elements will move either right or left according to insert\n",
        "print(l1)\n",
        "l1.insert(4,20)\n",
        "print(l1)\n",
        "\n",
        "# inserting using slice\n",
        "l1[4:4] = [100]\n",
        "print(l1)"
      ],
      "metadata": {
        "colab": {
          "base_uri": "https://localhost:8080/"
        },
        "id": "CoQ3Uqit03xc",
        "outputId": "419dc5e7-7cd7-4012-924f-9064c823ef56"
      },
      "execution_count": null,
      "outputs": [
        {
          "output_type": "stream",
          "name": "stdout",
          "text": [
            "[5, 6, 7, 8, 9]\n",
            "[10, 5, 6, 7, 8, 9]\n",
            "[10, 5, 6, 7, 20, 8, 9]\n",
            "[10, 5, 6, 7, 100, 20, 8, 9]\n"
          ]
        }
      ]
    },
    {
      "cell_type": "code",
      "source": [
        "# copy() Method\n",
        "'''\n",
        "It will make a shallow copy of a list and give a new List\n",
        "'''\n",
        "l1 = [10,20,30,40,50]\n",
        "l2 = l1.copy()\n",
        "print(l1,\"-\",id(l1))\n",
        "print(l2,\"-\",id(l2))\n"
      ],
      "metadata": {
        "colab": {
          "base_uri": "https://localhost:8080/"
        },
        "id": "V8kpkR_P2sAt",
        "outputId": "bc7b9a23-e85b-4c97-d3ec-775138109727"
      },
      "execution_count": null,
      "outputs": [
        {
          "output_type": "stream",
          "name": "stdout",
          "text": [
            "[10, 20, 30, 40, 50] - 139841620457088\n",
            "[10, 20, 30, 40, 50] - 139841620444736\n"
          ]
        }
      ]
    },
    {
      "cell_type": "code",
      "source": [
        "# List Methods: Removing Elements\n",
        "li = [5, 6, 7, 8, 9, 10, 11, 12, 13, 14, 15]\n",
        "'''\n",
        "Three methods to remove Elements from the List\n",
        "pop() or pop(i), remove(x), clear\n",
        "'''\n",
        "print(li)\n",
        "li.pop()      # If index is not given it will delete last element\n",
        "print(li)\n",
        "li.pop(-4)    # It will delete the 4 element from reverse.\n",
        "print(li)\n",
        "\n",
        "# The List will be modified, it will be the Same List"
      ],
      "metadata": {
        "id": "ctpR4TqV34eL",
        "colab": {
          "base_uri": "https://localhost:8080/"
        },
        "outputId": "1977e333-73e1-4256-e049-313e7a641274"
      },
      "execution_count": 15,
      "outputs": [
        {
          "output_type": "stream",
          "name": "stdout",
          "text": [
            "[5, 6, 7, 8, 9, 10, 11, 12, 13, 14, 15]\n",
            "[5, 6, 7, 8, 9, 10, 11, 12, 13, 14]\n",
            "[5, 6, 7, 8, 9, 10, 12, 13, 14]\n"
          ]
        }
      ]
    },
    {
      "cell_type": "code",
      "source": [
        "li = [5, 6, 7, 8, 9, 10, 11, 12, 13, 14, 15]\n",
        "print(li)\n",
        "li.remove(10)       # It will delete the value 10\n",
        "# If their are two occurence of value then it will remove the first occurence\n",
        "# If the value is not found it will give error\n",
        "\n",
        "print(li,\"-\",id(li))\n",
        "li.clear()          # It will clear the complete list\n",
        "print(li,\"-\",id(li))"
      ],
      "metadata": {
        "colab": {
          "base_uri": "https://localhost:8080/"
        },
        "id": "KcjE2UhKkQt-",
        "outputId": "8f6abea6-1e9c-42e0-a8a9-b7a60eb04eb0"
      },
      "execution_count": 20,
      "outputs": [
        {
          "output_type": "stream",
          "name": "stdout",
          "text": [
            "[5, 6, 7, 8, 9, 10, 11, 12, 13, 14, 15]\n",
            "[5, 6, 7, 8, 9, 11, 12, 13, 14, 15] - 137234686936704\n",
            "[] - 137234686936704\n"
          ]
        }
      ]
    },
    {
      "cell_type": "code",
      "source": [
        "# List Method: Index and Sorting\n",
        "'''\n",
        "index(x) or index(x,startIndex,endIndex), count(x)\n",
        "'''\n",
        "li = [5, 6, 7, 8, 9, 10, 11, 12, 13, 14, 15]\n",
        "x = li.index(8)\n",
        "print(x)    # It will give the index of first occurence of the value\n",
        "# It the value is not found then it will give error.\n",
        "\n",
        "y = li.index(13,5,10)      # It will start from index 5 to index of 9(just before index 10)\n",
        "print(y)\n",
        "\n",
        "li1 = [1,2,3,3,3,5,6,7,8,9,5,5]\n",
        "z = li1.count(3)        # It will count number of occurence of the values in the list\n",
        "print(z)\n",
        "# If the element is not found it will return 0"
      ],
      "metadata": {
        "colab": {
          "base_uri": "https://localhost:8080/"
        },
        "id": "CUB9IrfekuSF",
        "outputId": "a0099beb-0bea-4d2b-9fcb-78a81600d757"
      },
      "execution_count": 27,
      "outputs": [
        {
          "output_type": "stream",
          "name": "stdout",
          "text": [
            "3\n",
            "8\n",
            "3\n"
          ]
        }
      ]
    },
    {
      "cell_type": "code",
      "source": [
        "'''\n",
        "reverse()\n",
        "'''\n",
        "li = [5, 6, 7, 8, 9, 10, 11, 12, 13, 14, 15]\n",
        "print(li)\n",
        "li.reverse();     # It will reverse the complete List\n",
        "print(li)\n",
        "# It will modify the original List"
      ],
      "metadata": {
        "colab": {
          "base_uri": "https://localhost:8080/"
        },
        "id": "k8qRBQ0tmPEs",
        "outputId": "2f4efcd7-0c91-40ed-8dae-f45df88ca452"
      },
      "execution_count": 28,
      "outputs": [
        {
          "output_type": "stream",
          "name": "stdout",
          "text": [
            "[5, 6, 7, 8, 9, 10, 11, 12, 13, 14, 15]\n",
            "[15, 14, 13, 12, 11, 10, 9, 8, 7, 6, 5]\n"
          ]
        }
      ]
    },
    {
      "cell_type": "code",
      "source": [
        "'''\n",
        "sort() or sort(*,key=None,reverse=False)\n",
        "'''\n",
        "li1 = [3,3,3,1,1,5,2,3,6,7,8,7,7,9,5,5]\n",
        "print(li1)\n",
        "li1.sort()    # It will sort the elements\n",
        "print(li1)\n",
        "li1.sort(reverse=True)    # it will first sort the List then reverse the list\n",
        "print(li1)\n",
        "# It will modify the original list"
      ],
      "metadata": {
        "colab": {
          "base_uri": "https://localhost:8080/"
        },
        "id": "svIu9258n0Kd",
        "outputId": "e05c0cc8-ed52-402b-9747-6433986fd8db"
      },
      "execution_count": 31,
      "outputs": [
        {
          "output_type": "stream",
          "name": "stdout",
          "text": [
            "[3, 3, 3, 1, 1, 5, 2, 3, 6, 7, 8, 7, 7, 9, 5, 5]\n",
            "[1, 1, 2, 3, 3, 3, 3, 5, 5, 5, 6, 7, 7, 7, 8, 9]\n",
            "[9, 8, 7, 7, 7, 6, 5, 5, 5, 3, 3, 3, 3, 2, 1, 1]\n"
          ]
        }
      ]
    },
    {
      "cell_type": "code",
      "source": [
        "li = ['yy','jj','mm','BB','aa','ZZ']\n",
        "print(li)\n",
        "li.sort(key=str.lower)    # Every string is treated as lowercase\n",
        "print(li)\n",
        "\n",
        "li.sort(key=str.lower,reverse=True)\n",
        "print(li)\n",
        "# It will modify the original list"
      ],
      "metadata": {
        "colab": {
          "base_uri": "https://localhost:8080/"
        },
        "id": "2zuhTJlvoZQh",
        "outputId": "0cd726ce-ee00-49b4-dfbd-74831bf9c4c9"
      },
      "execution_count": 34,
      "outputs": [
        {
          "output_type": "stream",
          "name": "stdout",
          "text": [
            "['yy', 'jj', 'mm', 'BB', 'aa', 'ZZ']\n",
            "['aa', 'BB', 'jj', 'mm', 'yy', 'ZZ']\n",
            "['ZZ', 'yy', 'mm', 'jj', 'BB', 'aa']\n"
          ]
        }
      ]
    },
    {
      "cell_type": "code",
      "source": [
        "# List Comprehensions\n",
        "l1 = []\n",
        "print(l1)\n",
        "\n",
        "for i in range(1, 15):\n",
        "  l1.append(i)          # appending the list using for-loop\n",
        "print(l1)\n",
        "\n",
        "# This can be done using list comprehensions\n",
        "li = [i for i in range(1,16)]       # appending values from 1 to 15\n",
        "print(li)\n",
        "\n",
        "# Using different method in list Comprehension\n",
        "li1 = [i**2 for i in range(1,11)]     # append values with squares from range 1 to 10\n",
        "print(li1)\n",
        "\n",
        "li2 = [i/2 for i in range(1,31)]     # append values divide by 2 from range 1 to 30\n",
        "print(li2)"
      ],
      "metadata": {
        "colab": {
          "base_uri": "https://localhost:8080/"
        },
        "id": "4WpvTFrEpGWi",
        "outputId": "32e55e8f-3ea2-4fa9-dc8a-30003dc287bf"
      },
      "execution_count": 41,
      "outputs": [
        {
          "output_type": "stream",
          "name": "stdout",
          "text": [
            "[]\n",
            "[1, 2, 3, 4, 5, 6, 7, 8, 9, 10, 11, 12, 13, 14]\n",
            "[1, 2, 3, 4, 5, 6, 7, 8, 9, 10, 11, 12, 13, 14, 15]\n",
            "[1, 4, 9, 16, 25, 36, 49, 64, 81, 100]\n",
            "[0.5, 1.0, 1.5, 2.0, 2.5, 3.0, 3.5, 4.0, 4.5, 5.0, 5.5, 6.0, 6.5, 7.0, 7.5, 8.0, 8.5, 9.0, 9.5, 10.0, 10.5, 11.0, 11.5, 12.0, 12.5, 13.0, 13.5, 14.0, 14.5, 15.0]\n"
          ]
        }
      ]
    },
    {
      "cell_type": "code",
      "source": [
        "# Some more ways in List Comprehensions\n",
        "li3 = [x for x in (1,2,3,4,5,6,7,8,9,10) if x%2 == 0]\n",
        "print(li3)        # It will make a condition then print the List of Elements\n",
        "\n",
        "li4 = [x for x in range (1,31) if x%2 == 0]\n",
        "print(li4)        # It will make a condition then print then print the List of Elements\n",
        "\n",
        "li5 = [x.lower() for x in 'PyTHOn']\n",
        "print(li5)        # Make list of elements in lowercase and Print\n",
        "\n",
        "li6 = [x for x in 'abc123@34^&$*' if x.isalpha()]\n",
        "print(li6)        # Make list of elements that are Alphabet and Print"
      ],
      "metadata": {
        "colab": {
          "base_uri": "https://localhost:8080/"
        },
        "id": "l9E-3D4GxSXz",
        "outputId": "4a213f36-bea6-4eb5-e02c-a953e2eaedce"
      },
      "execution_count": 46,
      "outputs": [
        {
          "output_type": "stream",
          "name": "stdout",
          "text": [
            "[2, 4, 6, 8, 10]\n",
            "[2, 4, 6, 8, 10, 12, 14, 16, 18, 20, 22, 24, 26, 28, 30]\n",
            "['p', 'y', 't', 'h', 'o', 'n']\n",
            "['a', 'b', 'c']\n"
          ]
        }
      ]
    },
    {
      "cell_type": "code",
      "source": [
        "# Using input() in List Comprehension\n",
        "liNames = [input('Enter the Names:').split()]\n",
        "print(liNames)"
      ],
      "metadata": {
        "colab": {
          "base_uri": "https://localhost:8080/"
        },
        "id": "6qQHyTDeymP0",
        "outputId": "55c1b85c-2a4d-46a5-fb63-786dd1e1a379"
      },
      "execution_count": 47,
      "outputs": [
        {
          "output_type": "stream",
          "name": "stdout",
          "text": [
            "Enter the Names:john marcus david alex razor rock\n",
            "[['john', 'marcus', 'david', 'alex', 'razor', 'rock']]\n"
          ]
        }
      ]
    },
    {
      "cell_type": "code",
      "source": [
        "# Nested List\n",
        "'''\n",
        "List inside a List is known as Nested List\n",
        "List = [10,20,['a','b'['c','d']], 30, 40]\n",
        "'''\n",
        "myList = [10,20,['a','b',['c','d']], 30, 40]\n",
        "print(myList[2])\n",
        "print(myList[2][2])\n",
        "print(myList[2][2][0])"
      ],
      "metadata": {
        "colab": {
          "base_uri": "https://localhost:8080/"
        },
        "id": "hmUUBtJd0bZ1",
        "outputId": "8ddadbaa-8b99-466b-c176-0719069b2471"
      },
      "execution_count": 52,
      "outputs": [
        {
          "output_type": "stream",
          "name": "stdout",
          "text": [
            "['a', 'b', ['c', 'd']]\n",
            "['c', 'd']\n",
            "c\n"
          ]
        }
      ]
    },
    {
      "cell_type": "code",
      "source": [
        "matA = [[1,2,3],[4,5,6],[7,8,9]]\n",
        "matB = [[9,8,7],[6,5,4],[3,2,1]]\n",
        "comMat = []\n",
        "for i in range(len(matA)):\n",
        "  myS = []\n",
        "  for j in range(len(matA[0])):\n",
        "    myS.append(matA[i][j] + matB[i][j])\n",
        "  comMat.append((myS))\n",
        "print(comMat)"
      ],
      "metadata": {
        "colab": {
          "base_uri": "https://localhost:8080/"
        },
        "id": "xtE8KyeO_NkI",
        "outputId": "38347a3d-7fe4-495f-b2fc-8cfb850d788a"
      },
      "execution_count": 58,
      "outputs": [
        {
          "output_type": "stream",
          "name": "stdout",
          "text": [
            "[[10, 10, 10], [10, 10, 10], [10, 10, 10]]\n"
          ]
        }
      ]
    },
    {
      "cell_type": "markdown",
      "source": [
        "##**List Datatype End**"
      ],
      "metadata": {
        "id": "aSNQXTbiAULm"
      }
    }
  ]
}