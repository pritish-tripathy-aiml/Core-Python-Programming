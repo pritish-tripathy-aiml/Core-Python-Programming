{
  "nbformat": 4,
  "nbformat_minor": 0,
  "metadata": {
    "colab": {
      "provenance": [],
      "authorship_tag": "ABX9TyPjeY4tDpKMgwia/IzYl5Pq",
      "include_colab_link": true
    },
    "kernelspec": {
      "name": "python3",
      "display_name": "Python 3"
    },
    "language_info": {
      "name": "python"
    }
  },
  "cells": [
    {
      "cell_type": "markdown",
      "metadata": {
        "id": "view-in-github",
        "colab_type": "text"
      },
      "source": [
        "<a href=\"https://colab.research.google.com/github/pritish-tripathy-aiml/Core-Python-Programming/blob/main/Python_Datatypes.ipynb\" target=\"_parent\"><img src=\"https://colab.research.google.com/assets/colab-badge.svg\" alt=\"Open In Colab\"/></a>"
      ]
    },
    {
      "cell_type": "markdown",
      "source": [
        "##**Python Datatypes**"
      ],
      "metadata": {
        "id": "gAkVztlukAxb"
      }
    },
    {
      "cell_type": "code",
      "source": [
        "# Variables\n",
        "# Variables are nothing but the name given to the data or the reference to the data\n",
        "# Declaration and Initialization is done together in Python\n",
        "\n",
        "age = 15  # Here age is a variable, 15 is data stored in memory and age is variable refering to the value\n",
        "name1 = 'soap' # Here soap is stored in memory and name1 is variable referencing to 'soap'\n",
        "\n",
        "# Giving a name to the variable is called Declaration\n",
        "# Giving a value to the variable is called Initialization\n",
        "# Python is a Dynamically Typed Language, datatype is not required"
      ],
      "metadata": {
        "id": "HkTwrFavkNoJ"
      },
      "execution_count": null,
      "outputs": []
    },
    {
      "cell_type": "code",
      "source": [
        "# Examples based on Variables\n",
        "myAge = 15\n",
        "myName = 'david'\n",
        "price = 15.5\n",
        "myMsg = 'Hello Friend';\n",
        "# myStr (Not Allowed)\n",
        "print(myAge)\n",
        "print(myName)\n",
        "print(price)\n",
        "print(myMsg)\n"
      ],
      "metadata": {
        "colab": {
          "base_uri": "https://localhost:8080/"
        },
        "id": "Ws9TWj72mkcO",
        "outputId": "f5cc07b0-9c72-4bca-a964-5a93310eeb9a"
      },
      "execution_count": null,
      "outputs": [
        {
          "output_type": "stream",
          "name": "stdout",
          "text": [
            "15\n",
            "david\n",
            "15.5\n",
            "Hello Friend\n"
          ]
        }
      ]
    },
    {
      "cell_type": "code",
      "source": [
        "# Declaring and Initializing Multiple Variable\n",
        "a,b,c = 5,10,15\n",
        "nameA, nameB, nameC = 'david','marcus','john'\n",
        "product, prPrice, weight = 'toothpaste',16.7,100\n",
        "\n",
        "# Delcaring and Initializing Multiple Variables with same Values\n",
        "x = y = z = 1\n",
        "\n",
        "# Printing the Values\n",
        "print(a)\n",
        "print(b)\n",
        "print(c)\n",
        "print(nameA)\n",
        "print(nameB)\n",
        "print(nameC)\n",
        "print(product)\n",
        "print(prPrice)\n",
        "print(weight)\n",
        "print(x)\n",
        "print(y)\n",
        "print(z)"
      ],
      "metadata": {
        "colab": {
          "base_uri": "https://localhost:8080/"
        },
        "id": "PSvWpLh3nASl",
        "outputId": "ff1d8405-9224-40d8-f118-ea27010c677a"
      },
      "execution_count": null,
      "outputs": [
        {
          "output_type": "stream",
          "name": "stdout",
          "text": [
            "5\n",
            "10\n",
            "15\n",
            "david\n",
            "marcus\n",
            "john\n",
            "toothpaste\n",
            "16.7\n",
            "100\n",
            "1\n",
            "1\n",
            "1\n"
          ]
        }
      ]
    },
    {
      "cell_type": "code",
      "source": [
        "# Python - Dynamically typed Language\n",
        "x = 25\n",
        "\n",
        "# Here value 25 is an Integer so the variable x is also Integer type because x is just a reference to the value of 25\n",
        "# Variables do not have a datatype, they just become the type of datatype of values assigned to them.\n",
        "# Variables are also known as Identifiers\n",
        "x = 13.75  # Now the datatype of x becomes float type\n",
        "x = 'AA'  # Now the datatype of x becomes String type.\n",
        "# This is the reason Python is called dynamically typed language.\n",
        "print(x)\n",
        "\n",
        "# To know the datatype of our variable we can use typeof\n",
        "print(type(x))\n",
        "\n",
        "# Everything in Python is an Object that means their is a class available for them.\n",
        "\n",
        "myArr = [1,2,3,4,5,6,7,8]\n",
        "print(myArr)\n",
        "print(type(myArr))"
      ],
      "metadata": {
        "colab": {
          "base_uri": "https://localhost:8080/"
        },
        "id": "WzDDrjr3n61R",
        "outputId": "fda917ca-3ae9-4615-800f-8afe97edbcfa"
      },
      "execution_count": null,
      "outputs": [
        {
          "output_type": "stream",
          "name": "stdout",
          "text": [
            "AA\n",
            "<class 'str'>\n",
            "[1, 2, 3, 4, 5, 6, 7, 8]\n",
            "<class 'list'>\n"
          ]
        }
      ]
    },
    {
      "cell_type": "code",
      "source": [
        "# Rules for Declaring Variable Name\n",
        "# 1. Name can contain alphanumeric characters or underscore.\n",
        "# Example: myName, _myOrder, cust_name12\n",
        "# Only underscore(_) can be used as a Special Character\n",
        "myName = \"mark\"\n",
        "_myOder = 'soap'\n",
        "cust_name12 = 'john'\n",
        "\n",
        "# 2. Name should start with letter or underscore character\n",
        "# Example: hello12, _myName\n",
        "hello12 = 'myHello message'\n",
        "_x1 = 100;\n",
        "# 1x is not allowed because it starting from a number.\n",
        "\n",
        "# 3. Keywords should not be used.\n",
        "# Reserved Words cannot be used for Variables\n",
        "# while, if, pass... these are the predefined words which are known as Reserved words or keywords which cannot be used as Variable names\n",
        "\n",
        "# 4. Variables are case-sensitive\n",
        "# Example: name and Name are different variables\n",
        "MYARr = [1,2,3,4,5]\n",
        "MYARR = [10,20,30,40,50]\n",
        "print(MYARr)\n",
        "print(MYARR)"
      ],
      "metadata": {
        "colab": {
          "base_uri": "https://localhost:8080/"
        },
        "id": "-EtG2FHopGmb",
        "outputId": "6ae47cf0-a561-49ea-f5c9-a5eddf994eb6"
      },
      "execution_count": null,
      "outputs": [
        {
          "output_type": "stream",
          "name": "stdout",
          "text": [
            "[1, 2, 3, 4, 5]\n",
            "[10, 20, 30, 40, 50]\n"
          ]
        }
      ]
    },
    {
      "cell_type": "code",
      "source": [
        "# Python Datatypes\n",
        "\"\"\"\n",
        "1) Numeric Datatype => Can hold single Data\n",
        "  a) int => 10,20,999\n",
        "  b) float => 19.25, 1.75\n",
        "  c) bool => True, False\n",
        "  d) complex => c = a + ib\n",
        "\n",
        "2) Sequence Datatype => Can hold collection of Values, All values will have indexes\n",
        "  a) list => [1,2,3,4,5] => index starting from 0, values can be changed(Mutable)\n",
        "  b) tuple => (2,3,4,5,6) => Its values cannot be changed(Immutable)\n",
        "  c) string => 'Hello',\"Friend\" => Collection of Characters\n",
        "  d) bytes => Contains one byte of Data that is values from 0 - 255 only (Immutable)\n",
        "  e) bytearray => Contains one byte of Data that is values from 0 - 255 only (Mutable)\n",
        "\n",
        "3) Set Datatype => Also hold collection of values but the values are not indexed way, they are unordered\n",
        "  a) set => {1,2,3,4,5} => Also hold collection of values but the values are not indexed way, they are unordered(Mutable)\n",
        "  b) frozenseet => {3,4,5} => Also hold collection of values but the values are not indexed way, they are unordered(Immutable)\n",
        "\n",
        "4) Dictionary => Stores key and value pair\n",
        "  a) dict => name:'john', roll:'123', average:8.5\n",
        "\"\"\""
      ],
      "metadata": {
        "colab": {
          "base_uri": "https://localhost:8080/",
          "height": 243
        },
        "id": "bkYoK1RysX7q",
        "outputId": "d3c24d34-c978-4c6b-db20-5985ea470987"
      },
      "execution_count": null,
      "outputs": [
        {
          "output_type": "execute_result",
          "data": {
            "text/plain": [
              "'\\n1) Numeric Datatype => Can hold single Data\\n  a) int => 10,20,999\\n  b) float => 19.25, 1.75\\n  c) bool => True, False\\n  d) complex => c = a + ib\\n\\n2) Sequence Datatype => Can hold collection of Values, All values will have indexes\\n  a) list => [1,2,3,4,5] => index starting from 0, values can be changed(Mutable) \\n  b) tuple => (2,3,4,5,6) => Its values cannot be changed(Immutable)\\n  c) string => \\'Hello\\',\"Friend\" => Collection of Characters\\n  d) bytes => Contains one byte of Data that is values from 0 - 255 only (Immutable)\\n  e) bytearray => Contains one byte of Data that is values from 0 - 255 only (Mutable)\\n\\n3) Set Datatype => Also hold collection of values but the values are not indexed way, they are unordered\\n  a) set => {1,2,3,4,5} => Also hold collection of values but the values are not indexed way, they are unordered(Mutable)\\n  b) frozenseet => {3,4,5} => Also hold collection of values but the values are not indexed way, they are unordered(Immutable)\\n\\n4) Dictionary => Stores key and value pair\\n  a) dict => name:\\'john\\', roll:\\'123\\', average:8.5\\n'"
            ],
            "application/vnd.google.colaboratory.intrinsic+json": {
              "type": "string"
            }
          },
          "metadata": {},
          "execution_count": 1
        }
      ]
    },
    {
      "cell_type": "code",
      "source": [
        "# Numeric Datatypes\n",
        "# Integer Datatype => Integral Value without any decimal point\n",
        "x1 = 123\n",
        "x2 = 984958\n",
        "x3 = -849\n",
        "\n",
        "# Their is no range for Integer Number\n",
        "xM = 999349458483948595486432534363565464343888888812312312\n",
        "\n",
        "# Their is no fixed size taken by any of the datatype\n",
        "print(x1, x2, x3, xM)\n",
        "\n",
        "# Syntax to Print the Size Occupied by the Given Value\n",
        "print(xM.__sizeof__())\n",
        "print(x1.__sizeof__())\n",
        "\n",
        "# Value given in Python is Immutable\n",
        "\"\"\"\n",
        "a = 125\n",
        "a = 200\n",
        "\n",
        "Here a first referenced to the value 125 then after we assign 200 the variable a is referenced\n",
        "to the value 200. The old 125 cannot be changed, it will be garbage collected by PVM.\n",
        "\"\"\""
      ],
      "metadata": {
        "colab": {
          "base_uri": "https://localhost:8080/"
        },
        "id": "WqEooe8APXaq",
        "outputId": "e858888c-ae9c-47a0-82db-65b51afe41b0"
      },
      "execution_count": null,
      "outputs": [
        {
          "output_type": "stream",
          "name": "stdout",
          "text": [
            "123 984958 -849 999349458483948595486432534363565464343888888812312312\n",
            "48\n",
            "28\n"
          ]
        }
      ]
    },
    {
      "cell_type": "code",
      "source": [
        "# Floating Point => Any value that have decimal point is called Floating Point or Decimal Number\n",
        "f1 = 12.25\n",
        "f2 = -123.45\n",
        "f3 = 0.87E2\n",
        "\"\"\"\n",
        "E2 means E to the Power 2\n",
        "Value before E is called Mantissa\n",
        "Value after E is called Exponent\n",
        "\"\"\"\n",
        "f4 = 76.89E-3\n",
        "\"\"\"\n",
        "E2 means E to the Power -3\n",
        "\"\"\"\n",
        "print(f1, f2, f3, f4)\n",
        "\n",
        "# Their is not range in Float Datatype as well\n",
        "\n",
        "print(f1.__sizeof__(), f4.__sizeof__())"
      ],
      "metadata": {
        "colab": {
          "base_uri": "https://localhost:8080/"
        },
        "id": "H5jb4Et0QxyK",
        "outputId": "6104feb6-92c6-49ed-c5a7-efe86f1c3d7e"
      },
      "execution_count": null,
      "outputs": [
        {
          "output_type": "stream",
          "name": "stdout",
          "text": [
            "12.25 -123.45 87.0 0.07689\n",
            "24 24\n"
          ]
        }
      ]
    },
    {
      "cell_type": "code",
      "source": [
        "# Boolean Datatype\n",
        "# It is mostly used in Relational and Logical Operators\n",
        "# T and F should be in Uppercase and Rest all should be Lowercase\n",
        "b1 = True\n",
        "b2 = False\n",
        "print(b1, b2)\n",
        "\n",
        "# True means 1 and False means 0 but we cannot use 1 or 0 instead of True or False\n",
        "print(type(b1), type(b2))"
      ],
      "metadata": {
        "colab": {
          "base_uri": "https://localhost:8080/"
        },
        "id": "UiBMXIAJSxcM",
        "outputId": "33aaa1be-d864-495e-e6c3-433121905b0d"
      },
      "execution_count": null,
      "outputs": [
        {
          "output_type": "stream",
          "name": "stdout",
          "text": [
            "True False\n",
            "<class 'bool'> <class 'bool'>\n"
          ]
        }
      ]
    },
    {
      "cell_type": "code",
      "source": [
        "# Complex Datatype\n",
        "# Complex Numbers have two parts real and imaginary, it is written in a + ib format\n",
        "# a is real part and b is imaginary part, i = root of -1\n",
        "\n",
        "cx1 = 12 + 3j\n",
        "cx2 = 2 - 6j\n",
        "cx3 = 3.23 + 4.5j\n",
        "print(cx1, cx2, cx3)\n",
        "print(type(cx1), type(cx2), type(cx3))\n",
        "\n",
        "# Printing the Real and Imaginary Parts\n",
        "print(cx1.real, cx1.imag)\n",
        "print(cx1.real, cx1.imag)\n",
        "print(cx1.real, cx1.imag)\n",
        "\n",
        "# Printing the Sizeof Complex\n",
        "print(cx1.__sizeof__(), cx2.__sizeof__())\n",
        "\n",
        "# Creating Complex Number\n",
        "cxA = complex(12.3,56.3)\n",
        "cxB = complex(23)\n",
        "cxC = complex(0.4,0.9)\n",
        "print(cxA, cxB, cxC)"
      ],
      "metadata": {
        "colab": {
          "base_uri": "https://localhost:8080/"
        },
        "id": "zZ7rVhVPZ9h3",
        "outputId": "a2f71911-e7c1-4776-81eb-509d53a1e289"
      },
      "execution_count": null,
      "outputs": [
        {
          "output_type": "stream",
          "name": "stdout",
          "text": [
            "(12+3j) (2-6j) (3.23+4.5j)\n",
            "<class 'complex'> <class 'complex'> <class 'complex'>\n",
            "12.0 3.0\n",
            "12.0 3.0\n",
            "12.0 3.0\n",
            "32 32\n",
            "(12.3+56.3j) (23+0j) (0.4+0.9j)\n"
          ]
        }
      ]
    },
    {
      "cell_type": "code",
      "source": [
        "# Literals => These are the values or data directly written in the program.\n",
        "# Direct way to write a Literal\n",
        "price = 250;  # Here 250 is a Literal\n",
        "\n",
        "# By Default input are String Type\n",
        "price1 = input(\"Enter the Price: \") # Taking values by user input\n",
        "print(price, price1)\n",
        "\n",
        "# Underscore can be given if the value is bigger\n",
        "myNum = 123_456_12_56\n",
        "\n",
        "# Float Literals\n",
        "myFl = 12.59\n",
        "myFl2 = 1.31E3\n",
        "myFl3 = 12_34.5_6\n",
        "# Underscore Before or After Decimal Point is not Allowed\n",
        "print(myFl, myFl2, myFl3)\n",
        "\n",
        "# Boolean(bool) Literals\n",
        "myBool1 = True\n",
        "myBool2 = False\n",
        "print(myBool1, myBool2)\n",
        "\n",
        "# Complex Literals\n",
        "myCp1 = 5 + 4j\n",
        "myCp2 = 5_1 + 9.5_6j\n",
        "print(myCp1, myCp2)\n",
        "\n",
        "# String Literals\n",
        "myStr1 = \"Hello Friend\"\n",
        "myStr2 = 'Hey, my guy'\n",
        "print(\"myStr1: \",myStr1, \"| myStr2:\", myStr2)"
      ],
      "metadata": {
        "colab": {
          "base_uri": "https://localhost:8080/"
        },
        "id": "PD4NRvG5bYfu",
        "outputId": "5ffadcd6-9740-4b43-9acd-5a59b7a9869a"
      },
      "execution_count": 5,
      "outputs": [
        {
          "output_type": "stream",
          "name": "stdout",
          "text": [
            "Enter the Price: 200\n",
            "250 200\n",
            "12.59 1310.0 1234.56\n",
            "True False\n",
            "(5+4j) (51+9.56j)\n",
            "myStr1:  Hello Friend | myStr2: Hey, my guy\n"
          ]
        }
      ]
    },
    {
      "cell_type": "code",
      "source": [
        "# Integer Literals in Python\n",
        "# Integer Literals can be represented as different number Systems\n",
        "# Decimal -> Base 10, Digits from 0 to 9\n",
        "aDec = 10\n",
        "print(\"Decimal: \",aDec)\n",
        "\n",
        "# Binary -> Base 2, Only 2 digits that is 0 and 1\n",
        "aBin = 0b1010   # Start with 0b\n",
        "print(\"Binary: \",aBin)\n",
        "\n",
        "# Octal -> Base 8, Digits from 0 to 7\n",
        "aOct = 0o15   # Start with 0o\n",
        "print(\"Octal: \",aOct)\n",
        "\n",
        "# Hexadecimal -> Base 16, Digits from 0 to 9 and letters from A to F\n",
        "aHex = 0x7de  # Start from 0x\n",
        "print(\"Hexadecimal: \",aHex)\n",
        "\n",
        "# Number System can be used only for Integer Literals, they cannot be used for Float Literal\n",
        "\n",
        "# Number System can be used for Real Part of Complex Numbers\n",
        "cxBin = 0b101 + 6j\n",
        "print(\"Complex Binary: \",cxBin)"
      ],
      "metadata": {
        "id": "8kVCUdCmcWhQ",
        "colab": {
          "base_uri": "https://localhost:8080/"
        },
        "outputId": "aace7e60-cc7a-45de-dd54-409b7bc800ff"
      },
      "execution_count": 6,
      "outputs": [
        {
          "output_type": "stream",
          "name": "stdout",
          "text": [
            "Decimal:  10\n",
            "Binary:  10\n",
            "Octal:  13\n",
            "Hexadecimal:  2014\n",
            "Complex Binary:  (5+6j)\n"
          ]
        }
      ]
    },
    {
      "cell_type": "code",
      "source": [
        "# Take Input as other Number System\n",
        "# Decimal Form\n",
        "myDec = int(input(\"Enter Decimal:\"))\n",
        "print(\"In Decimal: \",myDec)\n",
        "\n",
        "# Binary Form\n",
        "myBin = int(input(\"Enter Binary Form:\"),2)\n",
        "print(\"In Binary: \",myBin)\n",
        "\n",
        "# Octal Form\n",
        "myOct = int(input(\"Enter Octal Form:\"),8)\n",
        "print(\"In Octal: \",myOct)\n",
        "\n",
        "# Hexadecimal Form\n",
        "myHex = int(input(\"Enter Hexadecimal Form:\"),16)\n",
        "print(\"In Hexadecimal: \",myHex)"
      ],
      "metadata": {
        "colab": {
          "base_uri": "https://localhost:8080/"
        },
        "id": "2obHNKeKshDh",
        "outputId": "7917276f-5765-492c-f558-2578f54e8dcc"
      },
      "execution_count": 9,
      "outputs": [
        {
          "output_type": "stream",
          "name": "stdout",
          "text": [
            "Enter Decimal:123\n",
            "In Decimal:  123\n",
            "Enter Binary Form:0b110110\n",
            "In Binary:  54\n",
            "Enter Octal Form:0o17732\n",
            "In Octal:  8154\n",
            "Enter Hexadecimal Form:0xface1129\n",
            "In Hexadecimal:  4207808809\n"
          ]
        }
      ]
    },
    {
      "cell_type": "code",
      "source": [
        "# Base Conversion Functions\n",
        "'''\n",
        "bin(), oct(), hex() these functions are used to change the value of a number to required number system\n",
        "All these functions will give String Result\n",
        "'''\n",
        "aNum = 123\n",
        "xBin = bin(aNum)\n",
        "xOct = oct(aNum)\n",
        "xHex = hex(aNum)\n",
        "print(\"123 in Binary: \",xBin)\n",
        "print(\"123 in Octal: \",xOct)\n",
        "print(\"123 in Hexadecimal: \",xHex)\n",
        "\n",
        "'''\n",
        "Boolean Literals can also be use in the above given number system Functions\n",
        "'''\n",
        "aBool = True\n",
        "bBool = False\n",
        "# True Literal in Binary, Octal and Hexadecimal\n",
        "tBin = bin(aBool)\n",
        "tOct = oct(aBool)\n",
        "tHex = hex(aBool)\n",
        "print(\"False in Binary: \",tBin)\n",
        "print(\"False in Octal: \",tOct)\n",
        "print(\"False in Hexadecimal: \",tHex)\n",
        "\n",
        "# False Literal in Binary, Octal and Hexadecimal\n",
        "fBin = bin(bBool)\n",
        "fOct = oct(bBool)\n",
        "fHex = hex(bBool)\n",
        "print(\"True in Binary: \",fBin)\n",
        "print(\"True in Octal: \",fOct)\n",
        "print(\"True in Hexadecimal: \",fHex)"
      ],
      "metadata": {
        "colab": {
          "base_uri": "https://localhost:8080/"
        },
        "id": "enMh4X9wtw7Z",
        "outputId": "153abf97-bb72-4d7f-dd3c-07adfbd8948f"
      },
      "execution_count": 12,
      "outputs": [
        {
          "output_type": "stream",
          "name": "stdout",
          "text": [
            "123 in Binary:  0b1111011\n",
            "123 in Octal:  0o173\n",
            "123 in Hexadecimal:  0x7b\n",
            "False in Binary:  0b1\n",
            "False in Octal:  0o1\n",
            "False in Hexadecimal:  0x1\n",
            "True in Binary:  0b0\n",
            "True in Octal:  0o0\n",
            "True in Hexadecimal:  0x0\n"
          ]
        }
      ]
    },
    {
      "cell_type": "code",
      "source": [
        "# Type Conversion in Python\n",
        "# Converting One Datatype to Other Datatype is called Type Conversion\n",
        "'''\n",
        "There are two types of Conversions in Python\n",
        "1) Implicit Type Conversion -> Done by Python Automatically\n",
        "2) Explicit Type Conversion -> Have to do it Manually\n",
        "'''\n",
        "# Converting Values to Integer\n",
        "myI = 15\n",
        "print(\"Integer: \",myI)\n",
        "print(type(myI))\n",
        "\n",
        "# Float to Integer\n",
        "myF = 16.59\n",
        "cvFI = int(myF)\n",
        "print(\"Float: \",myF,\" Type: \",type(myF))\n",
        "print(\"Float to Integer: \",cvFI,\" Type: \",type(cvFI))\n",
        "\n",
        "# Boolean to Integer\n",
        "myBl = True\n",
        "cvBlI = int(myBl)\n",
        "print(\"Boolean: \",myBl,\" Type: \",type(myBl))\n",
        "print(\"Boolean to Integer: \",cvBlI,\" Type: \",type(cvBlI))\n",
        "\n",
        "myCx = 10 + 6j\n",
        "# Cannot be converted to Integer\n",
        "\n",
        "myS1 = 'marcus'   # This String cannot be converted to Integer\n",
        "myS2 = '125'   # This String can be converted to Integer\n",
        "cvS2I = int(myS2)\n",
        "print(\"String: \",myS2,\" Type: \",type(myS2))\n",
        "print(\"String to Integer: \",cvS2I,\" Type: \",type(cvS2I))\n",
        "\n",
        "myS3 = '0b1101'\n",
        "cvBin = int(myS3,2) # We have to give the Base Value\n",
        "print(\"String: \",myS3,\" Type: \",type(myS3))\n",
        "print(\"String to Integer(Binary): \",cvBin,\" Type: \",type(cvBin))\n",
        "\n",
        "myS4 = \"0xfac12\"\n",
        "cvHex = int(myS4,16)  # We Have to provide the Base Value\n",
        "print(\"String: \",myS4,\" Type: \",type(myS4))\n",
        "print(\"String to Integer(Hexadecimal): \",cvHex,\" Type: \",type(cvHex))\n"
      ],
      "metadata": {
        "colab": {
          "base_uri": "https://localhost:8080/"
        },
        "id": "j-6d2J-JvVq7",
        "outputId": "9044e7b6-075a-4fbf-a6fc-1b2da408b51f"
      },
      "execution_count": 13,
      "outputs": [
        {
          "output_type": "stream",
          "name": "stdout",
          "text": [
            "Integer:  15\n",
            "<class 'int'>\n",
            "Float:  16.59  Type:  <class 'float'>\n",
            "Float to Integer:  16  Type:  <class 'int'>\n",
            "Boolean:  True  Type:  <class 'bool'>\n",
            "Boolean to Integer:  1  Type:  <class 'int'>\n",
            "String:  125  Type:  <class 'str'>\n",
            "String to Integer:  125  Type:  <class 'int'>\n",
            "String:  0b1101  Type:  <class 'str'>\n",
            "String to Integer(Binary):  13  Type:  <class 'int'>\n",
            "String:  0xfac12  Type:  <class 'str'>\n",
            "String to Integer(Hexadecimal):  1027090  Type:  <class 'int'>\n"
          ]
        }
      ]
    },
    {
      "cell_type": "code",
      "source": [
        "# Converting Values to Float\n",
        "i = 15\n",
        "iFl = float(i)\n",
        "print(\"Integer to Float: \",iFl)\n",
        "\n",
        "# Boolean Cannot be converted to Float\n",
        "'''\n",
        "bl = True\n",
        "blFl = float(bl) -> Not Possible\n",
        "'''\n",
        "\n",
        "# Complex Cannot be Converted to Float\n",
        "'''\n",
        "cx = 12+10j\n",
        "cxFl = float(cx) -> Not Possible\n",
        "'''\n",
        "\n",
        "s1 = 'mark' # This cannot be converted to Float\n",
        "s2 = '12.56' # This can be converted to Float\n",
        "stFl = float(s2)\n",
        "print(\"String to Float: \",stFl)"
      ],
      "metadata": {
        "colab": {
          "base_uri": "https://localhost:8080/"
        },
        "id": "sMKRMC320aQZ",
        "outputId": "e781fba3-ec16-448e-dc2a-ff540d96f25d"
      },
      "execution_count": 14,
      "outputs": [
        {
          "output_type": "stream",
          "name": "stdout",
          "text": [
            "Integer to Float:  15.0\n",
            "String to Float:  12.56\n"
          ]
        }
      ]
    },
    {
      "cell_type": "code",
      "source": [
        "# Converting the Values into Complex Datatype\n",
        "# Integer to Complex\n",
        "i = 15\n",
        "iCx = complex(i)\n",
        "print(\"Integer to Complex: \",iCx)\n",
        "# Here only real part will be assigned imaginary part will be 0j\n",
        "\n",
        "# Float to Complex\n",
        "f = 12.67\n",
        "fCx = complex(f)\n",
        "print(\"Float to Complex: \",fCx)\n",
        "# Here only real part will be assigned imaginary part will be 0j\n",
        "\n",
        "# Boolean to Complex\n",
        "b = True\n",
        "bCx = complex(b)\n",
        "print(\"Boolean to Complex: \",bCx)\n",
        "# Here only real part will be assigned as 1.0 imaginary part will be 0j\n",
        "\n",
        "# String to Complex\n",
        "s1 = \"hello\"  # This cannot be converted to Complex Type\n",
        "s2 = '125'  # This can be converted to Complex Type\n",
        "s3 = '9+10j'  # This can be converted to Complex Type\n",
        "s2Cx = complex(s2)\n",
        "s3Cx = complex(s3)\n",
        "print(\"S2 to Complex: \",s2Cx)\n",
        "print(\"S3 to Complex: \",s3Cx)\n",
        "# We can Convert all the datatypes to Complex Datatype"
      ],
      "metadata": {
        "colab": {
          "base_uri": "https://localhost:8080/"
        },
        "id": "LOmR0gPV1yI2",
        "outputId": "b629f640-ee8c-447f-ce7c-d6ff303cf40b"
      },
      "execution_count": 18,
      "outputs": [
        {
          "output_type": "stream",
          "name": "stdout",
          "text": [
            "Integer to Complex:  (15+0j)\n",
            "Float to Complex:  (12.67+0j)\n",
            "Boolean to Complex:  (1+0j)\n",
            "S2 to Complex:  (125+0j)\n",
            "S3 to Complex:  (9+10j)\n"
          ]
        }
      ]
    },
    {
      "cell_type": "code",
      "source": [
        "# Converting the Values into Boolean Datatype\n",
        "# Boolean works on all the Datatypes\n",
        "# Integer to Boolean\n",
        "i = 15\n",
        "iBl = bool(i)\n",
        "print(\"Integer to Boolean: \",iBl)\n",
        "# If the value of i is 0 then only it will return False\n",
        "\n",
        "# Float to Boolean\n",
        "f = 12.67\n",
        "fBl = bool(f)\n",
        "print(\"Float to Boolean: \",fBl)\n",
        "# If the value of f is 0.0 then only it will return False\n",
        "\n",
        "# Complex to Boolean\n",
        "cx = 10+12j\n",
        "cxBl = bool(cx)\n",
        "print(\"Complex to Boolean: \",cxBl)\n",
        "# If the value of cx is 0+0j then only it will return False\n",
        "\n",
        "# String to Boolean\n",
        "s1 = \"hello\"\n",
        "s2 = '125'\n",
        "s3 = ''\n",
        "mybool1 = bool(s1)\n",
        "mybool2 = bool(s2)\n",
        "mybool3 = bool(s3)\n",
        "print(\"S1 to Boolean: \",mybool1)\n",
        "print(\"S2 to Boolean: \",mybool2)\n",
        "print(\"S3 to Boolean: \",mybool3)\n",
        "# If any string is empty then only it will return False\n"
      ],
      "metadata": {
        "colab": {
          "base_uri": "https://localhost:8080/"
        },
        "id": "bTjnGQZv3M63",
        "outputId": "968eb028-ebb7-4043-da1e-a3ee65629fad"
      },
      "execution_count": 19,
      "outputs": [
        {
          "output_type": "stream",
          "name": "stdout",
          "text": [
            "Integer to Boolean:  True\n",
            "Float to Boolean:  True\n",
            "Complex to Boolean:  True\n",
            "S1 to Boolean:  True\n",
            "S2 to Boolean:  True\n",
            "S3 to Boolean:  False\n"
          ]
        }
      ]
    },
    {
      "cell_type": "code",
      "source": [
        "# Converting the Values into String Datatype\n",
        "# String works on all the Datatypes\n",
        "# Integer to String\n",
        "i = 15\n",
        "iSt = str(i)\n",
        "print(\"Integer to String: \",iSt)\n",
        "\n",
        "# Float to String\n",
        "f = 12.67\n",
        "flSt = str(f)\n",
        "print(\"Float to String: \",flSt)\n",
        "\n",
        "# Boolean to String\n",
        "bl = True\n",
        "blSt = str(bl)\n",
        "print(\"Boolean to String: \",blSt)\n",
        "\n",
        "# Complex to String\n",
        "cx = 10+12j\n",
        "cxSt = str(cx)\n",
        "print(\"Complex to String: \",cxSt)\n"
      ],
      "metadata": {
        "colab": {
          "base_uri": "https://localhost:8080/"
        },
        "id": "hURY22iC4545",
        "outputId": "ae4a15d4-c7ff-4a8d-8a5b-d9552d5e5605"
      },
      "execution_count": 20,
      "outputs": [
        {
          "output_type": "stream",
          "name": "stdout",
          "text": [
            "Integer to String:  15\n",
            "Float to String:  12.67\n",
            "Boolean to String:  True\n",
            "Complex to String:  (10+12j)\n"
          ]
        }
      ]
    },
    {
      "cell_type": "code",
      "source": [
        "'''\n",
        "int() -> int, float, bool, str\n",
        "float() -> int, float, str\n",
        "complex() -> int, float, complex, bool, str\n",
        "bool() -> int, float, complex, bool, str\n",
        "str() -> int, float, complex, bool, str\n",
        "'''\n",
        "# int() do not work on complex(i.e Cannot convert complex number to integer type)\n",
        "# float() do not work on complex(i.e Cannot convert complex number to float type)\n",
        "# rest complex(), bool() and str() work with every datatype"
      ],
      "metadata": {
        "colab": {
          "base_uri": "https://localhost:8080/",
          "height": 52
        },
        "id": "poshkJU96AOm",
        "outputId": "b22df1a1-d660-4673-fc41-c01c84b3d930"
      },
      "execution_count": 21,
      "outputs": [
        {
          "output_type": "execute_result",
          "data": {
            "text/plain": [
              "'\\nint() -> int, float, bool, str\\nfloat() -> int, float, str\\ncomplex() -> int, float, complex, bool, str\\nbool() -> int, float, complex, bool, str\\nstr() -> int, float, complex, bool, str\\n'"
            ],
            "application/vnd.google.colaboratory.intrinsic+json": {
              "type": "string"
            }
          },
          "metadata": {},
          "execution_count": 21
        }
      ]
    },
    {
      "cell_type": "markdown",
      "source": [
        "##**End of Python Datatypes**"
      ],
      "metadata": {
        "id": "xz8GLWbB7vOz"
      }
    }
  ]
}