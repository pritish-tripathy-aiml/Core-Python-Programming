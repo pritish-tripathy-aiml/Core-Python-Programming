{
  "nbformat": 4,
  "nbformat_minor": 0,
  "metadata": {
    "colab": {
      "provenance": [],
      "authorship_tag": "ABX9TyPkjDYfXgqkfF4xD0XoLOD2",
      "include_colab_link": true
    },
    "kernelspec": {
      "name": "python3",
      "display_name": "Python 3"
    },
    "language_info": {
      "name": "python"
    }
  },
  "cells": [
    {
      "cell_type": "markdown",
      "metadata": {
        "id": "view-in-github",
        "colab_type": "text"
      },
      "source": [
        "<a href=\"https://colab.research.google.com/github/pritish-tripathy-aiml/Core-Python-Programming/blob/main/String_and_its_Methods.ipynb\" target=\"_parent\"><img src=\"https://colab.research.google.com/assets/colab-badge.svg\" alt=\"Open In Colab\"/></a>"
      ]
    },
    {
      "cell_type": "markdown",
      "source": [
        "##**String and its Methods**"
      ],
      "metadata": {
        "id": "Tq2iYyOYYNHC"
      }
    },
    {
      "cell_type": "code",
      "source": [
        "# Introduction to Strings\n",
        "'''\n",
        "Anything inside single quotes or double quotes is called String\n",
        "st1 = 'abcdefghij'\n",
        "st2 = \"!@#$%^&*()\"\n",
        "st3 = '1234567890'\n",
        "\n",
        "s1 = 'Hello'\n",
        "s1 is a variable of type String and holding | H | e | l | l | o | that means it is Array of Characters\n",
        "                          Positive Index =>   0   1   2   3   4\n",
        "                          Negative Index =>  -5  -4  -3  -2  -1\n",
        "\n",
        "Access Specific Characters s1[2] or s1[-3]\n",
        "'''\n",
        "s1 = \"Hello\"\n",
        "print(type(s1))\n",
        "print(s1[2])\n",
        "print(s1[-3])\n",
        "\n",
        "# Know the length of a String(Number of Character in a String)\n",
        "s2 = input(\"Enter your Name: \")\n",
        "print('Length:',len(s2))\n",
        "\n",
        "# Print all Characters of String One by One\n",
        "for x in s2:\n",
        "  print(x)\n",
        "\n",
        "# String Inside the String\n",
        "# If String inside of a String then it will be of different Quotes\n",
        "sm1 = \"Hello this is 'My Institute'\"\n",
        "sm2 = 'John said to you \"How are You ?\"'\n",
        "sm3 = '''\n",
        "        This is a MultiLine\n",
        "        String Literal\n",
        "      '''\n",
        "print(sm1)\n",
        "print(sm2)\n",
        "print(sm3)"
      ],
      "metadata": {
        "id": "FGr76xToYWQX"
      },
      "execution_count": null,
      "outputs": []
    },
    {
      "cell_type": "code",
      "source": [
        "# Different Operators on String\n",
        "s1 = \"Hello\"\n",
        "s2 = \"World\"\n",
        "\n",
        "# Concatenation\n",
        "# String is an Immutable Object, when we use Concatenation Operator it creates a new String\n",
        "s3 = s1 + \" \" + s2\n",
        "s4c = 'Hello','World'\n",
        "s4c1 = 'Hello' 'World'\n",
        "print(s3)\n",
        "print(s4c)\n",
        "print(s4c1)\n",
        "\n",
        "# Concatenation can be used on same Datatype\n",
        "sD = 'Hello' + str(15)\n",
        "print(sD)\n",
        "\n",
        "# Repetition\n",
        "s4 = s1*3 + \" \" + s2*5\n",
        "print(s4)\n",
        "# You can multiply with integer number, you cannot do s1*s2\n",
        "\n",
        "# Indexing\n",
        "strx = 'Hello world'       # | h | e | l | l | o |  | w | o | r | l | d |\n",
        "ch1 = strx[4]\n",
        "ch2 = strx[6]\n",
        "ch3 = strx[-5]\n",
        "print(ch1, ch2, ch3)\n",
        "for x in strx:\n",
        "  print(x)\n",
        "\n",
        "for i in range(0,len(strx)):\n",
        "  print(i,strx[i])\n",
        "\n",
        "print(\"**\")\n",
        "strx1 = 'Hello World'\n",
        "for i in range(0,len(strx1),2):\n",
        "  print(i,strx[i])"
      ],
      "metadata": {
        "colab": {
          "base_uri": "https://localhost:8080/"
        },
        "id": "3EzKHqZkWT7n",
        "outputId": "e163a255-b861-44dc-b315-9297549c3995"
      },
      "execution_count": null,
      "outputs": [
        {
          "output_type": "stream",
          "name": "stdout",
          "text": [
            "Hello World\n",
            "('Hello', 'World')\n",
            "HelloWorld\n",
            "Hello15\n",
            "HelloHelloHello WorldWorldWorldWorldWorld\n",
            "o w w\n",
            "H\n",
            "e\n",
            "l\n",
            "l\n",
            "o\n",
            " \n",
            "w\n",
            "o\n",
            "r\n",
            "l\n",
            "d\n",
            "0 H\n",
            "1 e\n",
            "2 l\n",
            "3 l\n",
            "4 o\n",
            "5  \n",
            "6 w\n",
            "7 o\n",
            "8 r\n",
            "9 l\n",
            "10 d\n",
            "**\n",
            "0 H\n",
            "2 l\n",
            "4 o\n",
            "6 w\n",
            "8 r\n",
            "10 d\n"
          ]
        }
      ]
    },
    {
      "cell_type": "code",
      "source": [
        "# Slicing\n",
        "'''\n",
        "Printing Specific part of the String is known as Slicing\n",
        "strx[start:end:step]\n",
        "'''\n",
        "strg1 = 'Hello World'\n",
        "sg1 = strg1[:len(strg1):1]\n",
        "sg2 = strg1[::1]\n",
        "sg3 = strg1[::]\n",
        "print(sg1,sg2,sg3)\n",
        "\n",
        "sg4 = strg1[3::]\n",
        "print(\"sg4:\",sg4)\n",
        "\n",
        "sg5 = strg1[6::]\n",
        "print(\"sg5:\",sg5)\n",
        "\n",
        "sg6 = strg1[6:8:]\n",
        "print(\"sg6:\",sg6)\n",
        "\n",
        "sg7 = strg1[::2]\n",
        "print(\"sg7:\",sg7)\n",
        "\n",
        "sg8 = strg1[::-1]\n",
        "print(\"sg8:\",sg8)\n",
        "\n",
        "sg9 = strg1[-1:-len(strg1):-1]\n",
        "print(\"sg9:\",sg9)\n",
        "\n",
        "sg10 = strg1[-1::-2]\n",
        "print(\"sg10:\",sg10)"
      ],
      "metadata": {
        "colab": {
          "base_uri": "https://localhost:8080/"
        },
        "id": "Z5k7UWb0Yp67",
        "outputId": "d645e02a-4706-47a9-eb52-91d833ecc0c1"
      },
      "execution_count": null,
      "outputs": [
        {
          "output_type": "stream",
          "name": "stdout",
          "text": [
            "Hello World Hello World Hello World\n",
            "sg4: lo World\n",
            "sg5: World\n",
            "sg6: Wo\n",
            "sg7: HloWrd\n",
            "sg8: dlroW olleH\n",
            "sg9: dlroW olle\n",
            "sg10: drWolH\n"
          ]
        }
      ]
    },
    {
      "cell_type": "code",
      "source": [
        "# in and not in\n",
        "stx = 'Hello World'\n",
        "print('H' in stx)\n",
        "print('wo' in stx)\n",
        "print('el' in stx)\n",
        "print('rl' not in stx)\n",
        "print('zz' not in stx)"
      ],
      "metadata": {
        "colab": {
          "base_uri": "https://localhost:8080/"
        },
        "id": "fslLx2LNmiGt",
        "outputId": "960e72f9-26d8-4046-9fcb-af031dfbd4c8"
      },
      "execution_count": null,
      "outputs": [
        {
          "output_type": "stream",
          "name": "stdout",
          "text": [
            "True\n",
            "False\n",
            "True\n",
            "False\n",
            "True\n"
          ]
        }
      ]
    },
    {
      "cell_type": "code",
      "source": [
        "# Relational Operators on Strings\n",
        "'''\n",
        "Operators -> <, <=, >, >=, ==, !=\n",
        "'''\n",
        "s1 = 'America'\n",
        "s2 = 'Canada'\n",
        "print(s1>s2)\n",
        "\n",
        "s3 = \"america\"\n",
        "print(s1>s3)      # lowercase are larger than uppercase(ASCII Code is used)\n",
        "\n",
        "sm = 'abcde'\n",
        "smn = 'abcdf'\n",
        "print(sm<smn)     # the point when they change it will compare that only"
      ],
      "metadata": {
        "colab": {
          "base_uri": "https://localhost:8080/"
        },
        "id": "qQONxEmbtcOh",
        "outputId": "f79fdcbe-10c0-42a4-94f1-2d6927a51d20"
      },
      "execution_count": null,
      "outputs": [
        {
          "output_type": "stream",
          "name": "stdout",
          "text": [
            "False\n",
            "False\n",
            "True\n"
          ]
        }
      ]
    },
    {
      "cell_type": "code",
      "source": [
        "# Introduction to String Methods\n",
        "'''\n",
        "Methods are Functions that belong to specific class, here we are going to see methods of String Class\n",
        "'''\n",
        "st = 'hello, how are you'\n",
        "print(\"Type:\",type(st))\n",
        "print(\"Method available in String-\")\n",
        "dir(str)\n",
        "\n",
        "# If you want to know about any Method\n",
        "help(st.endswith)"
      ],
      "metadata": {
        "id": "48fgQO80t7NO",
        "colab": {
          "base_uri": "https://localhost:8080/"
        },
        "outputId": "683431e6-467b-450e-927a-9582a7eef8a3"
      },
      "execution_count": null,
      "outputs": [
        {
          "output_type": "stream",
          "name": "stdout",
          "text": [
            "Type: <class 'str'>\n",
            "Method available in String-\n",
            "Help on built-in function endswith:\n",
            "\n",
            "endswith(...) method of builtins.str instance\n",
            "    S.endswith(suffix[, start[, end]]) -> bool\n",
            "    \n",
            "    Return True if S ends with the specified suffix, False otherwise.\n",
            "    With optional start, test S beginning at that position.\n",
            "    With optional end, stop comparing S at that position.\n",
            "    suffix can also be a tuple of strings to try.\n",
            "\n"
          ]
        }
      ]
    },
    {
      "cell_type": "code",
      "source": [
        "st1 = \"hello\"\n",
        "help(st1.find)"
      ],
      "metadata": {
        "colab": {
          "base_uri": "https://localhost:8080/"
        },
        "id": "Wuhg4MyNrd-p",
        "outputId": "669b0674-6fc0-4781-e03e-34bce5d6d131"
      },
      "execution_count": null,
      "outputs": [
        {
          "output_type": "stream",
          "name": "stdout",
          "text": [
            "Help on built-in function find:\n",
            "\n",
            "find(...) method of builtins.str instance\n",
            "    S.find(sub[, start[, end]]) -> int\n",
            "    \n",
            "    Return the lowest index in S where substring sub is found,\n",
            "    such that sub is contained within S[start:end].  Optional\n",
            "    arguments start and end are interpreted as in slice notation.\n",
            "    \n",
            "    Return -1 on failure.\n",
            "\n"
          ]
        }
      ]
    },
    {
      "cell_type": "code",
      "source": [
        "# String Methods: find() and index()\n",
        "st = 'hello, how are you'\n",
        "# It will be stored as Array of Characters(18 Characters)\n",
        "# Its index will be length-1 = 17\n",
        "'''\n",
        "st.find(ch,start,end)\n",
        "start and end are Optional\n",
        "'''\n",
        "print(\"st.find('o'):\",st.find('o'))       # Start from starting index\n",
        "print(\"st.find('how'):\",st.find('how'))\n",
        "print(\"st.find('k'):\",st.find('k'))     # If not found it returns -1\n",
        "print(\"st.find('o',5):\",st.find('o',5))   # Start from index 5\n",
        "print(\"st.find('o',5,7):\",st.find('o',5,7))   # Start from index 5 and end with 7"
      ],
      "metadata": {
        "colab": {
          "base_uri": "https://localhost:8080/"
        },
        "id": "QJyIQ9jdtFVK",
        "outputId": "6306a017-9e46-46e2-ac4e-d8cf5f609d2e"
      },
      "execution_count": null,
      "outputs": [
        {
          "output_type": "stream",
          "name": "stdout",
          "text": [
            "st.find('o'): 4\n",
            "st.find('how'): 7\n",
            "st.find('k'): -1\n",
            "st.find('o',5): 8\n",
            "st.find('o',5,7): -1\n"
          ]
        }
      ]
    },
    {
      "cell_type": "code",
      "source": [
        "# In rfind it searches from the Last Index\n",
        "st = 'hello, how are you'\n",
        "print(\"st.rfind('o'): \",st.rfind('o'))\n",
        "print(\"st.rfind('o',0,15): \",st.rfind('o',0,15))\n",
        "print(\"st.rfind('kt'): \",st.rfind('kt'))    # If not found it returns -1"
      ],
      "metadata": {
        "colab": {
          "base_uri": "https://localhost:8080/"
        },
        "id": "qhSw5BGMt413",
        "outputId": "63ca69bc-20bf-4134-a7ab-1c9517e73bd4"
      },
      "execution_count": null,
      "outputs": [
        {
          "output_type": "stream",
          "name": "stdout",
          "text": [
            "st.rfind('o'):  16\n",
            "st.rfind('o',0,15):  8\n",
            "st.rfind('kt'):  -1\n"
          ]
        }
      ]
    },
    {
      "cell_type": "code",
      "source": [
        "# index Method and count Method\n",
        "st = 'hello, how are you'\n",
        "print(\"st.index('o',5):\",st.index('o',5))    # Find the index 'o' starting from index 5\n",
        "print(\"st.rindex('o'):\",st.rindex('o'))\n",
        "print(\"st.rindex('o',0,15):\",st.rindex('o',0,15))\n",
        "\n",
        "# print(st.index(k))    # It will give exception if the String or Substring is not Found in the String\n",
        "'''\n",
        "In find() it gave -1 if anything not found but in index() it gives an exception\n",
        "'''\n",
        "\n",
        "print(\"st.count('he'):\",st.count('he'))\n",
        "print(\"st.count('me'):\",st.count('me'))"
      ],
      "metadata": {
        "colab": {
          "base_uri": "https://localhost:8080/"
        },
        "id": "HV8itifdu-K_",
        "outputId": "762fe85f-797f-4a96-a948-53c22ebb3c05"
      },
      "execution_count": null,
      "outputs": [
        {
          "output_type": "stream",
          "name": "stdout",
          "text": [
            "st.index('o',5): 8\n",
            "st.rindex('o'): 16\n",
            "st.rindex('o',0,15): 8\n",
            "st.count('he'): 1\n",
            "st.count('me'): 0\n"
          ]
        }
      ]
    },
    {
      "cell_type": "code",
      "source": [
        "# String Spaces Methods - ljust(), rjust(), center()\n",
        "s1 = 'python'\n",
        "print(s1.ljust(10))   # It will will be aligned from left and leave extra spaces on the Right\n",
        "print(s1.rjust(10))   # It will will be aligned from right and leave extra spaces on the Left\n",
        "print(s1.center(10))   # It will will be aligned in center and leave two extra spaces on both Left and Right\n",
        "\n",
        "print(s1.ljust(10,'*'))   # It will will be aligned from left and leave extra spaces on the Right and fill remaining spaces with given values\n",
        "print(s1.rjust(10,'^'))   # It will will be aligned from right and leave extra spaces on the Left and fill remaining spaces with given values\n",
        "print(s1.center(10,'~'))   # It will will be aligned in center and leave two extra spaces on both Left and Right and fill remaining spaces with given values\n",
        "# All will give a new String.\n",
        "# If we specify size less than the given String then also it will take complete word"
      ],
      "metadata": {
        "colab": {
          "base_uri": "https://localhost:8080/"
        },
        "id": "JsGUc0yCyfHg",
        "outputId": "a73f8895-dab2-46d3-9888-92abfd9d3391"
      },
      "execution_count": null,
      "outputs": [
        {
          "output_type": "stream",
          "name": "stdout",
          "text": [
            "python    \n",
            "    python\n",
            "  python  \n",
            "python****\n",
            "^^^^python\n",
            "~~python~~\n"
          ]
        }
      ]
    },
    {
      "cell_type": "code",
      "source": [
        "s2 = '    python     '\n",
        "print(\"s2.lstrip():\",s2.lstrip())     # It will remove spaces from Left\n",
        "print(\"s2.rstrip():\",s2.rstrip())     # It will remove spaces from Right\n",
        "print(\"s2.strip():\",s2.rstrip())     # It will remove spaces from both Side\n",
        "\n",
        "s3 = '... ....++aaapython'\n",
        "print(\"s3.lstrip('.')\",s3.lstrip('.'))       # It will remove given character from Left\n",
        "print(\"s3.lstrip('.+a')\",s3.lstrip('. +a'))       # It will remove multiple characters from Left\n",
        "# All will give a new String."
      ],
      "metadata": {
        "colab": {
          "base_uri": "https://localhost:8080/"
        },
        "id": "BQq4uBK90mb8",
        "outputId": "67b1d5d1-0b39-4df5-d13f-9ec5308263a2"
      },
      "execution_count": null,
      "outputs": [
        {
          "output_type": "stream",
          "name": "stdout",
          "text": [
            "s2.lstrip(): python     \n",
            "s2.rstrip():     python\n",
            "s2.strip():     python\n",
            "s3.lstrip('.')  ....++aaapython\n",
            "s3.lstrip('.+a') python\n"
          ]
        }
      ]
    },
    {
      "cell_type": "code",
      "source": [
        "# String Method Changing Cases\n",
        "st1 = \"hello friend\"\n",
        "print(\"st1.capitalize()\",st1.capitalize())    # First Character will be Capitalize\n",
        "print(\"st1.lower()\",st1.lower())        # All will be Lowercase\n",
        "print(\"st1.upper()\",st1.upper())        # All will be Uppercase\n",
        "print(\"st1.title()\",st1.title())        # First Letters of each word will be Uppercase\n",
        "\n",
        "st2 = \"I am WRITING code\"\n",
        "print(\"st2.swapcase()\",st2.swapcase())    # Change Lowercase to Uppercase and Uppercase to Lowercase\n",
        "\n",
        "st3 = \"HELLO\"\n",
        "print(\"st3.casefold()\",st3.casefold())     # It checks the cases of the String"
      ],
      "metadata": {
        "colab": {
          "base_uri": "https://localhost:8080/"
        },
        "id": "76jqGb8A6qPD",
        "outputId": "a45bb0d8-28e3-42f4-e435-383554df32c4"
      },
      "execution_count": null,
      "outputs": [
        {
          "output_type": "stream",
          "name": "stdout",
          "text": [
            "st1.capitalize() Hello friend\n",
            "st1.lower() hello friend\n",
            "st1.upper() HELLO FRIEND\n",
            "st1.title() Hello Friend\n",
            "st2.swapcase() i AM writing CODE\n",
            "st3.casefold() hello\n"
          ]
        }
      ]
    },
    {
      "cell_type": "code",
      "source": [
        "'''\n",
        "Some characters who do not have any cases are known as Caseless Character\n",
        "In casefold() then caseless character will be converted to ASCII of english characters\n",
        "'''\n",
        "st4 = 'hello'\n",
        "st5 = 'HELLO'\n",
        "print(\"st4==st5:\",st4==st5)\n",
        "print(\"st4.lower()==st5.lower():\",st4.lower()==st5.lower())\n",
        "\n",
        "stx1 = 'Bu\\u00DF'\n",
        "print(\"stx1:\",stx1)\n",
        "stx2 = 'Buss'\n",
        "print(\"stx2:\",stx2)\n",
        "print(\"stx1==stx2:\",stx1==stx2)\n",
        "print(\"stx1.lower()==stx2.lower():\",stx1.lower()==stx2.lower())\n",
        "print(\"stx1.casefold()==stx2.casefold():\",stx1.casefold()==stx2.casefold())"
      ],
      "metadata": {
        "colab": {
          "base_uri": "https://localhost:8080/"
        },
        "id": "LEHLYLdF9AUk",
        "outputId": "d5f7d3fe-9e5a-4e68-d382-4785fdde5bec"
      },
      "execution_count": null,
      "outputs": [
        {
          "output_type": "stream",
          "name": "stdout",
          "text": [
            "st4==st5: False\n",
            "st4.lower()==st5.lower(): True\n",
            "stx1: Buß\n",
            "stx2: Buss\n",
            "stx1==stx2: False\n",
            "stx1.lower()==stx2.lower(): False\n",
            "stx1.casefold()==stx2.casefold(): True\n"
          ]
        }
      ]
    },
    {
      "cell_type": "code",
      "source": [
        "# Diagraph\n",
        "'''\n",
        "Characters which are two Characters but is a Single Word are known as Diagraph\n",
        "'''\n",
        "ch1 = '\\u01C4'\n",
        "ch2 = '\\u01C6'\n",
        "print(ch1,ch2)\n",
        "print(ch1.upper(),ch2.upper())\n",
        "print(ch1.title(),ch2.title())"
      ],
      "metadata": {
        "colab": {
          "base_uri": "https://localhost:8080/"
        },
        "id": "swDUpLqV_u31",
        "outputId": "f826e5e1-95fe-4889-c552-a0add731c1fd"
      },
      "execution_count": null,
      "outputs": [
        {
          "output_type": "stream",
          "name": "stdout",
          "text": [
            "Ǆ ǆ\n",
            "Ǆ Ǆ\n",
            "ǅ ǅ\n"
          ]
        }
      ]
    },
    {
      "cell_type": "code",
      "source": [
        "# String inquiry/inspector Methods\n",
        "# All the String inquiry Methods return boolean result\n",
        "s1 = 'HELLO'\n",
        "print(\"s1.isupper():\",s1.isupper())   # Returns True if all Characters of String are Uppercase\n",
        "print(\"s1.islower():\",s1.islower())   # Returns True if all Characters of String are Lowercase\n",
        "\n",
        "s2 = \"How Are You\"\n",
        "print(\"s2.istitle():\",s2.istitle())   # Returns True if the first character of each word of the String is Uppercase\n",
        "# If String is empty then all these methods return false\n",
        "\n",
        "print(\"'H'.isupper():\",'H'.isupper())\n",
        "print(\"'H'.islower():\",'H'.islower())\n",
        "print(\"'H'.istitle():\",'H'.istitle())"
      ],
      "metadata": {
        "colab": {
          "base_uri": "https://localhost:8080/"
        },
        "id": "PBw5P2r7BF27",
        "outputId": "8b67fc0d-cddd-4b7a-e8ff-39f777a83d79"
      },
      "execution_count": null,
      "outputs": [
        {
          "output_type": "stream",
          "name": "stdout",
          "text": [
            "s1.isupper(): True\n",
            "s1.islower(): False\n",
            "s2.istitle(): True\n",
            "'H'.isupper(): True\n",
            "'H'.islower(): False\n",
            "'H'.istitle(): True\n"
          ]
        }
      ]
    },
    {
      "cell_type": "code",
      "source": [
        "# Inquiry Methods - isapnum(), isalpha(), isspace(), isascii()\n",
        "st1 = \"abc123\"\n",
        "print(\"st1.isalnum():\",st1.isalnum())\n",
        "# Returns True if String contains only alphabet and number, if it contain special character it returns false\n",
        "st2 = \"abc@123\"\n",
        "print(\"st2.isalnum():\",st2.isalnum())\n",
        "st3 = \"abcd\"\n",
        "print(\"st3.isalpha():\",st3.isalpha())     # Returns True if string contains only Alphabet\n",
        "# isalnum and isalpha works for any language\n",
        "\n",
        "st4 = \"  \"\n",
        "print(\"st4.isspace():\",st4.isspace())     # Returns True if String contains any spaces\n",
        "\n",
        "print(\"st2.isascii():\",st2.isascii())     # Returns True if String contains ascii"
      ],
      "metadata": {
        "colab": {
          "base_uri": "https://localhost:8080/"
        },
        "id": "FxmEqcFdFfcM",
        "outputId": "57c522a6-fdc9-4418-f08a-e8dcc2874bf1"
      },
      "execution_count": null,
      "outputs": [
        {
          "output_type": "stream",
          "name": "stdout",
          "text": [
            "st1.isalnum(): True\n",
            "st2.isalnum(): False\n",
            "st3.isalpha(): True\n",
            "st4.isspace(): True\n",
            "st2.isascii(): True\n"
          ]
        }
      ]
    },
    {
      "cell_type": "code",
      "source": [
        "grSt = '\\u03B1\\u03B2\\u03B3\\u03B4'       # It is UNICODE\n",
        "print(\"grSt:\",grSt)\n",
        "print(\"grSt.isalnum():\",grSt.isalnum())\n",
        "print(\"grSt.isalpha():\",grSt.isalpha())\n",
        "print(\"grSt.isascii():\",grSt.isascii())       # It contains UNICODE so it will return False"
      ],
      "metadata": {
        "colab": {
          "base_uri": "https://localhost:8080/"
        },
        "id": "aWBuV8TaH_g1",
        "outputId": "6cc562c6-1954-4777-f6c6-33051d3714f3"
      },
      "execution_count": null,
      "outputs": [
        {
          "output_type": "stream",
          "name": "stdout",
          "text": [
            "grSt: αβγδ\n",
            "grSt.isalnum(): True\n",
            "grSt.isalpha(): True\n",
            "grSt.isascii(): False\n"
          ]
        }
      ]
    },
    {
      "cell_type": "code",
      "source": [
        "# Inquiry Methods - isidentifier(), isprintable\n",
        "# isidentifier() checks whether a String is valid identifier or not\n",
        "# It will also return True for Keywords\n",
        "s1 = \"1abc\"\n",
        "s2 = \"myName\"\n",
        "print(\"s1.isidentifier():\",s1.isidentifier())\n",
        "print(\"s2.isidentifier():\",s2.isidentifier())\n",
        "\n",
        "# isprintable() checks whether a String contains printables or not\n",
        "# If our String contains \\t, \\n etc then it returns False\n",
        "s3 = '\\n'\n",
        "s4 =  'How are \\n you'\n",
        "print(\"s3.isprintable():\",s3.isprintable())\n",
        "print(\"s4.isprintable():\",s4.isprintable())\n",
        "\n",
        "s5 = '\\u03B1\\u03B2\\u03B3\\u03B4'     # UNICODEs are also identifiers and printables\n",
        "print(\"s5.isidentifier():\",s5.isidentifier())\n",
        "print(\"s5.isprintable():\",s5.isprintable())"
      ],
      "metadata": {
        "id": "oM0mhln1Jz0R",
        "colab": {
          "base_uri": "https://localhost:8080/"
        },
        "outputId": "759f764d-367e-45ab-9103-a2d233cdab6f"
      },
      "execution_count": null,
      "outputs": [
        {
          "output_type": "stream",
          "name": "stdout",
          "text": [
            "s1.isidentifier(): False\n",
            "s2.isidentifier(): True\n",
            "s3.isprintable(): False\n",
            "s4.isprintable(): False\n",
            "s5.isidentifier(): True\n",
            "s5.isprintable(): True\n"
          ]
        }
      ]
    },
    {
      "cell_type": "code",
      "source": [
        "# Inquiry Methods - isdecimal(), isdigit(), isnumeric()\n",
        "# if a String contains only numbers then isdecimal returns True\n",
        "s1 = '12324'\n",
        "s2 = '25\\u00b2'\n",
        "s3 = '36\\u00bd'\n",
        "print(\"s1=\",s1,\"s2=\",s2,\"s3=\",s3)\n",
        "print(\"s1.isdecimal():\",s1.isdecimal())\n",
        "print(\"s2.isdecimal():\",s2.isdecimal())\n",
        "\n",
        "# isdigit() Same as isdecimal() but if special like superscipt or subscript is present then\n",
        "# isdigit() will return True whereas isdecimal() will return False\n",
        "print(\"s1.isdigit():\",s1.isdigit())\n",
        "print(\"s2.isdigit():\",s2.isdigit())\n",
        "\n",
        "# If we take the example of 36½ isdecimal() will return false, isdigit() will return false but\n",
        "# isnumeric() will return True\n",
        "print(\"s3.isdecimal():\",s1.isdecimal())\n",
        "print(\"s3.isdigit():\",s2.isdigit())\n",
        "print(\"s3.isnumeric():\",s3.isnumeric())\n",
        "\n",
        "s4 = '\\u0663\\u0664\\u0665'\n",
        "print(s4)\n",
        "print(\"s4.isdecimal():\",s4.isdecimal())\n",
        "print(\"s4.isdigit():\",s4.isdigit())\n",
        "print(\"s4.isnumeric():\",s4.isnumeric())\n"
      ],
      "metadata": {
        "colab": {
          "base_uri": "https://localhost:8080/"
        },
        "id": "4kgmbHxooqbp",
        "outputId": "e58f8bba-e8d4-47d8-9d0e-900dc31ec842"
      },
      "execution_count": null,
      "outputs": [
        {
          "output_type": "stream",
          "name": "stdout",
          "text": [
            "s1= 12324 s2= 25² s3= 36½\n",
            "s1.isdecimal(): True\n",
            "s2.isdecimal(): False\n",
            "s1.isdigit(): True\n",
            "s2.isdigit(): True\n",
            "s3.isdecimal(): True\n",
            "s3.isdigit(): True\n",
            "s3.isnumeric(): True\n",
            "٣٤٥\n",
            "s4.isdecimal(): True\n",
            "s4.isdigit(): True\n",
            "s4.isnumeric(): True\n"
          ]
        }
      ]
    },
    {
      "cell_type": "code",
      "source": [
        "# String Methods: Starts with and Ends with\n",
        "# This method checks whether your String startswith or endswith the given String or Not\n",
        "# startswith('string',<startIndex><endIndex>)\n",
        "# endswith('string',<startIndex><endIndex>)\n",
        "st = 'python is very easy'\n",
        "print(\"st.startswith('python'):\",st.startswith('python'))\n",
        "print(\"st.startswith('py'):\",st.startswith('py'))\n",
        "print(\"st.startswith('is',7):\",st.startswith('is',7)) # Checks from the Starting index 7\n",
        "print(\"st.startswith('is'):\",st.startswith('is'))"
      ],
      "metadata": {
        "id": "y0JvGlcjxvqz",
        "colab": {
          "base_uri": "https://localhost:8080/"
        },
        "outputId": "bde9f2dd-c9d1-44e3-cf88-461ec383b123"
      },
      "execution_count": 5,
      "outputs": [
        {
          "output_type": "stream",
          "name": "stdout",
          "text": [
            "st.startswith('python'): True\n",
            "st.startswith('py'): True\n",
            "st.startswith('is',7): True\n",
            "st.startswith('is'): False\n"
          ]
        }
      ]
    },
    {
      "cell_type": "code",
      "source": [
        "# endswith Method\n",
        "st = 'python is very easy'\n",
        "print(\"st.endswith('easy'):\",st.endswith('easy'))\n",
        "print(\"st.endswith('is',0,9):\",st.endswith('is',0,9))\n",
        "em = 'abc@gmail.com'\n",
        "print(\"em.endswith('gmail.com'):\",em.endswith('gmail.com'))"
      ],
      "metadata": {
        "colab": {
          "base_uri": "https://localhost:8080/"
        },
        "id": "UsYGcKyYyd04",
        "outputId": "e6b63945-5d20-4030-a787-3ef0c05f14ad"
      },
      "execution_count": 9,
      "outputs": [
        {
          "output_type": "stream",
          "name": "stdout",
          "text": [
            "st.endswith('easy'): True\n",
            "st.endswith('is',0,9): True\n",
            "em.endswith('gmail.com'): True\n"
          ]
        }
      ]
    },
    {
      "cell_type": "code",
      "source": [
        "# removeuffix(prefix) this method removes the given prefix if present and if not it will give same string\n",
        "# it gives a new String after removing prefix\n",
        "\n",
        "# removeuffix(suffix) this method removes the given suffix if present and if not it will give same string\n",
        "# it gives a new String after removing suffix\n",
        "st = \"python programming\"\n",
        "print(\"st.removeprefix('py):\", st.removeprefix('py'))\n",
        "print(\"st.removesuffix('ing):\", st.removesuffix('ing'))\n",
        "print(\"st.removesuffix('zz'):\",st.removesuffix('zz'))\n"
      ],
      "metadata": {
        "colab": {
          "base_uri": "https://localhost:8080/"
        },
        "id": "CyPIdmoszvpX",
        "outputId": "9deff453-a9d8-4447-8a15-64f54eb1bd7f"
      },
      "execution_count": 13,
      "outputs": [
        {
          "output_type": "stream",
          "name": "stdout",
          "text": [
            "st.removeprefix('py): thon programming\n",
            "st.removesuffix('ing): python programm\n",
            "st.removesuffix('zz'): python programming\n"
          ]
        }
      ]
    },
    {
      "cell_type": "code",
      "source": [
        "# partition(sep) Method: It will separate the words of the string according to the sep given\n",
        "# It will form a tuple\n",
        "s1 = 'python is very easy'\n",
        "print(\"s1.partition('is')\",s1.partition('is'))\n",
        "print(\"s1.partition('s')\",s1.partition('s'))\n",
        "\n",
        "# rpartition(sep) Method: It will separate the words of the string according to the sep given in reverse order\n",
        "# It will also form a tuple\n",
        "print(\"s1.rpartition('s')\",s1.rpartition('s'))"
      ],
      "metadata": {
        "colab": {
          "base_uri": "https://localhost:8080/"
        },
        "id": "SsZISIuW4UDd",
        "outputId": "985846a2-98ea-4662-9aee-ea902d88889c"
      },
      "execution_count": 18,
      "outputs": [
        {
          "output_type": "stream",
          "name": "stdout",
          "text": [
            "s1.partition('is') ('python ', 'is', ' very easy')\n",
            "s1.partition('s') ('python i', 's', ' very easy')\n",
            "s1.rpartition('s') ('python is very ea', 's', 'y')\n"
          ]
        }
      ]
    },
    {
      "cell_type": "code",
      "source": [
        "# String methods - replace() and split() methods\n",
        "# replace(old,new,<count>) will generate new modified String, old and new parameters are mandatory, but count is optional\n",
        "s1 = 'a-b-c-d-e'\n",
        "print(\"s1.replace('-','*'):\",s1.replace('-','*'))\n",
        "print(\"s1.replace('-','*',2):\",s1.replace('-','*',2))\n",
        "\n",
        "s2 = \"abc@gmail.com\"\n",
        "print(\"s2.replace('gmail.com','orkut.com'):\",s2.replace('gmail.com','orkut.com'))"
      ],
      "metadata": {
        "colab": {
          "base_uri": "https://localhost:8080/"
        },
        "id": "sV9D5rlI5Ckk",
        "outputId": "519199c4-d116-4d99-9141-e0b838e2a85d"
      },
      "execution_count": 24,
      "outputs": [
        {
          "output_type": "stream",
          "name": "stdout",
          "text": [
            "s1.replace('-','*'): a*b*c*d*e\n",
            "s1.replace('-','*',2): a*b*c-d-e\n",
            "s2.replace('gmail.com','orkut.com'): abc@orkut.com\n"
          ]
        }
      ]
    },
    {
      "cell_type": "code",
      "source": [
        "# join() Method\n",
        "# join() method returns a String\n",
        "st1 = 'xyz'\n",
        "st2 = 'abc'\n",
        "print(\"st1.join(st2):\",st1.join(st2))\n",
        "# Its like st1 will act as separator for st2"
      ],
      "metadata": {
        "colab": {
          "base_uri": "https://localhost:8080/"
        },
        "id": "kCR5vZIUBpnl",
        "outputId": "241cdddb-c634-417a-c63b-89bd1382c1f8"
      },
      "execution_count": 29,
      "outputs": [
        {
          "output_type": "stream",
          "name": "stdout",
          "text": [
            "st1.join(st2): axyzbxyzc\n"
          ]
        }
      ]
    },
    {
      "cell_type": "code",
      "source": [
        "s1 = '-'\n",
        "li = ['david','marcus','john']\n",
        "print(\"s1.join(li):\",s1.join(li))\n",
        "# s1 will be separator in the case of s1.join(li), here s1 will be separator of li"
      ],
      "metadata": {
        "colab": {
          "base_uri": "https://localhost:8080/"
        },
        "id": "0hDL_8MZCgwX",
        "outputId": "b1ff0cf7-8758-48c2-d58e-4b104238d779"
      },
      "execution_count": 31,
      "outputs": [
        {
          "output_type": "stream",
          "name": "stdout",
          "text": [
            "s1.join(li): david-marcus-john\n"
          ]
        }
      ]
    },
    {
      "cell_type": "code",
      "source": [
        "# String Methods - split()\n",
        "# split() method by default will separate the String on the basis of spaces between them and form a List\n",
        "st = 'john david marcus'\n",
        "print(\"st.split():\",st.split())\n",
        "\n",
        "# if we give something in the split, it will separate on the basis of that String\n",
        "st2 = 'john,smith,marcus'\n",
        "print(\"st2.split(','):\",st2.split(','))\n",
        "\n",
        "# We can also mention how many we have to split\n",
        "print(\"st2.split(',',1):\",st2.split(',',1))\n",
        "\n",
        "st3 = 'lucas-martin-jarvis-john,jack'\n",
        "print(\"st3.split('-',2):\",st3.split('-',2))\n"
      ],
      "metadata": {
        "colab": {
          "base_uri": "https://localhost:8080/"
        },
        "id": "iHToR1vcDJ-g",
        "outputId": "ca5f86cb-20d2-45f7-dd66-ab4a27befa48"
      },
      "execution_count": 38,
      "outputs": [
        {
          "output_type": "stream",
          "name": "stdout",
          "text": [
            "st.split(): ['john', 'david', 'marcus']\n",
            "st2.split(','): ['john', 'smith', 'marcus']\n",
            "st2.split(',',1): ['john', 'smith,marcus']\n",
            "st3.split('-',2): ['lucas', 'martin', 'jarvis-john,jack']\n"
          ]
        }
      ]
    },
    {
      "cell_type": "code",
      "source": [
        "# rsplit() means splitting is done from the right hand side\n",
        "st3 = 'lucas-martin-jarvis-john-jack'\n",
        "print(\"st3.rsplit('-',3):\",st3.rsplit('-',3))"
      ],
      "metadata": {
        "colab": {
          "base_uri": "https://localhost:8080/"
        },
        "id": "qasA6sdwD9Cy",
        "outputId": "847d5b18-5f21-4b9e-a2fc-70efb5cd59a0"
      },
      "execution_count": 40,
      "outputs": [
        {
          "output_type": "stream",
          "name": "stdout",
          "text": [
            "st3.rsplit('-',3): ['lucas-martin', 'jarvis', 'john', 'jack']\n"
          ]
        }
      ]
    },
    {
      "cell_type": "code",
      "source": [
        "# It will split the string based on \\n, \\r and \\f\n",
        "stx = 'aaa\\nbbb\\tccc\\rddd\\feee'\n",
        "print(\"stx.splitlines:\",stx.splitlines())\n",
        "\n",
        "# It will also print all split lines characters\n",
        "print(\"stx.splitlines:\",stx.splitlines(keepends=True))"
      ],
      "metadata": {
        "colab": {
          "base_uri": "https://localhost:8080/"
        },
        "id": "Y0LXY4lEGDZc",
        "outputId": "dbefc2cf-8e21-4811-bf58-1fbc2da2ec97"
      },
      "execution_count": 43,
      "outputs": [
        {
          "output_type": "stream",
          "name": "stdout",
          "text": [
            "stx.splitlines: ['aaa', 'bbb\\tccc', 'ddd', 'eee']\n",
            "stx.splitlines: ['aaa\\n', 'bbb\\tccc\\r', 'ddd\\x0c', 'eee']\n"
          ]
        }
      ]
    },
    {
      "cell_type": "markdown",
      "source": [
        "##**End of String and its Methods**"
      ],
      "metadata": {
        "id": "8tM8HKkWGhOQ"
      }
    }
  ]
}